{
 "cells": [
  {
   "cell_type": "markdown",
   "id": "c4468445",
   "metadata": {},
   "source": [
    "## Importing the necessary python libraries to help us perform an EDA on our data!"
   ]
  },
  {
   "cell_type": "code",
   "execution_count": 1,
   "id": "85f3ad5b",
   "metadata": {
    "ExecuteTime": {
     "end_time": "2024-02-19T23:35:22.058930Z",
     "start_time": "2024-02-19T23:35:22.049664Z"
    }
   },
   "outputs": [],
   "source": [
    "import pandas as pd\n",
    "\n",
    "%matplotlib inline\n",
    "import matplotlib.pyplot as plt\n",
    "import seaborn as sns"
   ]
  },
  {
   "cell_type": "markdown",
   "id": "39df66e5",
   "metadata": {},
   "source": [
    "## Reading our data into Jupyter"
   ]
  },
  {
   "cell_type": "code",
   "execution_count": 2,
   "id": "e58dfd43",
   "metadata": {
    "ExecuteTime": {
     "end_time": "2024-02-19T23:35:26.843750Z",
     "start_time": "2024-02-19T23:35:26.226809Z"
    }
   },
   "outputs": [
    {
     "data": {
      "text/plain": "      BRAND CPU BRAND CPU CORE  CPU GENERATION CPU FAMILY  RAM SIZE  \\\n0      ACER     Intel  Core i3               8          U         4   \n1      ACER     Intel  Core i3               8          U         4   \n2      ACER     Intel  Core i3              10         G1         8   \n3     APPLE     Intel  Core i3               8         HQ         8   \n4      ASUS     Intel  Core i3               7          U         4   \n..      ...       ...      ...             ...        ...       ...   \n249  HUAWEI       AMD  Ryzen 7               3          U         8   \n250  HUAWEI       AMD  Ryzen 7               3          U         8   \n251  LENOVO       AMD  Ryzen 7               3          U         8   \n252  LENOVO       AMD  Ryzen 7               3          U        16   \n253  LENOVO       AMD  Ryzen 7               3          U        16   \n\n     RAM(DDR) TYPE DISK TYPE  SSD SIZE  HDD SIZE GPU BRAND         GPU TYPE  \\\n0                4       SSD       256         0     INTEL       INTEGRATED   \n1                4       SSD       256         0     INTEL       INTEGRATED   \n2                4       HDD       512         0     INTEL       INTEGRATED   \n3                4       SSD       512         0       AMD  RADEON PRO 555X   \n4                4       SSD       128         0     INTEL       INTEGRATED   \n..             ...       ...       ...       ...       ...              ...   \n249              4       SSD       512         0       AMD       INTEGRATED   \n250              4       SSD       512         0       AMD       INTEGRATED   \n251              4       SSD       512         0       AMD       INTEGRATED   \n252              4       SSD       512         0       AMD       INTEGRATED   \n253              4       SSD       512         0       AMD       INTEGRATED   \n\n     SCREEN SIZE SCREEN RESOLUTION STATE   PRICE  \n0           14.1                HD  USED   79000  \n1           14.1                HD  USED   79000  \n2           14.0               FHD  USED   88000  \n3           13.3               UHD  USED  195000  \n4           14.1               FHD  USED   56000  \n..           ...               ...   ...     ...  \n249         13.3               FHD  USED  138000  \n250         14.0               FHD   NEW  185000  \n251         14.0               FHD  USED  112000  \n252         14.1               FHD  USED  135000  \n253         14.1               FHD  USED  135000  \n\n[254 rows x 16 columns]",
      "text/html": "<div>\n<style scoped>\n    .dataframe tbody tr th:only-of-type {\n        vertical-align: middle;\n    }\n\n    .dataframe tbody tr th {\n        vertical-align: top;\n    }\n\n    .dataframe thead th {\n        text-align: right;\n    }\n</style>\n<table border=\"1\" class=\"dataframe\">\n  <thead>\n    <tr style=\"text-align: right;\">\n      <th></th>\n      <th>BRAND</th>\n      <th>CPU BRAND</th>\n      <th>CPU CORE</th>\n      <th>CPU GENERATION</th>\n      <th>CPU FAMILY</th>\n      <th>RAM SIZE</th>\n      <th>RAM(DDR) TYPE</th>\n      <th>DISK TYPE</th>\n      <th>SSD SIZE</th>\n      <th>HDD SIZE</th>\n      <th>GPU BRAND</th>\n      <th>GPU TYPE</th>\n      <th>SCREEN SIZE</th>\n      <th>SCREEN RESOLUTION</th>\n      <th>STATE</th>\n      <th>PRICE</th>\n    </tr>\n  </thead>\n  <tbody>\n    <tr>\n      <th>0</th>\n      <td>ACER</td>\n      <td>Intel</td>\n      <td>Core i3</td>\n      <td>8</td>\n      <td>U</td>\n      <td>4</td>\n      <td>4</td>\n      <td>SSD</td>\n      <td>256</td>\n      <td>0</td>\n      <td>INTEL</td>\n      <td>INTEGRATED</td>\n      <td>14.1</td>\n      <td>HD</td>\n      <td>USED</td>\n      <td>79000</td>\n    </tr>\n    <tr>\n      <th>1</th>\n      <td>ACER</td>\n      <td>Intel</td>\n      <td>Core i3</td>\n      <td>8</td>\n      <td>U</td>\n      <td>4</td>\n      <td>4</td>\n      <td>SSD</td>\n      <td>256</td>\n      <td>0</td>\n      <td>INTEL</td>\n      <td>INTEGRATED</td>\n      <td>14.1</td>\n      <td>HD</td>\n      <td>USED</td>\n      <td>79000</td>\n    </tr>\n    <tr>\n      <th>2</th>\n      <td>ACER</td>\n      <td>Intel</td>\n      <td>Core i3</td>\n      <td>10</td>\n      <td>G1</td>\n      <td>8</td>\n      <td>4</td>\n      <td>HDD</td>\n      <td>512</td>\n      <td>0</td>\n      <td>INTEL</td>\n      <td>INTEGRATED</td>\n      <td>14.0</td>\n      <td>FHD</td>\n      <td>USED</td>\n      <td>88000</td>\n    </tr>\n    <tr>\n      <th>3</th>\n      <td>APPLE</td>\n      <td>Intel</td>\n      <td>Core i3</td>\n      <td>8</td>\n      <td>HQ</td>\n      <td>8</td>\n      <td>4</td>\n      <td>SSD</td>\n      <td>512</td>\n      <td>0</td>\n      <td>AMD</td>\n      <td>RADEON PRO 555X</td>\n      <td>13.3</td>\n      <td>UHD</td>\n      <td>USED</td>\n      <td>195000</td>\n    </tr>\n    <tr>\n      <th>4</th>\n      <td>ASUS</td>\n      <td>Intel</td>\n      <td>Core i3</td>\n      <td>7</td>\n      <td>U</td>\n      <td>4</td>\n      <td>4</td>\n      <td>SSD</td>\n      <td>128</td>\n      <td>0</td>\n      <td>INTEL</td>\n      <td>INTEGRATED</td>\n      <td>14.1</td>\n      <td>FHD</td>\n      <td>USED</td>\n      <td>56000</td>\n    </tr>\n    <tr>\n      <th>...</th>\n      <td>...</td>\n      <td>...</td>\n      <td>...</td>\n      <td>...</td>\n      <td>...</td>\n      <td>...</td>\n      <td>...</td>\n      <td>...</td>\n      <td>...</td>\n      <td>...</td>\n      <td>...</td>\n      <td>...</td>\n      <td>...</td>\n      <td>...</td>\n      <td>...</td>\n      <td>...</td>\n    </tr>\n    <tr>\n      <th>249</th>\n      <td>HUAWEI</td>\n      <td>AMD</td>\n      <td>Ryzen 7</td>\n      <td>3</td>\n      <td>U</td>\n      <td>8</td>\n      <td>4</td>\n      <td>SSD</td>\n      <td>512</td>\n      <td>0</td>\n      <td>AMD</td>\n      <td>INTEGRATED</td>\n      <td>13.3</td>\n      <td>FHD</td>\n      <td>USED</td>\n      <td>138000</td>\n    </tr>\n    <tr>\n      <th>250</th>\n      <td>HUAWEI</td>\n      <td>AMD</td>\n      <td>Ryzen 7</td>\n      <td>3</td>\n      <td>U</td>\n      <td>8</td>\n      <td>4</td>\n      <td>SSD</td>\n      <td>512</td>\n      <td>0</td>\n      <td>AMD</td>\n      <td>INTEGRATED</td>\n      <td>14.0</td>\n      <td>FHD</td>\n      <td>NEW</td>\n      <td>185000</td>\n    </tr>\n    <tr>\n      <th>251</th>\n      <td>LENOVO</td>\n      <td>AMD</td>\n      <td>Ryzen 7</td>\n      <td>3</td>\n      <td>U</td>\n      <td>8</td>\n      <td>4</td>\n      <td>SSD</td>\n      <td>512</td>\n      <td>0</td>\n      <td>AMD</td>\n      <td>INTEGRATED</td>\n      <td>14.0</td>\n      <td>FHD</td>\n      <td>USED</td>\n      <td>112000</td>\n    </tr>\n    <tr>\n      <th>252</th>\n      <td>LENOVO</td>\n      <td>AMD</td>\n      <td>Ryzen 7</td>\n      <td>3</td>\n      <td>U</td>\n      <td>16</td>\n      <td>4</td>\n      <td>SSD</td>\n      <td>512</td>\n      <td>0</td>\n      <td>AMD</td>\n      <td>INTEGRATED</td>\n      <td>14.1</td>\n      <td>FHD</td>\n      <td>USED</td>\n      <td>135000</td>\n    </tr>\n    <tr>\n      <th>253</th>\n      <td>LENOVO</td>\n      <td>AMD</td>\n      <td>Ryzen 7</td>\n      <td>3</td>\n      <td>U</td>\n      <td>16</td>\n      <td>4</td>\n      <td>SSD</td>\n      <td>512</td>\n      <td>0</td>\n      <td>AMD</td>\n      <td>INTEGRATED</td>\n      <td>14.1</td>\n      <td>FHD</td>\n      <td>USED</td>\n      <td>135000</td>\n    </tr>\n  </tbody>\n</table>\n<p>254 rows × 16 columns</p>\n</div>"
     },
     "execution_count": 2,
     "metadata": {},
     "output_type": "execute_result"
    }
   ],
   "source": [
    "import os\n",
    "\n",
    "# Get the absolute path of the current working directory\n",
    "current_directory = os.getcwd()\n",
    "\n",
    "# Construct the relative path to your data folder and the Excel file\n",
    "relative_path = 'data/laptop_data.xlsx'\n",
    "\n",
    "# Combine the current directory with the relative path to get the absolute path to your Excel file\n",
    "file_path = os.path.join(current_directory, relative_path)\n",
    "\n",
    "# Read the Excel file using the constructed file path\n",
    "df = pd.read_excel(file_path)\n",
    "\n",
    "df"
   ]
  },
  {
   "cell_type": "markdown",
   "id": "edb72897",
   "metadata": {},
   "source": [
    "## Display the number of Rows and Columns of our dataset"
   ]
  },
  {
   "cell_type": "code",
   "execution_count": 3,
   "id": "c8bb0c3e",
   "metadata": {
    "ExecuteTime": {
     "end_time": "2024-02-19T23:35:27.869865Z",
     "start_time": "2024-02-19T23:35:27.867043Z"
    }
   },
   "outputs": [
    {
     "data": {
      "text/plain": "(254, 16)"
     },
     "execution_count": 3,
     "metadata": {},
     "output_type": "execute_result"
    }
   ],
   "source": [
    "df.shape"
   ]
  },
  {
   "cell_type": "markdown",
   "id": "c5d19f97",
   "metadata": {},
   "source": [
    "## Display the header of each Column"
   ]
  },
  {
   "cell_type": "code",
   "execution_count": 4,
   "id": "e9fad0f4",
   "metadata": {
    "ExecuteTime": {
     "end_time": "2024-02-19T23:35:28.431290Z",
     "start_time": "2024-02-19T23:35:28.428295Z"
    }
   },
   "outputs": [
    {
     "data": {
      "text/plain": "Index(['BRAND', 'CPU BRAND', 'CPU CORE', 'CPU GENERATION', 'CPU FAMILY',\n       'RAM SIZE', 'RAM(DDR) TYPE', 'DISK TYPE', 'SSD SIZE', 'HDD SIZE',\n       'GPU BRAND', 'GPU TYPE', 'SCREEN SIZE', 'SCREEN RESOLUTION', 'STATE',\n       'PRICE'],\n      dtype='object')"
     },
     "execution_count": 4,
     "metadata": {},
     "output_type": "execute_result"
    }
   ],
   "source": [
    "df.columns"
   ]
  },
  {
   "cell_type": "markdown",
   "id": "6269f83a",
   "metadata": {},
   "source": [
    "## Check for null values in our dataset"
   ]
  },
  {
   "cell_type": "code",
   "execution_count": 5,
   "id": "ec6cd3b3",
   "metadata": {
    "ExecuteTime": {
     "end_time": "2024-02-19T23:35:29.634816Z",
     "start_time": "2024-02-19T23:35:29.629744Z"
    }
   },
   "outputs": [
    {
     "data": {
      "text/plain": "BRAND                0\nCPU BRAND            0\nCPU CORE             0\nCPU GENERATION       0\nCPU FAMILY           0\nRAM SIZE             0\nRAM(DDR) TYPE        0\nDISK TYPE            0\nSSD SIZE             0\nHDD SIZE             0\nGPU BRAND            0\nGPU TYPE             0\nSCREEN SIZE          0\nSCREEN RESOLUTION    0\nSTATE                0\nPRICE                0\ndtype: int64"
     },
     "execution_count": 5,
     "metadata": {},
     "output_type": "execute_result"
    }
   ],
   "source": [
    "df.isnull().sum()"
   ]
  },
  {
   "cell_type": "code",
   "execution_count": 6,
   "id": "4c586fd9",
   "metadata": {
    "ExecuteTime": {
     "end_time": "2024-02-19T23:35:30.119595Z",
     "start_time": "2024-02-19T23:35:30.116978Z"
    }
   },
   "outputs": [],
   "source": [
    "data = df"
   ]
  },
  {
   "cell_type": "markdown",
   "id": "34ec8e97",
   "metadata": {},
   "source": [
    "## Name of Label Column"
   ]
  },
  {
   "cell_type": "markdown",
   "id": "4986c8e7",
   "metadata": {},
   "source": [
    "### In this case, our label column is the PRICE Column as it will be unique for each laptop according to it unique properties."
   ]
  },
  {
   "cell_type": "code",
   "execution_count": 7,
   "id": "6b37334a",
   "metadata": {
    "ExecuteTime": {
     "end_time": "2024-02-19T23:35:32.123670Z",
     "start_time": "2024-02-19T23:35:32.116907Z"
    }
   },
   "outputs": [],
   "source": [
    "Label = ['PRICE']"
   ]
  },
  {
   "cell_type": "markdown",
   "id": "66932b27",
   "metadata": {},
   "source": [
    "## Display the DataTypes of each Column"
   ]
  },
  {
   "cell_type": "code",
   "execution_count": 8,
   "id": "defb529f",
   "metadata": {
    "ExecuteTime": {
     "end_time": "2024-02-19T23:35:32.913412Z",
     "start_time": "2024-02-19T23:35:32.881503Z"
    }
   },
   "outputs": [
    {
     "data": {
      "text/plain": "BRAND                 object\nCPU BRAND             object\nCPU CORE              object\nCPU GENERATION         int64\nCPU FAMILY            object\nRAM SIZE               int64\nRAM(DDR) TYPE          int64\nDISK TYPE             object\nSSD SIZE               int64\nHDD SIZE               int64\nGPU BRAND             object\nGPU TYPE              object\nSCREEN SIZE          float64\nSCREEN RESOLUTION     object\nSTATE                 object\nPRICE                  int64\ndtype: object"
     },
     "execution_count": 8,
     "metadata": {},
     "output_type": "execute_result"
    }
   ],
   "source": [
    "data.dtypes"
   ]
  },
  {
   "cell_type": "markdown",
   "id": "c9a40add",
   "metadata": {},
   "source": [
    "## Display the DataTypes of each Column"
   ]
  },
  {
   "cell_type": "code",
   "execution_count": 9,
   "id": "fa7e138a",
   "metadata": {
    "ExecuteTime": {
     "end_time": "2024-02-19T23:35:33.947984Z",
     "start_time": "2024-02-19T23:35:33.940766Z"
    }
   },
   "outputs": [
    {
     "name": "stdout",
     "output_type": "stream",
     "text": [
      "<class 'pandas.core.frame.DataFrame'>\n",
      "RangeIndex: 254 entries, 0 to 253\n",
      "Data columns (total 16 columns):\n",
      " #   Column             Non-Null Count  Dtype  \n",
      "---  ------             --------------  -----  \n",
      " 0   BRAND              254 non-null    object \n",
      " 1   CPU BRAND          254 non-null    object \n",
      " 2   CPU CORE           254 non-null    object \n",
      " 3   CPU GENERATION     254 non-null    int64  \n",
      " 4   CPU FAMILY         254 non-null    object \n",
      " 5   RAM SIZE           254 non-null    int64  \n",
      " 6   RAM(DDR) TYPE      254 non-null    int64  \n",
      " 7   DISK TYPE          254 non-null    object \n",
      " 8   SSD SIZE           254 non-null    int64  \n",
      " 9   HDD SIZE           254 non-null    int64  \n",
      " 10  GPU BRAND          254 non-null    object \n",
      " 11  GPU TYPE           254 non-null    object \n",
      " 12  SCREEN SIZE        254 non-null    float64\n",
      " 13  SCREEN RESOLUTION  254 non-null    object \n",
      " 14  STATE              254 non-null    object \n",
      " 15  PRICE              254 non-null    int64  \n",
      "dtypes: float64(1), int64(6), object(9)\n",
      "memory usage: 31.9+ KB\n"
     ]
    }
   ],
   "source": [
    "data.info()"
   ]
  },
  {
   "cell_type": "markdown",
   "id": "96f95c51",
   "metadata": {},
   "source": [
    "## Display some Statistics for the Numerical Columns"
   ]
  },
  {
   "cell_type": "code",
   "execution_count": 10,
   "id": "a9b083e1",
   "metadata": {
    "ExecuteTime": {
     "end_time": "2024-02-19T23:35:35.582520Z",
     "start_time": "2024-02-19T23:35:35.566795Z"
    }
   },
   "outputs": [
    {
     "data": {
      "text/plain": "       CPU GENERATION   RAM SIZE  RAM(DDR) TYPE    SSD SIZE  HDD SIZE  \\\ncount      254.000000  254.00000          254.0  254.000000     254.0   \nmean         7.511811    9.84252            4.0  344.464567       0.0   \nstd          2.423097    3.75626            0.0  140.145339       0.0   \nmin          2.000000    4.00000            4.0  128.000000       0.0   \n25%          6.000000    8.00000            4.0  256.000000       0.0   \n50%          8.000000    8.00000            4.0  256.000000       0.0   \n75%         10.000000   16.00000            4.0  512.000000       0.0   \nmax         11.000000   16.00000            4.0  750.000000       0.0   \n\n       SCREEN SIZE          PRICE  \ncount   254.000000     254.000000  \nmean     14.112992  118481.102362  \nstd       1.089887   38664.969658  \nmin      11.600000   46000.000000  \n25%      13.300000   88000.000000  \n50%      14.000000  114000.000000  \n75%      15.000000  139750.000000  \nmax      17.300000  225000.000000  ",
      "text/html": "<div>\n<style scoped>\n    .dataframe tbody tr th:only-of-type {\n        vertical-align: middle;\n    }\n\n    .dataframe tbody tr th {\n        vertical-align: top;\n    }\n\n    .dataframe thead th {\n        text-align: right;\n    }\n</style>\n<table border=\"1\" class=\"dataframe\">\n  <thead>\n    <tr style=\"text-align: right;\">\n      <th></th>\n      <th>CPU GENERATION</th>\n      <th>RAM SIZE</th>\n      <th>RAM(DDR) TYPE</th>\n      <th>SSD SIZE</th>\n      <th>HDD SIZE</th>\n      <th>SCREEN SIZE</th>\n      <th>PRICE</th>\n    </tr>\n  </thead>\n  <tbody>\n    <tr>\n      <th>count</th>\n      <td>254.000000</td>\n      <td>254.00000</td>\n      <td>254.0</td>\n      <td>254.000000</td>\n      <td>254.0</td>\n      <td>254.000000</td>\n      <td>254.000000</td>\n    </tr>\n    <tr>\n      <th>mean</th>\n      <td>7.511811</td>\n      <td>9.84252</td>\n      <td>4.0</td>\n      <td>344.464567</td>\n      <td>0.0</td>\n      <td>14.112992</td>\n      <td>118481.102362</td>\n    </tr>\n    <tr>\n      <th>std</th>\n      <td>2.423097</td>\n      <td>3.75626</td>\n      <td>0.0</td>\n      <td>140.145339</td>\n      <td>0.0</td>\n      <td>1.089887</td>\n      <td>38664.969658</td>\n    </tr>\n    <tr>\n      <th>min</th>\n      <td>2.000000</td>\n      <td>4.00000</td>\n      <td>4.0</td>\n      <td>128.000000</td>\n      <td>0.0</td>\n      <td>11.600000</td>\n      <td>46000.000000</td>\n    </tr>\n    <tr>\n      <th>25%</th>\n      <td>6.000000</td>\n      <td>8.00000</td>\n      <td>4.0</td>\n      <td>256.000000</td>\n      <td>0.0</td>\n      <td>13.300000</td>\n      <td>88000.000000</td>\n    </tr>\n    <tr>\n      <th>50%</th>\n      <td>8.000000</td>\n      <td>8.00000</td>\n      <td>4.0</td>\n      <td>256.000000</td>\n      <td>0.0</td>\n      <td>14.000000</td>\n      <td>114000.000000</td>\n    </tr>\n    <tr>\n      <th>75%</th>\n      <td>10.000000</td>\n      <td>16.00000</td>\n      <td>4.0</td>\n      <td>512.000000</td>\n      <td>0.0</td>\n      <td>15.000000</td>\n      <td>139750.000000</td>\n    </tr>\n    <tr>\n      <th>max</th>\n      <td>11.000000</td>\n      <td>16.00000</td>\n      <td>4.0</td>\n      <td>750.000000</td>\n      <td>0.0</td>\n      <td>17.300000</td>\n      <td>225000.000000</td>\n    </tr>\n  </tbody>\n</table>\n</div>"
     },
     "execution_count": 10,
     "metadata": {},
     "output_type": "execute_result"
    }
   ],
   "source": [
    "data.describe()"
   ]
  },
  {
   "cell_type": "markdown",
   "id": "1c7bffd6",
   "metadata": {},
   "source": [
    "# DEFINING THE CATEGORICAL COLUMNS"
   ]
  },
  {
   "cell_type": "markdown",
   "id": "26b10d01",
   "metadata": {},
   "source": [
    "## Identifying the Unique Values in our DataFrame Columns"
   ]
  },
  {
   "cell_type": "code",
   "execution_count": 11,
   "id": "36081759",
   "metadata": {
    "ExecuteTime": {
     "end_time": "2024-02-19T23:35:37.110363Z",
     "start_time": "2024-02-19T23:35:37.104434Z"
    }
   },
   "outputs": [
    {
     "data": {
      "text/plain": "['MICROSOFT',\n 'DELL',\n 'MSI',\n 'TOSHIBA',\n 'APPLE',\n 'HP',\n 'ASUS',\n 'LENOVO',\n 'HUAWEI',\n 'ACER']"
     },
     "execution_count": 11,
     "metadata": {},
     "output_type": "execute_result"
    }
   ],
   "source": [
    "list(set(list(data['BRAND'])))"
   ]
  },
  {
   "cell_type": "code",
   "execution_count": 12,
   "id": "6ee46fc0",
   "metadata": {
    "ExecuteTime": {
     "end_time": "2024-02-19T23:35:37.817525Z",
     "start_time": "2024-02-19T23:35:37.743693Z"
    }
   },
   "outputs": [
    {
     "data": {
      "text/plain": "['intel', 'AMD', 'Intel']"
     },
     "execution_count": 12,
     "metadata": {},
     "output_type": "execute_result"
    }
   ],
   "source": [
    "list(set(list(data['CPU BRAND'])))"
   ]
  },
  {
   "cell_type": "code",
   "execution_count": 13,
   "id": "ab2b6339",
   "metadata": {
    "ExecuteTime": {
     "end_time": "2024-02-19T23:35:38.572673Z",
     "start_time": "2024-02-19T23:35:38.569194Z"
    }
   },
   "outputs": [
    {
     "data": {
      "text/plain": "['Core i3', 'Ryzen 3', 'Core i5', 'Ryzen 7', 'Ryzen 5', 'Core i7']"
     },
     "execution_count": 13,
     "metadata": {},
     "output_type": "execute_result"
    }
   ],
   "source": [
    "list(set(list(data['CPU CORE'])))"
   ]
  },
  {
   "cell_type": "code",
   "execution_count": 14,
   "id": "baba7de4",
   "metadata": {
    "ExecuteTime": {
     "end_time": "2024-02-19T23:35:39.077921Z",
     "start_time": "2024-02-19T23:35:39.074351Z"
    }
   },
   "outputs": [
    {
     "data": {
      "text/plain": "[2, 3, 4, 5, 6, 7, 8, 9, 10, 11]"
     },
     "execution_count": 14,
     "metadata": {},
     "output_type": "execute_result"
    }
   ],
   "source": [
    "list(set(list(data['CPU GENERATION'])))"
   ]
  },
  {
   "cell_type": "code",
   "execution_count": 15,
   "id": "94df10d5",
   "metadata": {
    "ExecuteTime": {
     "end_time": "2024-02-19T23:35:39.475303Z",
     "start_time": "2024-02-19T23:35:39.472484Z"
    }
   },
   "outputs": [
    {
     "data": {
      "text/plain": "['H ', 'U', 'H', 'HQ', 'M', 'YU', 'G', 'G7', 'G1']"
     },
     "execution_count": 15,
     "metadata": {},
     "output_type": "execute_result"
    }
   ],
   "source": [
    "list(set(list(data['CPU FAMILY'])))"
   ]
  },
  {
   "cell_type": "code",
   "execution_count": 16,
   "id": "66c8b376",
   "metadata": {
    "ExecuteTime": {
     "end_time": "2024-02-19T23:35:39.979263Z",
     "start_time": "2024-02-19T23:35:39.973564Z"
    }
   },
   "outputs": [
    {
     "data": {
      "text/plain": "[8, 16, 4, 12]"
     },
     "execution_count": 16,
     "metadata": {},
     "output_type": "execute_result"
    }
   ],
   "source": [
    "list(set(list(data['RAM SIZE'])))"
   ]
  },
  {
   "cell_type": "code",
   "execution_count": 17,
   "id": "e1da2a65",
   "metadata": {
    "ExecuteTime": {
     "end_time": "2024-02-19T23:35:40.445605Z",
     "start_time": "2024-02-19T23:35:40.442815Z"
    }
   },
   "outputs": [
    {
     "data": {
      "text/plain": "[4]"
     },
     "execution_count": 17,
     "metadata": {},
     "output_type": "execute_result"
    }
   ],
   "source": [
    "list(set(list(data['RAM(DDR) TYPE'])))"
   ]
  },
  {
   "cell_type": "code",
   "execution_count": 18,
   "id": "84d46db5",
   "metadata": {
    "ExecuteTime": {
     "end_time": "2024-02-19T23:35:41.040393Z",
     "start_time": "2024-02-19T23:35:41.038144Z"
    }
   },
   "outputs": [
    {
     "data": {
      "text/plain": "['HDD', 'SSD']"
     },
     "execution_count": 18,
     "metadata": {},
     "output_type": "execute_result"
    }
   ],
   "source": [
    "list(set(list(data['DISK TYPE'])))"
   ]
  },
  {
   "cell_type": "code",
   "execution_count": 19,
   "id": "82802678",
   "metadata": {
    "ExecuteTime": {
     "end_time": "2024-02-19T23:35:41.401290Z",
     "start_time": "2024-02-19T23:35:41.397534Z"
    }
   },
   "outputs": [
    {
     "data": {
      "text/plain": "[256, 512, 128, 750, 240, 180]"
     },
     "execution_count": 19,
     "metadata": {},
     "output_type": "execute_result"
    }
   ],
   "source": [
    "list(set(list(data['SSD SIZE'])))"
   ]
  },
  {
   "cell_type": "code",
   "execution_count": 20,
   "id": "dfa1cd61",
   "metadata": {
    "ExecuteTime": {
     "end_time": "2024-02-19T23:35:41.567345Z",
     "start_time": "2024-02-19T23:35:41.564176Z"
    }
   },
   "outputs": [
    {
     "data": {
      "text/plain": "[0]"
     },
     "execution_count": 20,
     "metadata": {},
     "output_type": "execute_result"
    }
   ],
   "source": [
    "list(set(list(data['HDD SIZE'])))"
   ]
  },
  {
   "cell_type": "code",
   "execution_count": 21,
   "id": "c9dcbf84",
   "metadata": {
    "ExecuteTime": {
     "end_time": "2024-02-19T23:35:42.349647Z",
     "start_time": "2024-02-19T23:35:42.347174Z"
    }
   },
   "outputs": [
    {
     "data": {
      "text/plain": "['NVIDIA', 'AMD', 'INTEL']"
     },
     "execution_count": 21,
     "metadata": {},
     "output_type": "execute_result"
    }
   ],
   "source": [
    "list(set(list(data['GPU BRAND'])))"
   ]
  },
  {
   "cell_type": "code",
   "execution_count": 22,
   "id": "676fbe36",
   "metadata": {
    "ExecuteTime": {
     "end_time": "2024-02-19T23:35:42.968725Z",
     "start_time": "2024-02-19T23:35:42.961145Z"
    }
   },
   "outputs": [
    {
     "data": {
      "text/plain": "['RADEON R5 M330',\n 'GeForce GTX 1050TI',\n 'GeForce GTX 1050Ti',\n 'QUADRO P520',\n 'GeForce RTX 2060',\n 'GeForce GTX 940MX',\n 'RADEON PRO 555X',\n 'GeForce GTX MX130',\n 'GeForce GTX 1660Ti',\n 'GeForce GTX 1060',\n 'GeForce GTX 950M',\n 'GeForce GTX MX250',\n 'GeForce MX330',\n 'GeForce GTX 1050',\n 'GeForce GTX MX330',\n 'GeForce GTX 1650',\n 'GeForce 940MX',\n 'GeForce GTX MX150',\n 'GeForce MX230',\n 'INTEGRATED',\n 'GeForce GTX MX230',\n 'GeForce GTX 1650Ti']"
     },
     "execution_count": 22,
     "metadata": {},
     "output_type": "execute_result"
    }
   ],
   "source": [
    "list(set(list(data['GPU TYPE'])))"
   ]
  },
  {
   "cell_type": "code",
   "execution_count": 23,
   "id": "7bf760ba",
   "metadata": {
    "ExecuteTime": {
     "end_time": "2024-02-19T23:35:43.929704Z",
     "start_time": "2024-02-19T23:35:43.926977Z"
    }
   },
   "outputs": [
    {
     "data": {
      "text/plain": "[13.1,\n 13.4,\n 15.1,\n 11.6,\n 12.5,\n 13.0,\n 13.3,\n 15.6,\n 14.1,\n 14.0,\n 15.0,\n 17.0,\n 12.4,\n 13.5,\n 15.4,\n 15.5,\n 17.3,\n 12.0]"
     },
     "execution_count": 23,
     "metadata": {},
     "output_type": "execute_result"
    }
   ],
   "source": [
    "list(set(list(data['SCREEN SIZE'])))"
   ]
  },
  {
   "cell_type": "code",
   "execution_count": 24,
   "id": "5a481eab",
   "metadata": {
    "ExecuteTime": {
     "end_time": "2024-02-19T23:35:44.668159Z",
     "start_time": "2024-02-19T23:35:44.665598Z"
    }
   },
   "outputs": [
    {
     "data": {
      "text/plain": "['FHD', 'HD', 'UHD', 'QHD ', 'QHD']"
     },
     "execution_count": 24,
     "metadata": {},
     "output_type": "execute_result"
    }
   ],
   "source": [
    "list(set(list(data['SCREEN RESOLUTION'])))"
   ]
  },
  {
   "cell_type": "code",
   "execution_count": 25,
   "id": "70f54af8",
   "metadata": {
    "ExecuteTime": {
     "end_time": "2024-02-19T23:35:47.161279Z",
     "start_time": "2024-02-19T23:35:47.153192Z"
    }
   },
   "outputs": [
    {
     "data": {
      "text/plain": "['USED', 'NEW']"
     },
     "execution_count": 25,
     "metadata": {},
     "output_type": "execute_result"
    }
   ],
   "source": [
    "list(set(list(data['STATE'])))"
   ]
  },
  {
   "cell_type": "code",
   "execution_count": null,
   "id": "7b9b7b92",
   "metadata": {},
   "outputs": [],
   "source": []
  },
  {
   "cell_type": "code",
   "execution_count": null,
   "id": "eadb41d9",
   "metadata": {},
   "outputs": [],
   "source": []
  },
  {
   "cell_type": "markdown",
   "id": "ed203117",
   "metadata": {},
   "source": [
    "## Length of Unique Values In Our DataFrame Columns"
   ]
  },
  {
   "cell_type": "code",
   "execution_count": null,
   "id": "503b3914",
   "metadata": {},
   "outputs": [],
   "source": [
    "data['BRAND'].value_counts().count()"
   ]
  },
  {
   "cell_type": "code",
   "execution_count": null,
   "id": "17c5735f",
   "metadata": {},
   "outputs": [],
   "source": [
    "data['CPU BRAND'].value_counts().count()"
   ]
  },
  {
   "cell_type": "code",
   "execution_count": null,
   "id": "72651c07",
   "metadata": {},
   "outputs": [],
   "source": [
    "data['CPU CORE'].value_counts().count()"
   ]
  },
  {
   "cell_type": "code",
   "execution_count": null,
   "id": "a8959ed8",
   "metadata": {},
   "outputs": [],
   "source": [
    "data['CPU GENERATION'].value_counts().count()"
   ]
  },
  {
   "cell_type": "code",
   "execution_count": null,
   "id": "5c694d44",
   "metadata": {},
   "outputs": [],
   "source": [
    "data['CPU FAMILY'].value_counts().count()"
   ]
  },
  {
   "cell_type": "code",
   "execution_count": null,
   "id": "3babc24b",
   "metadata": {},
   "outputs": [],
   "source": [
    "data['RAM SIZE'].value_counts().count()"
   ]
  },
  {
   "cell_type": "code",
   "execution_count": null,
   "id": "0a860f39",
   "metadata": {},
   "outputs": [],
   "source": [
    "data['RAM(DDR) TYPE'].value_counts().count()"
   ]
  },
  {
   "cell_type": "code",
   "execution_count": null,
   "id": "c02f22a2",
   "metadata": {},
   "outputs": [],
   "source": [
    "data['DISK TYPE'].value_counts().count()"
   ]
  },
  {
   "cell_type": "code",
   "execution_count": null,
   "id": "90257671",
   "metadata": {},
   "outputs": [],
   "source": [
    "data['SSD SIZE'].value_counts().count()"
   ]
  },
  {
   "cell_type": "code",
   "execution_count": null,
   "id": "cce662e2",
   "metadata": {},
   "outputs": [],
   "source": [
    "data['HDD SIZE'].value_counts().count()"
   ]
  },
  {
   "cell_type": "code",
   "execution_count": null,
   "id": "e53ca41e",
   "metadata": {},
   "outputs": [],
   "source": [
    "data['GPU BRAND'].value_counts().count()"
   ]
  },
  {
   "cell_type": "code",
   "execution_count": null,
   "id": "9939b142",
   "metadata": {},
   "outputs": [],
   "source": [
    "data['GPU TYPE'].value_counts().count()"
   ]
  },
  {
   "cell_type": "code",
   "execution_count": null,
   "id": "b4bda0ce",
   "metadata": {},
   "outputs": [],
   "source": [
    "data['SCREEN SIZE'].value_counts().count()"
   ]
  },
  {
   "cell_type": "code",
   "execution_count": null,
   "id": "bffaa87f",
   "metadata": {},
   "outputs": [],
   "source": [
    "data['SCREEN RESOLUTION'].value_counts().count()"
   ]
  },
  {
   "cell_type": "code",
   "execution_count": null,
   "id": "4103ab9d",
   "metadata": {},
   "outputs": [],
   "source": [
    "data['STATE'].value_counts().count()"
   ]
  },
  {
   "cell_type": "markdown",
   "id": "d2240a65",
   "metadata": {},
   "source": [
    "## Length of each Individual Value of DataFrame Columns"
   ]
  },
  {
   "cell_type": "code",
   "execution_count": null,
   "id": "894a3fec",
   "metadata": {},
   "outputs": [],
   "source": [
    "data['BRAND'].value_counts()"
   ]
  },
  {
   "cell_type": "code",
   "execution_count": null,
   "id": "45637398",
   "metadata": {},
   "outputs": [],
   "source": [
    "data['CPU BRAND'].value_counts()"
   ]
  },
  {
   "cell_type": "code",
   "execution_count": null,
   "id": "35e7ac80",
   "metadata": {},
   "outputs": [],
   "source": [
    "data['CPU CORE'].value_counts()"
   ]
  },
  {
   "cell_type": "code",
   "execution_count": null,
   "id": "15b94ee7",
   "metadata": {},
   "outputs": [],
   "source": [
    "data['CPU GENERATION'].value_counts()"
   ]
  },
  {
   "cell_type": "code",
   "execution_count": null,
   "id": "ddafdb65",
   "metadata": {},
   "outputs": [],
   "source": [
    "data['CPU FAMILY'].value_counts()"
   ]
  },
  {
   "cell_type": "code",
   "execution_count": null,
   "id": "b947a4c8",
   "metadata": {},
   "outputs": [],
   "source": [
    "data['RAM SIZE'].value_counts()"
   ]
  },
  {
   "cell_type": "code",
   "execution_count": null,
   "id": "e93100d1",
   "metadata": {},
   "outputs": [],
   "source": [
    "data['RAM(DDR) TYPE'].value_counts()"
   ]
  },
  {
   "cell_type": "code",
   "execution_count": null,
   "id": "397f6795",
   "metadata": {},
   "outputs": [],
   "source": [
    "data['DISK TYPE'].value_counts()"
   ]
  },
  {
   "cell_type": "code",
   "execution_count": null,
   "id": "96d23e83",
   "metadata": {},
   "outputs": [],
   "source": [
    "data['SSD SIZE'].value_counts()"
   ]
  },
  {
   "cell_type": "code",
   "execution_count": null,
   "id": "6106aa89",
   "metadata": {},
   "outputs": [],
   "source": [
    "data['HDD SIZE'].value_counts()"
   ]
  },
  {
   "cell_type": "code",
   "execution_count": null,
   "id": "51c4dbce",
   "metadata": {},
   "outputs": [],
   "source": [
    "data['GPU BRAND'].value_counts()"
   ]
  },
  {
   "cell_type": "code",
   "execution_count": null,
   "id": "05b4d1bd",
   "metadata": {},
   "outputs": [],
   "source": [
    "data['GPU TYPE'].value_counts()"
   ]
  },
  {
   "cell_type": "code",
   "execution_count": null,
   "id": "66cc3c49",
   "metadata": {},
   "outputs": [],
   "source": [
    "data['SCREEN SIZE'].value_counts()"
   ]
  },
  {
   "cell_type": "code",
   "execution_count": null,
   "id": "5cb9ea98",
   "metadata": {},
   "outputs": [],
   "source": [
    "data['SCREEN RESOLUTION'].value_counts()"
   ]
  },
  {
   "cell_type": "code",
   "execution_count": null,
   "id": "1fabe3e5",
   "metadata": {},
   "outputs": [],
   "source": [
    "data['STATE'].value_counts()"
   ]
  },
  {
   "cell_type": "markdown",
   "id": "91efb5c3",
   "metadata": {},
   "source": [
    "## Checking If a Feature can be Ordered"
   ]
  },
  {
   "cell_type": "code",
   "execution_count": null,
   "id": "027b85fa",
   "metadata": {},
   "outputs": [],
   "source": [
    "x = pd.Series(['BRAND'], dtype=\"category\")\n",
    "\n",
    "x.cat.ordered"
   ]
  },
  {
   "cell_type": "code",
   "execution_count": null,
   "id": "32e2eba7",
   "metadata": {},
   "outputs": [],
   "source": [
    "x = pd.Series(['CPU BRAND'], dtype=\"category\")\n",
    "\n",
    "x.cat.ordered"
   ]
  },
  {
   "cell_type": "code",
   "execution_count": null,
   "id": "8455ea8c",
   "metadata": {},
   "outputs": [],
   "source": [
    "x = pd.Series(['CPU CORE'], dtype=\"category\")\n",
    "\n",
    "x.cat.ordered"
   ]
  },
  {
   "cell_type": "code",
   "execution_count": null,
   "id": "76d4e58d",
   "metadata": {},
   "outputs": [],
   "source": [
    "x = pd.Series(['CPU FAMILY'], dtype=\"category\")\n",
    "\n",
    "x.cat.ordered"
   ]
  },
  {
   "cell_type": "code",
   "execution_count": null,
   "id": "68e0c29a",
   "metadata": {},
   "outputs": [],
   "source": [
    "x = pd.Series(['DISK TYPE'], dtype=\"category\")\n",
    "\n",
    "x.cat.ordered"
   ]
  },
  {
   "cell_type": "code",
   "execution_count": null,
   "id": "bad9794d",
   "metadata": {},
   "outputs": [],
   "source": [
    "x = pd.Series(['GPU BRAND'], dtype=\"category\")\n",
    "\n",
    "x.cat.ordered"
   ]
  },
  {
   "cell_type": "code",
   "execution_count": null,
   "id": "c9ed7c0a",
   "metadata": {},
   "outputs": [],
   "source": [
    "x = pd.Series(['GPU TYPE'], dtype=\"category\")\n",
    "\n",
    "x.cat.ordered"
   ]
  },
  {
   "cell_type": "code",
   "execution_count": null,
   "id": "07c77730",
   "metadata": {},
   "outputs": [],
   "source": [
    "x = pd.Series(['SCREEN RESOLUTION'], dtype=\"category\")\n",
    "\n",
    "x.cat.ordered"
   ]
  },
  {
   "cell_type": "code",
   "execution_count": null,
   "id": "704b4aed",
   "metadata": {},
   "outputs": [],
   "source": [
    "x = pd.Series(['STATE'], dtype=\"category\")\n",
    "\n",
    "x.cat.ordered"
   ]
  },
  {
   "cell_type": "markdown",
   "id": "30664f7c",
   "metadata": {},
   "source": [
    "## Using crosstab() function to compute a simple cross-tabulation of two (or more) columns. "
   ]
  },
  {
   "cell_type": "code",
   "execution_count": null,
   "id": "54ea4d5a",
   "metadata": {},
   "outputs": [],
   "source": [
    "pd.crosstab(data['BRAND'], data['STATE'])"
   ]
  },
  {
   "cell_type": "code",
   "execution_count": null,
   "id": "4460973f",
   "metadata": {},
   "outputs": [],
   "source": [
    "pd.crosstab(data['BRAND'], data['RAM SIZE'])"
   ]
  },
  {
   "cell_type": "code",
   "execution_count": null,
   "id": "37908d6b",
   "metadata": {},
   "outputs": [],
   "source": [
    "pd.crosstab(data['BRAND'], data['DISK TYPE'])"
   ]
  },
  {
   "cell_type": "code",
   "execution_count": null,
   "id": "ec136cdf",
   "metadata": {},
   "outputs": [],
   "source": [
    "pd.crosstab(data['BRAND'], data['CPU CORE'])"
   ]
  },
  {
   "cell_type": "code",
   "execution_count": null,
   "id": "2a96a2b6",
   "metadata": {},
   "outputs": [],
   "source": [
    "pd.crosstab(data['BRAND'], data['CPU BRAND'])"
   ]
  },
  {
   "cell_type": "code",
   "execution_count": null,
   "id": "40cf8423",
   "metadata": {},
   "outputs": [],
   "source": [
    "pd.crosstab(data['BRAND'], data['CPU FAMILY'])"
   ]
  },
  {
   "cell_type": "code",
   "execution_count": null,
   "id": "c87c5d0b",
   "metadata": {},
   "outputs": [],
   "source": [
    "pd.crosstab(data['BRAND'], data['SCREEN RESOLUTION'])"
   ]
  },
  {
   "cell_type": "code",
   "execution_count": null,
   "id": "e8e590df",
   "metadata": {},
   "outputs": [],
   "source": [
    "pd.crosstab(data['BRAND'], data['STATE'])"
   ]
  },
  {
   "cell_type": "code",
   "execution_count": null,
   "id": "13de464b",
   "metadata": {},
   "outputs": [],
   "source": [
    "pd.crosstab(data['BRAND'], data['CPU GENERATION'])"
   ]
  },
  {
   "cell_type": "code",
   "execution_count": null,
   "id": "b9908eab",
   "metadata": {},
   "outputs": [],
   "source": [
    "pd.crosstab(data['BRAND'], data['SSD SIZE'])"
   ]
  },
  {
   "cell_type": "code",
   "execution_count": null,
   "id": "f0cf93bf",
   "metadata": {},
   "outputs": [],
   "source": [
    "pd.crosstab(data['BRAND'], data['HDD SIZE'])"
   ]
  },
  {
   "cell_type": "code",
   "execution_count": null,
   "id": "6c7cf6cd",
   "metadata": {},
   "outputs": [],
   "source": [
    "pd.crosstab(data['BRAND'], data['SCREEN SIZE'])"
   ]
  },
  {
   "cell_type": "code",
   "execution_count": null,
   "id": "0ea795bd",
   "metadata": {},
   "outputs": [],
   "source": [
    "pd.crosstab([data['STATE'], data['CPU BRAND']], data['BRAND'])"
   ]
  },
  {
   "cell_type": "code",
   "execution_count": null,
   "id": "bc4261d8",
   "metadata": {},
   "outputs": [],
   "source": [
    "pd.crosstab(data['RAM SIZE'], data['RAM(DDR) TYPE'])"
   ]
  },
  {
   "cell_type": "code",
   "execution_count": null,
   "id": "4f5f9d69",
   "metadata": {},
   "outputs": [],
   "source": [
    "pd.crosstab(data['CPU CORE'], data['RAM(DDR) TYPE'])"
   ]
  },
  {
   "cell_type": "code",
   "execution_count": null,
   "id": "13b95aa0",
   "metadata": {},
   "outputs": [],
   "source": [
    "pd.crosstab(data['STATE'], data['RAM SIZE'])"
   ]
  },
  {
   "cell_type": "code",
   "execution_count": null,
   "id": "c5e92ae1",
   "metadata": {},
   "outputs": [],
   "source": [
    "pd.crosstab(data['BRAND'], [data['RAM(DDR) TYPE'], data['RAM SIZE']])"
   ]
  },
  {
   "cell_type": "code",
   "execution_count": null,
   "id": "631631bc",
   "metadata": {},
   "outputs": [],
   "source": [
    "pd.crosstab(data['BRAND'], [data['STATE'], data['CPU BRAND']])"
   ]
  },
  {
   "cell_type": "code",
   "execution_count": null,
   "id": "bc8e20e4",
   "metadata": {},
   "outputs": [],
   "source": [
    "pd.crosstab(data['BRAND'], [data['STATE'], data['SSD SIZE']])"
   ]
  },
  {
   "cell_type": "code",
   "execution_count": null,
   "id": "037dd007",
   "metadata": {},
   "outputs": [],
   "source": [
    "pd.crosstab(data['BRAND'], [data['STATE'], data['HDD SIZE']])"
   ]
  },
  {
   "cell_type": "code",
   "execution_count": null,
   "id": "272c9b4b",
   "metadata": {},
   "outputs": [],
   "source": [
    "pd.crosstab([data['STATE'], data['CPU FAMILY']], data['BRAND'])"
   ]
  },
  {
   "cell_type": "markdown",
   "id": "831b69e0",
   "metadata": {},
   "source": [
    "# Using Matplotlib and SeaBorn to graphically represent our data "
   ]
  },
  {
   "cell_type": "markdown",
   "id": "85750ea5",
   "metadata": {},
   "source": [
    "## Defining a correlation matrix\n",
    "\n",
    "We are using the Spearman's rank correlation coefficient, it is a nonparametric measure of rank correlation (statistical dependence between the rankings of two variables). It assesses how well the relationship between two variables can be described using a monotonic function."
   ]
  },
  {
   "cell_type": "code",
   "execution_count": null,
   "id": "9a30916c",
   "metadata": {},
   "outputs": [],
   "source": [
    "correlation = data.corr(method=\"spearman\", numeric_only=True)"
   ]
  },
  {
   "cell_type": "markdown",
   "id": "19533f68",
   "metadata": {},
   "source": [
    "### RELATIONSHIP ANALYSIS"
   ]
  },
  {
   "cell_type": "code",
   "execution_count": null,
   "id": "4959fe26",
   "metadata": {},
   "outputs": [],
   "source": [
    "sns.heatmap(correlation, xticklabels = correlation.columns, yticklabels = correlation.columns, annot = True);"
   ]
  },
  {
   "cell_type": "markdown",
   "id": "c26350a1",
   "metadata": {},
   "source": [
    "## PAIR PLOT RELATIONSHIP"
   ]
  },
  {
   "cell_type": "code",
   "execution_count": null,
   "id": "945a5392",
   "metadata": {},
   "outputs": [],
   "source": [
    "sns.pairplot(data);"
   ]
  },
  {
   "cell_type": "markdown",
   "id": "99c35c46",
   "metadata": {},
   "source": [
    "## SCATTER PLOT"
   ]
  },
  {
   "cell_type": "code",
   "execution_count": null,
   "id": "9eaeecd3",
   "metadata": {},
   "outputs": [],
   "source": [
    "sns.relplot(x = 'CPU GENERATION', y = 'RAM SIZE', hue = 'BRAND', data = data);"
   ]
  },
  {
   "cell_type": "code",
   "execution_count": null,
   "id": "0388fe20",
   "metadata": {},
   "outputs": [],
   "source": [
    "sns.relplot(x = 'SSD SIZE', y = 'HDD SIZE', hue = 'BRAND', data = data);"
   ]
  },
  {
   "cell_type": "code",
   "execution_count": null,
   "id": "e135f0d0",
   "metadata": {},
   "outputs": [],
   "source": [
    "sns.relplot(x = 'CPU GENERATION', y = 'CPU BRAND', hue = 'BRAND', data = data);"
   ]
  },
  {
   "cell_type": "code",
   "execution_count": null,
   "id": "58f495b2",
   "metadata": {},
   "outputs": [],
   "source": [
    "sns.relplot(x = 'RAM SIZE', y = 'RAM(DDR) TYPE', hue = 'BRAND', data = data);"
   ]
  },
  {
   "cell_type": "code",
   "execution_count": null,
   "id": "cd15875e",
   "metadata": {},
   "outputs": [],
   "source": [
    "sns.catplot(x = 'CPU BRAND', y = 'CPU GENERATION', hue = 'BRAND', data = data);"
   ]
  },
  {
   "cell_type": "markdown",
   "id": "db7a3ecc",
   "metadata": {},
   "source": [
    "## PLOTTING A DIST PLOT"
   ]
  },
  {
   "cell_type": "code",
   "execution_count": null,
   "id": "9a1bfd5a",
   "metadata": {},
   "outputs": [],
   "source": [
    "sns.displot(data['CPU GENERATION'])\n",
    "\n",
    "plt.show();"
   ]
  },
  {
   "cell_type": "code",
   "execution_count": null,
   "id": "63607a2f",
   "metadata": {},
   "outputs": [],
   "source": [
    "arr = data['SSD SIZE']\n",
    "sns.displot([arr], kind=\"hist\")\n",
    "plt.show();"
   ]
  },
  {
   "cell_type": "code",
   "execution_count": null,
   "id": "c59bb0d5",
   "metadata": {},
   "outputs": [],
   "source": [
    "price = data['PRICE']\n",
    "sns.displot([price], kind=\"hist\")\n",
    "plt.show();"
   ]
  },
  {
   "cell_type": "markdown",
   "id": "e8003c44",
   "metadata": {},
   "source": [
    "## PLOTTING A HISTOGRAM"
   ]
  },
  {
   "cell_type": "code",
   "execution_count": null,
   "id": "c6a000f3",
   "metadata": {},
   "outputs": [],
   "source": [
    "data.hist(column = 'SCREEN SIZE');"
   ]
  },
  {
   "cell_type": "code",
   "execution_count": null,
   "id": "2263053c",
   "metadata": {},
   "outputs": [],
   "source": [
    "data.hist(column = 'SSD SIZE');"
   ]
  },
  {
   "cell_type": "code",
   "execution_count": null,
   "id": "688b7d97",
   "metadata": {},
   "outputs": [],
   "source": [
    "data.hist(column = 'HDD SIZE');"
   ]
  },
  {
   "cell_type": "code",
   "execution_count": null,
   "id": "839d68b9",
   "metadata": {},
   "outputs": [],
   "source": [
    "data.hist(column = 'RAM SIZE', by = 'RAM(DDR) TYPE');"
   ]
  },
  {
   "cell_type": "code",
   "execution_count": null,
   "id": "2ee89f1e",
   "metadata": {},
   "outputs": [],
   "source": [
    "data.hist(column = 'CPU GENERATION', by = 'BRAND');"
   ]
  },
  {
   "cell_type": "code",
   "execution_count": null,
   "id": "17e20b25",
   "metadata": {},
   "outputs": [],
   "source": [
    "data.hist(column = 'GPU BRAND', by = 'BRAND');"
   ]
  },
  {
   "cell_type": "code",
   "execution_count": null,
   "id": "6a64d8b7",
   "metadata": {},
   "outputs": [],
   "source": [
    "data.hist(column = 'SSD SIZE', by = 'BRAND');"
   ]
  },
  {
   "cell_type": "code",
   "execution_count": null,
   "id": "9374531c",
   "metadata": {},
   "outputs": [],
   "source": [
    "data.hist(column = 'HDD SIZE', by = 'BRAND');"
   ]
  },
  {
   "cell_type": "code",
   "execution_count": null,
   "id": "70c3f9e1",
   "metadata": {},
   "outputs": [],
   "source": [
    "data.hist(column = 'RAM SIZE', by = 'BRAND');"
   ]
  },
  {
   "cell_type": "code",
   "execution_count": null,
   "id": "02012f03",
   "metadata": {},
   "outputs": [],
   "source": [
    "data.hist(column = 'CPU GENERATION', by = 'CPU BRAND');"
   ]
  },
  {
   "cell_type": "code",
   "execution_count": null,
   "id": "8dcf72c3",
   "metadata": {},
   "outputs": [],
   "source": [
    "data.hist(column = 'CPU GENERATION', by = 'CPU CORE');"
   ]
  },
  {
   "cell_type": "markdown",
   "id": "4102b268",
   "metadata": {},
   "source": [
    "## PIE PLOT"
   ]
  },
  {
   "cell_type": "code",
   "execution_count": null,
   "id": "535bd036",
   "metadata": {},
   "outputs": [],
   "source": [
    "data['BRAND'].value_counts().plot.pie();"
   ]
  },
  {
   "cell_type": "code",
   "execution_count": null,
   "id": "721edf4f",
   "metadata": {},
   "outputs": [],
   "source": [
    "data['STATE'].value_counts().plot.pie();"
   ]
  },
  {
   "cell_type": "code",
   "execution_count": null,
   "id": "39edd40e",
   "metadata": {},
   "outputs": [],
   "source": [
    "data['DISK TYPE'].value_counts().plot.pie();"
   ]
  },
  {
   "cell_type": "code",
   "execution_count": null,
   "id": "f3689650",
   "metadata": {},
   "outputs": [],
   "source": [
    "data['RAM(DDR) TYPE'].value_counts().plot.pie();"
   ]
  },
  {
   "cell_type": "code",
   "execution_count": null,
   "id": "4837b40e",
   "metadata": {},
   "outputs": [],
   "source": [
    "data['CPU BRAND'].value_counts().plot.pie();"
   ]
  },
  {
   "cell_type": "code",
   "execution_count": null,
   "id": "9824aba6",
   "metadata": {},
   "outputs": [],
   "source": [
    "data['SSD SIZE'].value_counts().plot.pie();"
   ]
  },
  {
   "cell_type": "code",
   "execution_count": null,
   "id": "5a5451bd",
   "metadata": {},
   "outputs": [],
   "source": [
    "data['HDD SIZE'].value_counts().plot.pie();"
   ]
  },
  {
   "cell_type": "code",
   "execution_count": null,
   "id": "30986445",
   "metadata": {},
   "outputs": [],
   "source": [
    "data['RAM SIZE'].value_counts().plot.pie();"
   ]
  },
  {
   "cell_type": "code",
   "execution_count": null,
   "id": "97b7bc20",
   "metadata": {},
   "outputs": [],
   "source": [
    "data['GPU BRAND'].value_counts().plot.pie();"
   ]
  },
  {
   "cell_type": "code",
   "execution_count": null,
   "id": "b72b6688",
   "metadata": {},
   "outputs": [],
   "source": []
  }
 ],
 "metadata": {
  "kernelspec": {
   "display_name": "Python 3 (ipykernel)",
   "language": "python",
   "name": "python3"
  },
  "language_info": {
   "codemirror_mode": {
    "name": "ipython",
    "version": 3
   },
   "file_extension": ".py",
   "mimetype": "text/x-python",
   "name": "python",
   "nbconvert_exporter": "python",
   "pygments_lexer": "ipython3",
   "version": "3.9.15"
  }
 },
 "nbformat": 4,
 "nbformat_minor": 5
}
