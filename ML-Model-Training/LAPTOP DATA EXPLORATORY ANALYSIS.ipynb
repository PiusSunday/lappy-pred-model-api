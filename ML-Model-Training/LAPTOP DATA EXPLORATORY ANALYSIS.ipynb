{
 "cells": [
  {
   "cell_type": "markdown",
   "id": "c4468445",
   "metadata": {},
   "source": [
    "## Importing the necessary python libraries to help us perform an EDA on our data!"
   ]
  },
  {
   "cell_type": "code",
   "execution_count": null,
   "id": "85f3ad5b",
   "metadata": {},
   "outputs": [],
   "source": [
    "import pandas as pd\n",
    "\n",
    "%matplotlib inline\n",
    "import matplotlib.pyplot as plt\n",
    "import seaborn as sns"
   ]
  },
  {
   "cell_type": "markdown",
   "id": "39df66e5",
   "metadata": {},
   "source": [
    "## Reading our data into Jupyter"
   ]
  },
  {
   "cell_type": "code",
   "execution_count": null,
   "id": "e58dfd43",
   "metadata": {},
   "outputs": [],
   "source": [
    "import os\n",
    "\n",
    "# Get the absolute path of the current working directory\n",
    "current_directory = os.getcwd()\n",
    "\n",
    "# Construct the relative path to your data folder and the Excel file\n",
    "relative_path = 'data/laptop_data.xlsx'\n",
    "\n",
    "# Combine the current directory with the relative path to get the absolute path to your Excel file\n",
    "file_path = os.path.join(current_directory, relative_path)\n",
    "\n",
    "# Read the Excel file using the constructed file path\n",
    "df = pd.read_excel(file_path)\n",
    "\n",
    "df"
   ]
  },
  {
   "cell_type": "markdown",
   "id": "edb72897",
   "metadata": {},
   "source": [
    "## Display the number of Rows and Columns of our dataset"
   ]
  },
  {
   "cell_type": "code",
   "execution_count": null,
   "id": "c8bb0c3e",
   "metadata": {},
   "outputs": [],
   "source": [
    "df.shape"
   ]
  },
  {
   "cell_type": "markdown",
   "id": "c5d19f97",
   "metadata": {},
   "source": [
    "## Display the header of each Column"
   ]
  },
  {
   "cell_type": "code",
   "execution_count": null,
   "id": "e9fad0f4",
   "metadata": {},
   "outputs": [],
   "source": [
    "df.columns"
   ]
  },
  {
   "cell_type": "markdown",
   "id": "6269f83a",
   "metadata": {},
   "source": [
    "## Check for null values in our dataset"
   ]
  },
  {
   "cell_type": "code",
   "execution_count": null,
   "id": "ec6cd3b3",
   "metadata": {},
   "outputs": [],
   "source": [
    "df.isnull().sum()"
   ]
  },
  {
   "cell_type": "code",
   "execution_count": null,
   "id": "4c586fd9",
   "metadata": {},
   "outputs": [],
   "source": [
    "data = df"
   ]
  },
  {
   "cell_type": "markdown",
   "id": "34ec8e97",
   "metadata": {},
   "source": [
    "## Name of Label Column"
   ]
  },
  {
   "cell_type": "markdown",
   "id": "4986c8e7",
   "metadata": {},
   "source": [
    "### In this case, our label column is the PRICE Column as it will be unique for each laptop according to it unique properties."
   ]
  },
  {
   "cell_type": "code",
   "execution_count": null,
   "id": "6b37334a",
   "metadata": {},
   "outputs": [],
   "source": [
    "Label = ['PRICE']"
   ]
  },
  {
   "cell_type": "markdown",
   "id": "66932b27",
   "metadata": {},
   "source": [
    "## Display the DataTypes of each Column"
   ]
  },
  {
   "cell_type": "code",
   "execution_count": null,
   "id": "defb529f",
   "metadata": {},
   "outputs": [],
   "source": [
    "data.dtypes"
   ]
  },
  {
   "cell_type": "markdown",
   "id": "c9a40add",
   "metadata": {},
   "source": [
    "## Display the DataTypes of each Column"
   ]
  },
  {
   "cell_type": "code",
   "execution_count": null,
   "id": "fa7e138a",
   "metadata": {},
   "outputs": [],
   "source": [
    "data.info()"
   ]
  },
  {
   "cell_type": "markdown",
   "id": "96f95c51",
   "metadata": {},
   "source": [
    "## Display some Statistics for the Numerical Columns"
   ]
  },
  {
   "cell_type": "code",
   "execution_count": null,
   "id": "a9b083e1",
   "metadata": {},
   "outputs": [],
   "source": [
    "data.describe()"
   ]
  },
  {
   "cell_type": "markdown",
   "id": "1c7bffd6",
   "metadata": {},
   "source": [
    "# DEFINING THE CATEGORICAL COLUMNS"
   ]
  },
  {
   "cell_type": "markdown",
   "id": "26b10d01",
   "metadata": {},
   "source": [
    "## Identifying the Unique Values in our DataFrame Columns"
   ]
  },
  {
   "cell_type": "code",
   "execution_count": null,
   "id": "36081759",
   "metadata": {},
   "outputs": [],
   "source": [
    "list(set(list(data['BRAND'])))"
   ]
  },
  {
   "cell_type": "code",
   "execution_count": null,
   "id": "6ee46fc0",
   "metadata": {},
   "outputs": [],
   "source": [
    "list(set(list(data['CPU BRAND'])))"
   ]
  },
  {
   "cell_type": "code",
   "execution_count": null,
   "id": "ab2b6339",
   "metadata": {},
   "outputs": [],
   "source": [
    "list(set(list(data['CPU CORE'])))"
   ]
  },
  {
   "cell_type": "code",
   "execution_count": null,
   "id": "baba7de4",
   "metadata": {},
   "outputs": [],
   "source": [
    "list(set(list(data['CPU GENERATION'])))"
   ]
  },
  {
   "cell_type": "code",
   "execution_count": null,
   "id": "94df10d5",
   "metadata": {},
   "outputs": [],
   "source": [
    "list(set(list(data['CPU FAMILY'])))"
   ]
  },
  {
   "cell_type": "code",
   "execution_count": null,
   "id": "66c8b376",
   "metadata": {},
   "outputs": [],
   "source": [
    "list(set(list(data['RAM SIZE'])))"
   ]
  },
  {
   "cell_type": "code",
   "execution_count": null,
   "id": "e1da2a65",
   "metadata": {},
   "outputs": [],
   "source": [
    "list(set(list(data['RAM(DDR) TYPE'])))"
   ]
  },
  {
   "cell_type": "code",
   "execution_count": null,
   "id": "84d46db5",
   "metadata": {},
   "outputs": [],
   "source": [
    "list(set(list(data['DISK TYPE'])))"
   ]
  },
  {
   "cell_type": "code",
   "execution_count": null,
   "id": "82802678",
   "metadata": {},
   "outputs": [],
   "source": [
    "list(set(list(data['SSD SIZE'])))"
   ]
  },
  {
   "cell_type": "code",
   "execution_count": null,
   "id": "dfa1cd61",
   "metadata": {},
   "outputs": [],
   "source": [
    "list(set(list(data['HDD SIZE'])))"
   ]
  },
  {
   "cell_type": "code",
   "execution_count": null,
   "id": "c9dcbf84",
   "metadata": {},
   "outputs": [],
   "source": [
    "list(set(list(data['GPU BRAND'])))"
   ]
  },
  {
   "cell_type": "code",
   "execution_count": null,
   "id": "676fbe36",
   "metadata": {},
   "outputs": [],
   "source": [
    "list(set(list(data['GPU TYPE'])))"
   ]
  },
  {
   "cell_type": "code",
   "execution_count": null,
   "id": "7bf760ba",
   "metadata": {},
   "outputs": [],
   "source": [
    "list(set(list(data['SCREEN SIZE'])))"
   ]
  },
  {
   "cell_type": "code",
   "execution_count": null,
   "id": "5a481eab",
   "metadata": {},
   "outputs": [],
   "source": [
    "list(set(list(data['SCREEN RESOLUTION'])))"
   ]
  },
  {
   "cell_type": "code",
   "execution_count": null,
   "id": "70f54af8",
   "metadata": {},
   "outputs": [],
   "source": [
    "list(set(list(data['STATE'])))"
   ]
  },
  {
   "cell_type": "code",
   "execution_count": null,
   "id": "7b9b7b92",
   "metadata": {},
   "outputs": [],
   "source": []
  },
  {
   "cell_type": "code",
   "execution_count": null,
   "id": "eadb41d9",
   "metadata": {},
   "outputs": [],
   "source": []
  },
  {
   "cell_type": "markdown",
   "id": "ed203117",
   "metadata": {},
   "source": [
    "## Length of Unique Values In Our DataFrame Columns"
   ]
  },
  {
   "cell_type": "code",
   "execution_count": null,
   "id": "503b3914",
   "metadata": {},
   "outputs": [],
   "source": [
    "data['BRAND'].value_counts().count()"
   ]
  },
  {
   "cell_type": "code",
   "execution_count": null,
   "id": "17c5735f",
   "metadata": {},
   "outputs": [],
   "source": [
    "data['CPU BRAND'].value_counts().count()"
   ]
  },
  {
   "cell_type": "code",
   "execution_count": null,
   "id": "72651c07",
   "metadata": {},
   "outputs": [],
   "source": [
    "data['CPU CORE'].value_counts().count()"
   ]
  },
  {
   "cell_type": "code",
   "execution_count": null,
   "id": "a8959ed8",
   "metadata": {},
   "outputs": [],
   "source": [
    "data['CPU GENERATION'].value_counts().count()"
   ]
  },
  {
   "cell_type": "code",
   "execution_count": null,
   "id": "5c694d44",
   "metadata": {},
   "outputs": [],
   "source": [
    "data['CPU FAMILY'].value_counts().count()"
   ]
  },
  {
   "cell_type": "code",
   "execution_count": null,
   "id": "3babc24b",
   "metadata": {},
   "outputs": [],
   "source": [
    "data['RAM SIZE'].value_counts().count()"
   ]
  },
  {
   "cell_type": "code",
   "execution_count": null,
   "id": "0a860f39",
   "metadata": {},
   "outputs": [],
   "source": [
    "data['RAM(DDR) TYPE'].value_counts().count()"
   ]
  },
  {
   "cell_type": "code",
   "execution_count": null,
   "id": "c02f22a2",
   "metadata": {},
   "outputs": [],
   "source": [
    "data['DISK TYPE'].value_counts().count()"
   ]
  },
  {
   "cell_type": "code",
   "execution_count": null,
   "id": "90257671",
   "metadata": {},
   "outputs": [],
   "source": [
    "data['SSD SIZE'].value_counts().count()"
   ]
  },
  {
   "cell_type": "code",
   "execution_count": null,
   "id": "cce662e2",
   "metadata": {},
   "outputs": [],
   "source": [
    "data['HDD SIZE'].value_counts().count()"
   ]
  },
  {
   "cell_type": "code",
   "execution_count": null,
   "id": "e53ca41e",
   "metadata": {},
   "outputs": [],
   "source": [
    "data['GPU BRAND'].value_counts().count()"
   ]
  },
  {
   "cell_type": "code",
   "execution_count": null,
   "id": "9939b142",
   "metadata": {},
   "outputs": [],
   "source": [
    "data['GPU TYPE'].value_counts().count()"
   ]
  },
  {
   "cell_type": "code",
   "execution_count": null,
   "id": "b4bda0ce",
   "metadata": {},
   "outputs": [],
   "source": [
    "data['SCREEN SIZE'].value_counts().count()"
   ]
  },
  {
   "cell_type": "code",
   "execution_count": null,
   "id": "bffaa87f",
   "metadata": {},
   "outputs": [],
   "source": [
    "data['SCREEN RESOLUTION'].value_counts().count()"
   ]
  },
  {
   "cell_type": "code",
   "execution_count": null,
   "id": "4103ab9d",
   "metadata": {},
   "outputs": [],
   "source": [
    "data['STATE'].value_counts().count()"
   ]
  },
  {
   "cell_type": "markdown",
   "id": "d2240a65",
   "metadata": {},
   "source": [
    "## Length of each Individual Value of DataFrame Columns"
   ]
  },
  {
   "cell_type": "code",
   "execution_count": null,
   "id": "894a3fec",
   "metadata": {},
   "outputs": [],
   "source": [
    "data['BRAND'].value_counts()"
   ]
  },
  {
   "cell_type": "code",
   "execution_count": null,
   "id": "45637398",
   "metadata": {},
   "outputs": [],
   "source": [
    "data['CPU BRAND'].value_counts()"
   ]
  },
  {
   "cell_type": "code",
   "execution_count": null,
   "id": "35e7ac80",
   "metadata": {},
   "outputs": [],
   "source": [
    "data['CPU CORE'].value_counts()"
   ]
  },
  {
   "cell_type": "code",
   "execution_count": null,
   "id": "15b94ee7",
   "metadata": {},
   "outputs": [],
   "source": [
    "data['CPU GENERATION'].value_counts()"
   ]
  },
  {
   "cell_type": "code",
   "execution_count": null,
   "id": "ddafdb65",
   "metadata": {},
   "outputs": [],
   "source": [
    "data['CPU FAMILY'].value_counts()"
   ]
  },
  {
   "cell_type": "code",
   "execution_count": null,
   "id": "b947a4c8",
   "metadata": {},
   "outputs": [],
   "source": [
    "data['RAM SIZE'].value_counts()"
   ]
  },
  {
   "cell_type": "code",
   "execution_count": null,
   "id": "e93100d1",
   "metadata": {},
   "outputs": [],
   "source": [
    "data['RAM(DDR) TYPE'].value_counts()"
   ]
  },
  {
   "cell_type": "code",
   "execution_count": null,
   "id": "397f6795",
   "metadata": {},
   "outputs": [],
   "source": [
    "data['DISK TYPE'].value_counts()"
   ]
  },
  {
   "cell_type": "code",
   "execution_count": null,
   "id": "96d23e83",
   "metadata": {},
   "outputs": [],
   "source": [
    "data['SSD SIZE'].value_counts()"
   ]
  },
  {
   "cell_type": "code",
   "execution_count": null,
   "id": "6106aa89",
   "metadata": {},
   "outputs": [],
   "source": [
    "data['HDD SIZE'].value_counts()"
   ]
  },
  {
   "cell_type": "code",
   "execution_count": null,
   "id": "51c4dbce",
   "metadata": {},
   "outputs": [],
   "source": [
    "data['GPU BRAND'].value_counts()"
   ]
  },
  {
   "cell_type": "code",
   "execution_count": null,
   "id": "05b4d1bd",
   "metadata": {},
   "outputs": [],
   "source": [
    "data['GPU TYPE'].value_counts()"
   ]
  },
  {
   "cell_type": "code",
   "execution_count": null,
   "id": "66cc3c49",
   "metadata": {},
   "outputs": [],
   "source": [
    "data['SCREEN SIZE'].value_counts()"
   ]
  },
  {
   "cell_type": "code",
   "execution_count": null,
   "id": "5cb9ea98",
   "metadata": {},
   "outputs": [],
   "source": [
    "data['SCREEN RESOLUTION'].value_counts()"
   ]
  },
  {
   "cell_type": "code",
   "execution_count": null,
   "id": "1fabe3e5",
   "metadata": {},
   "outputs": [],
   "source": [
    "data['STATE'].value_counts()"
   ]
  },
  {
   "cell_type": "markdown",
   "id": "91efb5c3",
   "metadata": {},
   "source": [
    "## Checking If a Feature can be Ordered"
   ]
  },
  {
   "cell_type": "code",
   "execution_count": null,
   "id": "027b85fa",
   "metadata": {},
   "outputs": [],
   "source": [
    "x = pd.Series(['BRAND'], dtype=\"category\")\n",
    "\n",
    "x.cat.ordered"
   ]
  },
  {
   "cell_type": "code",
   "execution_count": null,
   "id": "32e2eba7",
   "metadata": {},
   "outputs": [],
   "source": [
    "x = pd.Series(['CPU BRAND'], dtype=\"category\")\n",
    "\n",
    "x.cat.ordered"
   ]
  },
  {
   "cell_type": "code",
   "execution_count": null,
   "id": "8455ea8c",
   "metadata": {},
   "outputs": [],
   "source": [
    "x = pd.Series(['CPU CORE'], dtype=\"category\")\n",
    "\n",
    "x.cat.ordered"
   ]
  },
  {
   "cell_type": "code",
   "execution_count": null,
   "id": "76d4e58d",
   "metadata": {},
   "outputs": [],
   "source": [
    "x = pd.Series(['CPU FAMILY'], dtype=\"category\")\n",
    "\n",
    "x.cat.ordered"
   ]
  },
  {
   "cell_type": "code",
   "execution_count": null,
   "id": "68e0c29a",
   "metadata": {},
   "outputs": [],
   "source": [
    "x = pd.Series(['DISK TYPE'], dtype=\"category\")\n",
    "\n",
    "x.cat.ordered"
   ]
  },
  {
   "cell_type": "code",
   "execution_count": null,
   "id": "bad9794d",
   "metadata": {},
   "outputs": [],
   "source": [
    "x = pd.Series(['GPU BRAND'], dtype=\"category\")\n",
    "\n",
    "x.cat.ordered"
   ]
  },
  {
   "cell_type": "code",
   "execution_count": null,
   "id": "c9ed7c0a",
   "metadata": {},
   "outputs": [],
   "source": [
    "x = pd.Series(['GPU TYPE'], dtype=\"category\")\n",
    "\n",
    "x.cat.ordered"
   ]
  },
  {
   "cell_type": "code",
   "execution_count": null,
   "id": "07c77730",
   "metadata": {},
   "outputs": [],
   "source": [
    "x = pd.Series(['SCREEN RESOLUTION'], dtype=\"category\")\n",
    "\n",
    "x.cat.ordered"
   ]
  },
  {
   "cell_type": "code",
   "execution_count": null,
   "id": "704b4aed",
   "metadata": {},
   "outputs": [],
   "source": [
    "x = pd.Series(['STATE'], dtype=\"category\")\n",
    "\n",
    "x.cat.ordered"
   ]
  },
  {
   "cell_type": "markdown",
   "id": "30664f7c",
   "metadata": {},
   "source": [
    "## Using crosstab() function to compute a simple cross-tabulation of two (or more) columns. "
   ]
  },
  {
   "cell_type": "code",
   "execution_count": null,
   "id": "54ea4d5a",
   "metadata": {},
   "outputs": [],
   "source": [
    "pd.crosstab(data['BRAND'], data['STATE'])"
   ]
  },
  {
   "cell_type": "code",
   "execution_count": null,
   "id": "4460973f",
   "metadata": {},
   "outputs": [],
   "source": [
    "pd.crosstab(data['BRAND'], data['RAM SIZE'])"
   ]
  },
  {
   "cell_type": "code",
   "execution_count": null,
   "id": "37908d6b",
   "metadata": {},
   "outputs": [],
   "source": [
    "pd.crosstab(data['BRAND'], data['DISK TYPE'])"
   ]
  },
  {
   "cell_type": "code",
   "execution_count": null,
   "id": "ec136cdf",
   "metadata": {},
   "outputs": [],
   "source": [
    "pd.crosstab(data['BRAND'], data['CPU CORE'])"
   ]
  },
  {
   "cell_type": "code",
   "execution_count": null,
   "id": "2a96a2b6",
   "metadata": {},
   "outputs": [],
   "source": [
    "pd.crosstab(data['BRAND'], data['CPU BRAND'])"
   ]
  },
  {
   "cell_type": "code",
   "execution_count": null,
   "id": "40cf8423",
   "metadata": {},
   "outputs": [],
   "source": [
    "pd.crosstab(data['BRAND'], data['CPU FAMILY'])"
   ]
  },
  {
   "cell_type": "code",
   "execution_count": null,
   "id": "c87c5d0b",
   "metadata": {},
   "outputs": [],
   "source": [
    "pd.crosstab(data['BRAND'], data['SCREEN RESOLUTION'])"
   ]
  },
  {
   "cell_type": "code",
   "execution_count": null,
   "id": "e8e590df",
   "metadata": {},
   "outputs": [],
   "source": [
    "pd.crosstab(data['BRAND'], data['STATE'])"
   ]
  },
  {
   "cell_type": "code",
   "execution_count": null,
   "id": "13de464b",
   "metadata": {},
   "outputs": [],
   "source": [
    "pd.crosstab(data['BRAND'], data['CPU GENERATION'])"
   ]
  },
  {
   "cell_type": "code",
   "execution_count": null,
   "id": "b9908eab",
   "metadata": {},
   "outputs": [],
   "source": [
    "pd.crosstab(data['BRAND'], data['SSD SIZE'])"
   ]
  },
  {
   "cell_type": "code",
   "execution_count": null,
   "id": "f0cf93bf",
   "metadata": {},
   "outputs": [],
   "source": [
    "pd.crosstab(data['BRAND'], data['HDD SIZE'])"
   ]
  },
  {
   "cell_type": "code",
   "execution_count": null,
   "id": "6c7cf6cd",
   "metadata": {},
   "outputs": [],
   "source": [
    "pd.crosstab(data['BRAND'], data['SCREEN SIZE'])"
   ]
  },
  {
   "cell_type": "code",
   "execution_count": null,
   "id": "0ea795bd",
   "metadata": {},
   "outputs": [],
   "source": [
    "pd.crosstab([data['STATE'], data['CPU BRAND']], data['BRAND'])"
   ]
  },
  {
   "cell_type": "code",
   "execution_count": null,
   "id": "bc4261d8",
   "metadata": {},
   "outputs": [],
   "source": [
    "pd.crosstab(data['RAM SIZE'], data['RAM(DDR) TYPE'])"
   ]
  },
  {
   "cell_type": "code",
   "execution_count": null,
   "id": "4f5f9d69",
   "metadata": {},
   "outputs": [],
   "source": [
    "pd.crosstab(data['CPU CORE'], data['RAM(DDR) TYPE'])"
   ]
  },
  {
   "cell_type": "code",
   "execution_count": null,
   "id": "13b95aa0",
   "metadata": {},
   "outputs": [],
   "source": [
    "pd.crosstab(data['STATE'], data['RAM SIZE'])"
   ]
  },
  {
   "cell_type": "code",
   "execution_count": null,
   "id": "c5e92ae1",
   "metadata": {},
   "outputs": [],
   "source": [
    "pd.crosstab(data['BRAND'], [data['RAM(DDR) TYPE'], data['RAM SIZE']])"
   ]
  },
  {
   "cell_type": "code",
   "execution_count": null,
   "id": "631631bc",
   "metadata": {},
   "outputs": [],
   "source": [
    "pd.crosstab(data['BRAND'], [data['STATE'], data['CPU BRAND']])"
   ]
  },
  {
   "cell_type": "code",
   "execution_count": null,
   "id": "bc8e20e4",
   "metadata": {},
   "outputs": [],
   "source": [
    "pd.crosstab(data['BRAND'], [data['STATE'], data['SSD SIZE']])"
   ]
  },
  {
   "cell_type": "code",
   "execution_count": null,
   "id": "037dd007",
   "metadata": {},
   "outputs": [],
   "source": [
    "pd.crosstab(data['BRAND'], [data['STATE'], data['HDD SIZE']])"
   ]
  },
  {
   "cell_type": "code",
   "execution_count": null,
   "id": "272c9b4b",
   "metadata": {},
   "outputs": [],
   "source": [
    "pd.crosstab([data['STATE'], data['CPU FAMILY']], data['BRAND'])"
   ]
  },
  {
   "cell_type": "markdown",
   "id": "831b69e0",
   "metadata": {},
   "source": [
    "# Using Matplotlib and SeaBorn to graphically represent our data "
   ]
  },
  {
   "cell_type": "markdown",
   "id": "85750ea5",
   "metadata": {},
   "source": [
    "## Defining a correlation matrix\n",
    "\n",
    "We are using the Spearman's rank correlation coefficient, it is a nonparametric measure of rank correlation (statistical dependence between the rankings of two variables). It assesses how well the relationship between two variables can be described using a monotonic function."
   ]
  },
  {
   "cell_type": "code",
   "execution_count": null,
   "id": "9a30916c",
   "metadata": {},
   "outputs": [],
   "source": [
    "correlation = data.corr(method=\"spearman\", numeric_only=True)"
   ]
  },
  {
   "cell_type": "markdown",
   "id": "19533f68",
   "metadata": {},
   "source": [
    "### RELATIONSHIP ANALYSIS"
   ]
  },
  {
   "cell_type": "code",
   "execution_count": null,
   "id": "4959fe26",
   "metadata": {},
   "outputs": [],
   "source": [
    "sns.heatmap(correlation, xticklabels = correlation.columns, yticklabels = correlation.columns, annot = True);"
   ]
  },
  {
   "cell_type": "markdown",
   "id": "c26350a1",
   "metadata": {},
   "source": [
    "## PAIR PLOT RELATIONSHIP"
   ]
  },
  {
   "cell_type": "code",
   "execution_count": null,
   "id": "945a5392",
   "metadata": {},
   "outputs": [],
   "source": [
    "sns.pairplot(data);"
   ]
  },
  {
   "cell_type": "markdown",
   "id": "99c35c46",
   "metadata": {},
   "source": [
    "## SCATTER PLOT"
   ]
  },
  {
   "cell_type": "code",
   "execution_count": null,
   "id": "9eaeecd3",
   "metadata": {},
   "outputs": [],
   "source": [
    "sns.relplot(x = 'CPU GENERATION', y = 'RAM SIZE', hue = 'BRAND', data = data);"
   ]
  },
  {
   "cell_type": "code",
   "execution_count": null,
   "id": "0388fe20",
   "metadata": {},
   "outputs": [],
   "source": [
    "sns.relplot(x = 'SSD SIZE', y = 'HDD SIZE', hue = 'BRAND', data = data);"
   ]
  },
  {
   "cell_type": "code",
   "execution_count": null,
   "id": "e135f0d0",
   "metadata": {},
   "outputs": [],
   "source": [
    "sns.relplot(x = 'CPU GENERATION', y = 'CPU BRAND', hue = 'BRAND', data = data);"
   ]
  },
  {
   "cell_type": "code",
   "execution_count": null,
   "id": "58f495b2",
   "metadata": {},
   "outputs": [],
   "source": [
    "sns.relplot(x = 'RAM SIZE', y = 'RAM(DDR) TYPE', hue = 'BRAND', data = data);"
   ]
  },
  {
   "cell_type": "code",
   "execution_count": null,
   "id": "cd15875e",
   "metadata": {},
   "outputs": [],
   "source": [
    "sns.catplot(x = 'CPU BRAND', y = 'CPU GENERATION', hue = 'BRAND', data = data);"
   ]
  },
  {
   "cell_type": "markdown",
   "id": "db7a3ecc",
   "metadata": {},
   "source": [
    "## PLOTTING A DIST PLOT"
   ]
  },
  {
   "cell_type": "code",
   "execution_count": null,
   "id": "9a1bfd5a",
   "metadata": {},
   "outputs": [],
   "source": [
    "sns.displot(data['CPU GENERATION'])\n",
    "\n",
    "plt.show();"
   ]
  },
  {
   "cell_type": "code",
   "execution_count": null,
   "id": "63607a2f",
   "metadata": {},
   "outputs": [],
   "source": [
    "arr = data['SSD SIZE']\n",
    "sns.displot([arr], kind=\"hist\")\n",
    "plt.show();"
   ]
  },
  {
   "cell_type": "code",
   "execution_count": null,
   "id": "c59bb0d5",
   "metadata": {},
   "outputs": [],
   "source": [
    "price = data['PRICE']\n",
    "sns.displot([price], kind=\"hist\")\n",
    "plt.show();"
   ]
  },
  {
   "cell_type": "markdown",
   "id": "e8003c44",
   "metadata": {},
   "source": [
    "## PLOTTING A HISTOGRAM"
   ]
  },
  {
   "cell_type": "code",
   "execution_count": null,
   "id": "c6a000f3",
   "metadata": {},
   "outputs": [],
   "source": [
    "data.hist(column = 'SCREEN SIZE');"
   ]
  },
  {
   "cell_type": "code",
   "execution_count": null,
   "id": "2263053c",
   "metadata": {},
   "outputs": [],
   "source": [
    "data.hist(column = 'SSD SIZE');"
   ]
  },
  {
   "cell_type": "code",
   "execution_count": null,
   "id": "688b7d97",
   "metadata": {},
   "outputs": [],
   "source": [
    "data.hist(column = 'HDD SIZE');"
   ]
  },
  {
   "cell_type": "code",
   "execution_count": null,
   "id": "839d68b9",
   "metadata": {},
   "outputs": [],
   "source": [
    "data.hist(column = 'RAM SIZE', by = 'RAM(DDR) TYPE');"
   ]
  },
  {
   "cell_type": "code",
   "execution_count": null,
   "id": "2ee89f1e",
   "metadata": {},
   "outputs": [],
   "source": [
    "data.hist(column = 'CPU GENERATION', by = 'BRAND');"
   ]
  },
  {
   "cell_type": "code",
   "execution_count": null,
   "id": "17e20b25",
   "metadata": {},
   "outputs": [],
   "source": [
    "data.hist(column = 'GPU BRAND', by = 'BRAND');"
   ]
  },
  {
   "cell_type": "code",
   "execution_count": null,
   "id": "6a64d8b7",
   "metadata": {},
   "outputs": [],
   "source": [
    "data.hist(column = 'SSD SIZE', by = 'BRAND');"
   ]
  },
  {
   "cell_type": "code",
   "execution_count": null,
   "id": "9374531c",
   "metadata": {},
   "outputs": [],
   "source": [
    "data.hist(column = 'HDD SIZE', by = 'BRAND');"
   ]
  },
  {
   "cell_type": "code",
   "execution_count": null,
   "id": "70c3f9e1",
   "metadata": {},
   "outputs": [],
   "source": [
    "data.hist(column = 'RAM SIZE', by = 'BRAND');"
   ]
  },
  {
   "cell_type": "code",
   "execution_count": null,
   "id": "02012f03",
   "metadata": {},
   "outputs": [],
   "source": [
    "data.hist(column = 'CPU GENERATION', by = 'CPU BRAND');"
   ]
  },
  {
   "cell_type": "code",
   "execution_count": null,
   "id": "8dcf72c3",
   "metadata": {},
   "outputs": [],
   "source": [
    "data.hist(column = 'CPU GENERATION', by = 'CPU CORE');"
   ]
  },
  {
   "cell_type": "markdown",
   "id": "4102b268",
   "metadata": {},
   "source": [
    "## PIE PLOT"
   ]
  },
  {
   "cell_type": "code",
   "execution_count": null,
   "id": "535bd036",
   "metadata": {},
   "outputs": [],
   "source": [
    "data['BRAND'].value_counts().plot.pie();"
   ]
  },
  {
   "cell_type": "code",
   "execution_count": null,
   "id": "721edf4f",
   "metadata": {},
   "outputs": [],
   "source": [
    "data['STATE'].value_counts().plot.pie();"
   ]
  },
  {
   "cell_type": "code",
   "execution_count": null,
   "id": "39edd40e",
   "metadata": {},
   "outputs": [],
   "source": [
    "data['DISK TYPE'].value_counts().plot.pie();"
   ]
  },
  {
   "cell_type": "code",
   "execution_count": null,
   "id": "f3689650",
   "metadata": {},
   "outputs": [],
   "source": [
    "data['RAM(DDR) TYPE'].value_counts().plot.pie();"
   ]
  },
  {
   "cell_type": "code",
   "execution_count": null,
   "id": "4837b40e",
   "metadata": {},
   "outputs": [],
   "source": [
    "data['CPU BRAND'].value_counts().plot.pie();"
   ]
  },
  {
   "cell_type": "code",
   "execution_count": null,
   "id": "9824aba6",
   "metadata": {},
   "outputs": [],
   "source": [
    "data['SSD SIZE'].value_counts().plot.pie();"
   ]
  },
  {
   "cell_type": "code",
   "execution_count": null,
   "id": "5a5451bd",
   "metadata": {},
   "outputs": [],
   "source": [
    "data['HDD SIZE'].value_counts().plot.pie();"
   ]
  },
  {
   "cell_type": "code",
   "execution_count": null,
   "id": "30986445",
   "metadata": {},
   "outputs": [],
   "source": [
    "data['RAM SIZE'].value_counts().plot.pie();"
   ]
  },
  {
   "cell_type": "code",
   "execution_count": null,
   "id": "97b7bc20",
   "metadata": {},
   "outputs": [],
   "source": [
    "data['GPU BRAND'].value_counts().plot.pie();"
   ]
  },
  {
   "cell_type": "code",
   "execution_count": null,
   "id": "b72b6688",
   "metadata": {},
   "outputs": [],
   "source": []
  }
 ],
 "metadata": {
  "kernelspec": {
   "display_name": "Python 3 (ipykernel)",
   "language": "python",
   "name": "python3"
  },
  "language_info": {
   "codemirror_mode": {
    "name": "ipython",
    "version": 3
   },
   "file_extension": ".py",
   "mimetype": "text/x-python",
   "name": "python",
   "nbconvert_exporter": "python",
   "pygments_lexer": "ipython3",
   "version": "3.9.15"
  }
 },
 "nbformat": 4,
 "nbformat_minor": 5
}
