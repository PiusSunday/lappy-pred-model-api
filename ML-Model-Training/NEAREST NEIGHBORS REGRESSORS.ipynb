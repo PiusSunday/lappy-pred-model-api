{
 "cells": [
  {
   "cell_type": "markdown",
   "id": "717abb98",
   "metadata": {},
   "source": [
    "# Importing Libraries"
   ]
  },
  {
   "cell_type": "code",
   "execution_count": 1,
   "id": "079327fd",
   "metadata": {
    "ExecuteTime": {
     "end_time": "2024-02-16T15:51:04.587146Z",
     "start_time": "2024-02-16T15:51:04.142088Z"
    }
   },
   "outputs": [],
   "source": [
    "import pandas as pd"
   ]
  },
  {
   "cell_type": "code",
   "execution_count": 2,
   "id": "e7db9ea2",
   "metadata": {
    "ExecuteTime": {
     "end_time": "2024-02-16T15:51:12.688104Z",
     "start_time": "2024-02-16T15:51:12.027256Z"
    }
   },
   "outputs": [
    {
     "name": "stdout",
     "output_type": "stream",
     "text": [
      "1.2.2\n"
     ]
    }
   ],
   "source": [
    "import sklearn\n",
    "print(sklearn.__version__)"
   ]
  },
  {
   "cell_type": "code",
   "execution_count": 2,
   "id": "e0a36b90",
   "metadata": {
    "ExecuteTime": {
     "end_time": "2024-02-16T15:51:13.626152Z",
     "start_time": "2024-02-16T15:51:13.623828Z"
    }
   },
   "outputs": [],
   "source": []
  },
  {
   "cell_type": "markdown",
   "id": "b0d30266",
   "metadata": {},
   "source": [
    "## Importing Datasets"
   ]
  },
  {
   "cell_type": "code",
   "execution_count": 3,
   "id": "685e5091",
   "metadata": {
    "ExecuteTime": {
     "end_time": "2024-02-16T15:51:15.654575Z",
     "start_time": "2024-02-16T15:51:15.491374Z"
    }
   },
   "outputs": [],
   "source": [
    "import os\n",
    "\n",
    "# Get the absolute path of the current working directory\n",
    "current_directory = os.getcwd()\n",
    "\n",
    "# Construct the relative path to your data folder and the Excel file\n",
    "relative_path = 'data/laptop_data.xlsx' ## NOTE HERE I TRIED WITH OUR ALREADY CLEANED DATA BUT REALISTICALLY, WE REMOVE OUTLIERS FROM OUR DATA WHEN THEY ARE NOT YET CLEANED UP\n",
    "\n",
    "# Combine the current directory with the relative path to get the absolute path to your Excel file\n",
    "file_path = os.path.join(current_directory, relative_path)\n",
    "\n",
    "# Read the Excel file using the constructed file path\n",
    "dataset = pd.read_excel(file_path)"
   ]
  },
  {
   "cell_type": "code",
   "execution_count": 4,
   "id": "e3fc4b9f",
   "metadata": {
    "ExecuteTime": {
     "end_time": "2024-02-16T15:51:16.642774Z",
     "start_time": "2024-02-16T15:51:16.634317Z"
    }
   },
   "outputs": [
    {
     "data": {
      "text/plain": "(254, 16)"
     },
     "execution_count": 4,
     "metadata": {},
     "output_type": "execute_result"
    }
   ],
   "source": [
    "dataset.shape"
   ]
  },
  {
   "cell_type": "markdown",
   "id": "d67e0c48",
   "metadata": {},
   "source": [
    "## Select the important columns necessary for training/building our model"
   ]
  },
  {
   "cell_type": "code",
   "execution_count": 5,
   "id": "0c84372b",
   "metadata": {
    "ExecuteTime": {
     "end_time": "2024-02-16T15:51:18.779794Z",
     "start_time": "2024-02-16T15:51:18.776436Z"
    }
   },
   "outputs": [],
   "source": [
    "dataset = dataset[['BRAND', 'CPU BRAND', 'CPU CORE', 'CPU GENERATION', 'CPU FAMILY', 'RAM SIZE', 'RAM(DDR) TYPE', 'DISK TYPE', 'SSD SIZE',\n",
    "                   'HDD SIZE', 'GPU BRAND', 'GPU TYPE', 'SCREEN SIZE', 'SCREEN RESOLUTION', 'STATE', 'PRICE']]"
   ]
  },
  {
   "cell_type": "code",
   "execution_count": 5,
   "id": "739303e1",
   "metadata": {
    "ExecuteTime": {
     "end_time": "2024-02-16T15:51:19.357Z",
     "start_time": "2024-02-16T15:51:19.354642Z"
    }
   },
   "outputs": [],
   "source": []
  },
  {
   "cell_type": "markdown",
   "id": "eb445b38",
   "metadata": {},
   "source": [
    "## Convert the DataType of categorical datas"
   ]
  },
  {
   "cell_type": "code",
   "execution_count": 6,
   "id": "2376461c",
   "metadata": {
    "ExecuteTime": {
     "end_time": "2024-02-16T15:51:29.636515Z",
     "start_time": "2024-02-16T15:51:29.626868Z"
    }
   },
   "outputs": [],
   "source": [
    "## CATEGORICAL\n",
    "dataset[\"BRAND\"] = dataset[\"BRAND\"].astype(\"str\")\n",
    "dataset[\"CPU BRAND\"] = dataset[\"CPU BRAND\"].astype(\"str\")\n",
    "dataset[\"CPU CORE\"] = dataset[\"CPU CORE\"].astype(\"str\")\n",
    "dataset[\"CPU FAMILY\"] = dataset[\"CPU FAMILY\"].astype(\"str\")\n",
    "dataset[\"DISK TYPE\"] = dataset[\"DISK TYPE\"].astype(\"str\")\n",
    "dataset[\"GPU BRAND\"] = dataset[\"GPU BRAND\"].astype(\"str\")\n",
    "dataset[\"GPU TYPE\"] = dataset[\"GPU TYPE\"].astype(\"str\")\n",
    "dataset[\"SCREEN RESOLUTION\"] = dataset[\"SCREEN RESOLUTION\"].astype(\"str\")\n",
    "dataset[\"STATE\"] = dataset[\"STATE\"].astype(\"str\")"
   ]
  },
  {
   "cell_type": "code",
   "execution_count": 6,
   "id": "c9b1fe62",
   "metadata": {
    "ExecuteTime": {
     "end_time": "2024-02-16T15:51:30.180822Z",
     "start_time": "2024-02-16T15:51:30.171045Z"
    }
   },
   "outputs": [],
   "source": []
  },
  {
   "cell_type": "code",
   "execution_count": 7,
   "id": "e21d493a",
   "metadata": {
    "ExecuteTime": {
     "end_time": "2024-02-16T15:51:30.892933Z",
     "start_time": "2024-02-16T15:51:30.884658Z"
    }
   },
   "outputs": [
    {
     "data": {
      "text/plain": "pandas.core.frame.DataFrame"
     },
     "execution_count": 7,
     "metadata": {},
     "output_type": "execute_result"
    }
   ],
   "source": [
    "type(dataset)"
   ]
  },
  {
   "cell_type": "code",
   "execution_count": 8,
   "id": "437902b7",
   "metadata": {
    "ExecuteTime": {
     "end_time": "2024-02-16T15:51:31.686666Z",
     "start_time": "2024-02-16T15:51:31.682302Z"
    }
   },
   "outputs": [
    {
     "data": {
      "text/plain": "array([['ACER', 'Intel', 'Core i3', ..., 'HD', 'USED', 79000],\n       ['ACER', 'Intel', 'Core i3', ..., 'HD', 'USED', 79000],\n       ['ACER', 'Intel', 'Core i3', ..., 'FHD', 'USED', 88000],\n       ...,\n       ['LENOVO', 'AMD', 'Ryzen 7', ..., 'FHD', 'USED', 112000],\n       ['LENOVO', 'AMD', 'Ryzen 7', ..., 'FHD', 'USED', 135000],\n       ['LENOVO', 'AMD', 'Ryzen 7', ..., 'FHD', 'USED', 135000]],\n      dtype=object)"
     },
     "execution_count": 8,
     "metadata": {},
     "output_type": "execute_result"
    }
   ],
   "source": [
    "dataset.values"
   ]
  },
  {
   "cell_type": "code",
   "execution_count": 8,
   "id": "0eb08b85",
   "metadata": {
    "ExecuteTime": {
     "end_time": "2024-02-16T15:51:33.134956Z",
     "start_time": "2024-02-16T15:51:33.133201Z"
    }
   },
   "outputs": [],
   "source": []
  },
  {
   "cell_type": "markdown",
   "id": "1280c625",
   "metadata": {},
   "source": [
    "## Selecting the X and y columns\n",
    "\n",
    "- **X**: represent our FEATURES that our model will learn from\n",
    "\n",
    "- **y**: represent the Label column our model will train with"
   ]
  },
  {
   "cell_type": "code",
   "execution_count": 9,
   "id": "0e91135e",
   "metadata": {
    "ExecuteTime": {
     "end_time": "2024-02-16T15:51:42.129766Z",
     "start_time": "2024-02-16T15:51:42.120252Z"
    }
   },
   "outputs": [],
   "source": [
    "X = dataset.drop('PRICE', axis = 'columns')"
   ]
  },
  {
   "cell_type": "code",
   "execution_count": 10,
   "id": "4f4d75a8",
   "metadata": {
    "ExecuteTime": {
     "end_time": "2024-02-16T15:51:42.844771Z",
     "start_time": "2024-02-16T15:51:42.841360Z"
    }
   },
   "outputs": [
    {
     "data": {
      "text/plain": "(254, 15)"
     },
     "execution_count": 10,
     "metadata": {},
     "output_type": "execute_result"
    }
   ],
   "source": [
    "X.shape"
   ]
  },
  {
   "cell_type": "code",
   "execution_count": 11,
   "id": "348d96f5",
   "metadata": {
    "ExecuteTime": {
     "end_time": "2024-02-16T15:51:44.348268Z",
     "start_time": "2024-02-16T15:51:44.346236Z"
    }
   },
   "outputs": [],
   "source": [
    "y = dataset.PRICE"
   ]
  },
  {
   "cell_type": "code",
   "execution_count": 12,
   "id": "a5e207dd",
   "metadata": {
    "ExecuteTime": {
     "end_time": "2024-02-16T15:51:45.340192Z",
     "start_time": "2024-02-16T15:51:45.337377Z"
    }
   },
   "outputs": [
    {
     "data": {
      "text/plain": "(254, 1)"
     },
     "execution_count": 12,
     "metadata": {},
     "output_type": "execute_result"
    }
   ],
   "source": [
    "y = y.values.reshape((254,1))\n",
    "y.shape"
   ]
  },
  {
   "cell_type": "code",
   "execution_count": 12,
   "id": "6d1b6e52",
   "metadata": {
    "ExecuteTime": {
     "end_time": "2024-02-16T15:51:46.743523Z",
     "start_time": "2024-02-16T15:51:46.735402Z"
    }
   },
   "outputs": [],
   "source": []
  },
  {
   "cell_type": "code",
   "execution_count": 12,
   "id": "8eea0c0e",
   "metadata": {
    "ExecuteTime": {
     "end_time": "2024-02-16T15:51:47.528814Z",
     "start_time": "2024-02-16T15:51:47.527193Z"
    }
   },
   "outputs": [],
   "source": []
  },
  {
   "cell_type": "markdown",
   "id": "d8fc7404",
   "metadata": {},
   "source": [
    "## Splitting data into Train and Test sets"
   ]
  },
  {
   "cell_type": "code",
   "execution_count": 13,
   "id": "9933a7b9",
   "metadata": {
    "ExecuteTime": {
     "end_time": "2024-02-16T15:51:51.403597Z",
     "start_time": "2024-02-16T15:51:51.316673Z"
    }
   },
   "outputs": [],
   "source": [
    "from sklearn.model_selection import train_test_split"
   ]
  },
  {
   "cell_type": "code",
   "execution_count": 14,
   "id": "f3c388a9",
   "metadata": {
    "ExecuteTime": {
     "end_time": "2024-02-16T15:51:51.984957Z",
     "start_time": "2024-02-16T15:51:51.979132Z"
    }
   },
   "outputs": [],
   "source": [
    "X_train, X_test, y_train, y_test = train_test_split(X, y, test_size = 0.2, random_state = 0)"
   ]
  },
  {
   "cell_type": "code",
   "execution_count": 14,
   "id": "a431972d",
   "metadata": {
    "ExecuteTime": {
     "end_time": "2024-02-16T15:51:52.876748Z",
     "start_time": "2024-02-16T15:51:52.874039Z"
    }
   },
   "outputs": [],
   "source": []
  },
  {
   "cell_type": "code",
   "execution_count": 14,
   "id": "2e7556c2",
   "metadata": {
    "ExecuteTime": {
     "end_time": "2024-02-16T15:51:53.355604Z",
     "start_time": "2024-02-16T15:51:53.353019Z"
    }
   },
   "outputs": [],
   "source": []
  },
  {
   "cell_type": "code",
   "execution_count": 15,
   "id": "d800d1d3",
   "metadata": {
    "ExecuteTime": {
     "end_time": "2024-02-16T15:51:53.755228Z",
     "start_time": "2024-02-16T15:51:53.752828Z"
    }
   },
   "outputs": [],
   "source": [
    "categorical_data = dataset[['BRAND', 'CPU BRAND', 'CPU CORE', 'CPU FAMILY', 'DISK TYPE',\n",
    "               'GPU BRAND', 'GPU TYPE', 'SCREEN RESOLUTION', 'STATE']]"
   ]
  },
  {
   "cell_type": "code",
   "execution_count": 16,
   "id": "012e71a7",
   "metadata": {
    "ExecuteTime": {
     "end_time": "2024-02-16T15:51:54.258594Z",
     "start_time": "2024-02-16T15:51:54.255672Z"
    }
   },
   "outputs": [],
   "source": [
    "categorical_columns = ['BRAND', 'CPU BRAND', 'CPU CORE', 'CPU FAMILY', 'DISK TYPE',\n",
    "               'GPU BRAND', 'GPU TYPE', 'SCREEN RESOLUTION', 'STATE']"
   ]
  },
  {
   "cell_type": "code",
   "execution_count": 16,
   "id": "0e28ba59",
   "metadata": {
    "ExecuteTime": {
     "end_time": "2024-02-16T15:51:54.930028Z",
     "start_time": "2024-02-16T15:51:54.927959Z"
    }
   },
   "outputs": [],
   "source": []
  },
  {
   "cell_type": "code",
   "execution_count": 17,
   "id": "b94cf610",
   "metadata": {
    "ExecuteTime": {
     "end_time": "2024-02-16T15:51:55.362161Z",
     "start_time": "2024-02-16T15:51:55.359365Z"
    }
   },
   "outputs": [],
   "source": [
    "numerical_data = dataset[['CPU GENERATION', 'RAM SIZE', 'RAM(DDR) TYPE', 'SSD SIZE', 'HDD SIZE', 'SCREEN SIZE']]"
   ]
  },
  {
   "cell_type": "code",
   "execution_count": 18,
   "id": "8a73a7a2",
   "metadata": {
    "ExecuteTime": {
     "end_time": "2024-02-16T15:51:55.614692Z",
     "start_time": "2024-02-16T15:51:55.612554Z"
    }
   },
   "outputs": [],
   "source": [
    "numerical_columns = ['CPU GENERATION', 'RAM SIZE', 'RAM(DDR) TYPE', 'SSD SIZE', 'HDD SIZE', 'SCREEN SIZE']"
   ]
  },
  {
   "cell_type": "code",
   "execution_count": 18,
   "id": "97ca7245",
   "metadata": {
    "ExecuteTime": {
     "end_time": "2024-02-16T15:51:55.848851Z",
     "start_time": "2024-02-16T15:51:55.847110Z"
    }
   },
   "outputs": [],
   "source": []
  },
  {
   "cell_type": "code",
   "execution_count": 18,
   "id": "a5788dec",
   "metadata": {
    "ExecuteTime": {
     "end_time": "2024-02-16T15:51:56.625964Z",
     "start_time": "2024-02-16T15:51:56.624297Z"
    }
   },
   "outputs": [],
   "source": []
  },
  {
   "cell_type": "markdown",
   "id": "226447f7",
   "metadata": {},
   "source": [
    "## Importing Libraries"
   ]
  },
  {
   "cell_type": "code",
   "execution_count": 19,
   "id": "475f0c00",
   "metadata": {
    "ExecuteTime": {
     "end_time": "2024-02-16T15:51:59.969005Z",
     "start_time": "2024-02-16T15:51:59.941874Z"
    }
   },
   "outputs": [],
   "source": [
    "from sklearn.preprocessing import OneHotEncoder\n",
    "\n",
    "from sklearn.preprocessing import StandardScaler\n",
    "\n",
    "from sklearn.preprocessing import MinMaxScaler\n",
    "\n",
    "from sklearn.compose import ColumnTransformer\n",
    "\n",
    "from sklearn.pipeline import Pipeline"
   ]
  },
  {
   "cell_type": "code",
   "execution_count": 19,
   "id": "9a16d8bb",
   "metadata": {
    "ExecuteTime": {
     "end_time": "2024-02-16T15:52:11.630357Z",
     "start_time": "2024-02-16T15:52:11.626186Z"
    }
   },
   "outputs": [],
   "source": []
  },
  {
   "cell_type": "code",
   "execution_count": 19,
   "id": "64c246c2",
   "metadata": {
    "ExecuteTime": {
     "end_time": "2024-02-16T15:52:11.978862Z",
     "start_time": "2024-02-16T15:52:11.977367Z"
    }
   },
   "outputs": [],
   "source": []
  },
  {
   "cell_type": "markdown",
   "id": "43363713",
   "metadata": {},
   "source": [
    "## Normalization and Standardization"
   ]
  },
  {
   "cell_type": "code",
   "execution_count": 20,
   "id": "3647b4d0",
   "metadata": {
    "ExecuteTime": {
     "end_time": "2024-02-16T15:52:21.843037Z",
     "start_time": "2024-02-16T15:52:21.838829Z"
    }
   },
   "outputs": [],
   "source": [
    "num_pipeline = Pipeline([\n",
    "    (\"MinMax_Scaler\", MinMaxScaler()),\n",
    "    ('Standard_Scaler', StandardScaler())\n",
    "])"
   ]
  },
  {
   "cell_type": "code",
   "execution_count": 20,
   "id": "7d709f20",
   "metadata": {
    "ExecuteTime": {
     "end_time": "2024-02-16T15:52:23.113219Z",
     "start_time": "2024-02-16T15:52:23.111551Z"
    }
   },
   "outputs": [],
   "source": []
  },
  {
   "cell_type": "code",
   "execution_count": 20,
   "id": "35c6cbf7",
   "metadata": {
    "ExecuteTime": {
     "end_time": "2024-02-16T15:52:23.688081Z",
     "start_time": "2024-02-16T15:52:23.684318Z"
    }
   },
   "outputs": [],
   "source": []
  },
  {
   "cell_type": "markdown",
   "id": "7935ff81",
   "metadata": {},
   "source": [
    "## ColumnTransformer and OneHotEncoding"
   ]
  },
  {
   "cell_type": "code",
   "execution_count": 21,
   "id": "82684d50",
   "metadata": {
    "ExecuteTime": {
     "end_time": "2024-02-16T15:52:55.046193Z",
     "start_time": "2024-02-16T15:52:55.040625Z"
    }
   },
   "outputs": [],
   "source": [
    "column_trans = ColumnTransformer(transformers = [\n",
    "    (\"numerical\", num_pipeline, numerical_columns),\n",
    "    (\"categorical\", OneHotEncoder(sparse = False, handle_unknown='ignore'), categorical_columns),\n",
    "], remainder = 'passthrough')"
   ]
  },
  {
   "cell_type": "code",
   "execution_count": 21,
   "id": "adc7de46",
   "metadata": {
    "ExecuteTime": {
     "end_time": "2024-02-16T15:52:56.023441Z",
     "start_time": "2024-02-16T15:52:56.021485Z"
    }
   },
   "outputs": [],
   "source": []
  },
  {
   "cell_type": "code",
   "execution_count": 21,
   "id": "8c2b323d",
   "metadata": {
    "ExecuteTime": {
     "end_time": "2024-02-16T15:52:56.574044Z",
     "start_time": "2024-02-16T15:52:56.569657Z"
    }
   },
   "outputs": [],
   "source": []
  },
  {
   "cell_type": "markdown",
   "id": "2dde5632",
   "metadata": {},
   "source": [
    "## Model Building"
   ]
  },
  {
   "cell_type": "code",
   "execution_count": 22,
   "id": "b6670289",
   "metadata": {
    "ExecuteTime": {
     "end_time": "2024-02-16T15:53:01.219345Z",
     "start_time": "2024-02-16T15:53:01.214013Z"
    }
   },
   "outputs": [],
   "source": [
    "from sklearn.metrics import explained_variance_score, mean_absolute_error, r2_score, mean_squared_error"
   ]
  },
  {
   "cell_type": "code",
   "execution_count": 23,
   "id": "812fd18c",
   "metadata": {
    "ExecuteTime": {
     "end_time": "2024-02-16T15:53:02.412366Z",
     "start_time": "2024-02-16T15:53:02.259568Z"
    }
   },
   "outputs": [],
   "source": [
    "from time import time\n",
    "\n",
    "from sklearn.neighbors import KNeighborsRegressor\n",
    "\n",
    "from sklearn.neighbors import RadiusNeighborsRegressor"
   ]
  },
  {
   "cell_type": "code",
   "execution_count": 24,
   "id": "8d887dd9",
   "metadata": {
    "ExecuteTime": {
     "end_time": "2024-02-16T15:53:03.899485Z",
     "start_time": "2024-02-16T15:53:03.897165Z"
    }
   },
   "outputs": [],
   "source": [
    "regressors = [\n",
    "    KNeighborsRegressor(),\n",
    "    RadiusNeighborsRegressor()\n",
    "]"
   ]
  },
  {
   "cell_type": "code",
   "execution_count": 25,
   "id": "ba3a4085",
   "metadata": {
    "ExecuteTime": {
     "end_time": "2024-02-16T15:53:04.801324Z",
     "start_time": "2024-02-16T15:53:04.741693Z"
    }
   },
   "outputs": [
    {
     "name": "stdout",
     "output_type": "stream",
     "text": [
      "KNeighborsRegressor()\n",
      "\t Training Time: 0.009s\n",
      "\t Prediction Time: 0.000s\n",
      "\t Explained Variance Score: 0.7373424646119409\n",
      "\t Mean Absolute Error: 16624.313725490196\n",
      "\t Mean Squared Error: 463333552.9411765\n",
      "\t Root Mean Squared Error: 21525.184155801697\n",
      "\t R2 Score: 0.7313496742271093\n",
      "\n",
      "RadiusNeighborsRegressor()\n",
      "\t Training Time: 0.004s\n",
      "\t Prediction Time: 0.000s\n",
      "\t Explained Variance Score: -2.8897990702139094\n",
      "\t Mean Absolute Error: 73293.46405228759\n",
      "\t Mean Squared Error: 11282893267.973858\n",
      "\t Root Mean Squared Error: 106220.96435249427\n",
      "\t R2 Score: -5.542053630393479\n"
     ]
    },
    {
     "name": "stderr",
     "output_type": "stream",
     "text": [
      "/opt/homebrew/anaconda3/lib/python3.11/site-packages/sklearn/preprocessing/_encoders.py:868: FutureWarning: `sparse` was renamed to `sparse_output` in version 1.2 and will be removed in 1.4. `sparse_output` is ignored unless you leave `sparse` to its default value.\n",
      "  warnings.warn(\n",
      "/opt/homebrew/anaconda3/lib/python3.11/site-packages/sklearn/preprocessing/_encoders.py:868: FutureWarning: `sparse` was renamed to `sparse_output` in version 1.2 and will be removed in 1.4. `sparse_output` is ignored unless you leave `sparse` to its default value.\n",
      "  warnings.warn(\n",
      "/opt/homebrew/anaconda3/lib/python3.11/site-packages/numpy/core/numeric.py:407: RuntimeWarning: invalid value encountered in cast\n",
      "  multiarray.copyto(res, fill_value, casting='unsafe')\n"
     ]
    }
   ],
   "source": [
    "# head = 10\n",
    "for model in regressors:    # [:head]:\n",
    "    start = time()\n",
    "    \n",
    "    \n",
    "    pipe = Pipeline([\n",
    "    ('step1', column_trans),\n",
    "    ('step2', model)\n",
    "    ])\n",
    "    \n",
    "    \n",
    "    pipe.fit(X_train, y_train)\n",
    "\n",
    "\n",
    "    train_time = time() - start\n",
    "    start = time()\n",
    "    predict_time = time()-start\n",
    "    \n",
    "    y_pred = pipe.predict(X_test)\n",
    "    \n",
    "    print(model)\n",
    "    print(\"\\t Training Time: %0.3fs\" % train_time)\n",
    "    print(\"\\t Prediction Time: %0.3fs\" % predict_time)\n",
    "    print(\"\\t Explained Variance Score:\", explained_variance_score(y_test, y_pred))\n",
    "    print(\"\\t Mean Absolute Error:\", mean_absolute_error(y_test, y_pred))\n",
    "    print(\"\\t Mean Squared Error:\", mean_squared_error(y_test, y_pred))\n",
    "    print(\"\\t Root Mean Squared Error:\", mean_squared_error(y_test, y_pred, squared = False))\n",
    "    print(\"\\t R2 Score:\", r2_score(y_test, y_pred))\n",
    "    print()"
   ]
  },
  {
   "cell_type": "code",
   "execution_count": null,
   "id": "1c1ea25e",
   "metadata": {},
   "outputs": [],
   "source": []
  }
 ],
 "metadata": {
  "kernelspec": {
   "display_name": "Python 3 (ipykernel)",
   "language": "python",
   "name": "python3"
  },
  "language_info": {
   "codemirror_mode": {
    "name": "ipython",
    "version": 3
   },
   "file_extension": ".py",
   "mimetype": "text/x-python",
   "name": "python",
   "nbconvert_exporter": "python",
   "pygments_lexer": "ipython3",
   "version": "3.9.12"
  }
 },
 "nbformat": 4,
 "nbformat_minor": 5
}
