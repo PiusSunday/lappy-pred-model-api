{
 "cells": [
  {
   "cell_type": "markdown",
   "id": "717abb98",
   "metadata": {},
   "source": [
    "# Importing Libraries"
   ]
  },
  {
   "cell_type": "code",
   "execution_count": null,
   "id": "079327fd",
   "metadata": {},
   "outputs": [],
   "source": [
    "import pandas as pd\n",
    "import numpy as np"
   ]
  },
  {
   "cell_type": "code",
   "execution_count": null,
   "id": "e7db9ea2",
   "metadata": {},
   "outputs": [],
   "source": [
    "import sklearn\n",
    "print(sklearn.__version__)"
   ]
  },
  {
   "cell_type": "code",
   "execution_count": null,
   "id": "e0a36b90",
   "metadata": {},
   "outputs": [],
   "source": []
  },
  {
   "cell_type": "markdown",
   "id": "b0d30266",
   "metadata": {},
   "source": [
    "## Importing Datasets"
   ]
  },
  {
   "cell_type": "code",
   "execution_count": null,
   "id": "685e5091",
   "metadata": {},
   "outputs": [],
   "source": [
    "import os\n",
    "\n",
    "# Get the absolute path of the current working directory\n",
    "current_directory = os.getcwd()\n",
    "\n",
    "# Construct the relative path to your data folder and the Excel file\n",
    "relative_path = 'data/laptop_data.xlsx' ## NOTE HERE I TRIED WITH OUR ALREADY CLEANED DATA BUT REALISTICALLY, WE REMOVE OUTLIERS FROM OUR DATA WHEN THEY ARE NOT YET CLEANED UP\n",
    "\n",
    "# Combine the current directory with the relative path to get the absolute path to your Excel file\n",
    "file_path = os.path.join(current_directory, relative_path)\n",
    "\n",
    "# Read the Excel file using the constructed file path\n",
    "dataset = pd.read_excel(file_path)"
   ]
  },
  {
   "cell_type": "code",
   "execution_count": null,
   "id": "e3fc4b9f",
   "metadata": {},
   "outputs": [],
   "source": [
    "dataset.shape"
   ]
  },
  {
   "cell_type": "markdown",
   "id": "d67e0c48",
   "metadata": {},
   "source": [
    "## Select the important columns necessary for training/building our model"
   ]
  },
  {
   "cell_type": "code",
   "execution_count": null,
   "id": "0c84372b",
   "metadata": {},
   "outputs": [],
   "source": [
    "dataset = dataset[['BRAND', 'CPU BRAND', 'CPU CORE', 'CPU GENERATION', 'CPU FAMILY', 'RAM SIZE', 'RAM(DDR) TYPE', 'DISK TYPE', 'SSD SIZE',\n",
    "                   'HDD SIZE', 'GPU BRAND', 'GPU TYPE', 'SCREEN SIZE', 'SCREEN RESOLUTION', 'STATE', 'PRICE']]"
   ]
  },
  {
   "cell_type": "code",
   "execution_count": null,
   "id": "803cb380",
   "metadata": {},
   "outputs": [],
   "source": []
  },
  {
   "cell_type": "markdown",
   "id": "62092b8c",
   "metadata": {},
   "source": [
    "## Convert the DataType of categorical datas"
   ]
  },
  {
   "cell_type": "code",
   "execution_count": null,
   "id": "2376461c",
   "metadata": {},
   "outputs": [],
   "source": [
    "## CATEGORICAL\n",
    "dataset[\"BRAND\"] = dataset[\"BRAND\"].astype(\"str\")\n",
    "dataset[\"CPU BRAND\"] = dataset[\"CPU BRAND\"].astype(\"str\")\n",
    "dataset[\"CPU CORE\"] = dataset[\"CPU CORE\"].astype(\"str\")\n",
    "dataset[\"CPU FAMILY\"] = dataset[\"CPU FAMILY\"].astype(\"str\")\n",
    "dataset[\"DISK TYPE\"] = dataset[\"DISK TYPE\"].astype(\"str\")\n",
    "dataset[\"GPU BRAND\"] = dataset[\"GPU BRAND\"].astype(\"str\")\n",
    "dataset[\"GPU TYPE\"] = dataset[\"GPU TYPE\"].astype(\"str\")\n",
    "dataset[\"SCREEN RESOLUTION\"] = dataset[\"SCREEN RESOLUTION\"].astype(\"str\")\n",
    "dataset[\"STATE\"] = dataset[\"STATE\"].astype(\"str\")"
   ]
  },
  {
   "cell_type": "code",
   "execution_count": null,
   "id": "c9b1fe62",
   "metadata": {},
   "outputs": [],
   "source": []
  },
  {
   "cell_type": "code",
   "execution_count": null,
   "id": "e21d493a",
   "metadata": {},
   "outputs": [],
   "source": [
    "type(dataset)"
   ]
  },
  {
   "cell_type": "code",
   "execution_count": null,
   "id": "437902b7",
   "metadata": {
    "scrolled": true
   },
   "outputs": [],
   "source": [
    "dataset.values"
   ]
  },
  {
   "cell_type": "code",
   "execution_count": null,
   "id": "0eb08b85",
   "metadata": {},
   "outputs": [],
   "source": []
  },
  {
   "cell_type": "markdown",
   "id": "8e5e8a35",
   "metadata": {},
   "source": [
    "## Selecting the X and y columns\n",
    "\n",
    "- **X**: represent our FEATURES that our model will learn from\n",
    "\n",
    "- **y**: represent the Label column our model will train with"
   ]
  },
  {
   "cell_type": "code",
   "execution_count": null,
   "id": "0e91135e",
   "metadata": {},
   "outputs": [],
   "source": [
    "X = dataset.drop('PRICE', axis = 'columns')"
   ]
  },
  {
   "cell_type": "code",
   "execution_count": null,
   "id": "4f4d75a8",
   "metadata": {},
   "outputs": [],
   "source": [
    "X.shape"
   ]
  },
  {
   "cell_type": "code",
   "execution_count": null,
   "id": "348d96f5",
   "metadata": {},
   "outputs": [],
   "source": [
    "y = dataset.PRICE"
   ]
  },
  {
   "cell_type": "code",
   "execution_count": null,
   "id": "a5e207dd",
   "metadata": {},
   "outputs": [],
   "source": [
    "y = y.values.reshape((254,1))\n",
    "y.shape"
   ]
  },
  {
   "cell_type": "code",
   "execution_count": null,
   "id": "6d1b6e52",
   "metadata": {},
   "outputs": [],
   "source": []
  },
  {
   "cell_type": "code",
   "execution_count": null,
   "id": "8eea0c0e",
   "metadata": {},
   "outputs": [],
   "source": []
  },
  {
   "cell_type": "markdown",
   "id": "0e6524ee",
   "metadata": {},
   "source": [
    "## Splitting data into Train and Test sets"
   ]
  },
  {
   "cell_type": "code",
   "execution_count": null,
   "id": "9933a7b9",
   "metadata": {},
   "outputs": [],
   "source": [
    "from sklearn.model_selection import train_test_split"
   ]
  },
  {
   "cell_type": "code",
   "execution_count": null,
   "id": "f3c388a9",
   "metadata": {},
   "outputs": [],
   "source": [
    "X_train, X_test, y_train, y_test = train_test_split(X, y, test_size = 0.2, random_state = 0)"
   ]
  },
  {
   "cell_type": "code",
   "execution_count": null,
   "id": "a431972d",
   "metadata": {},
   "outputs": [],
   "source": []
  },
  {
   "cell_type": "code",
   "execution_count": null,
   "id": "2e7556c2",
   "metadata": {},
   "outputs": [],
   "source": []
  },
  {
   "cell_type": "code",
   "execution_count": null,
   "id": "d800d1d3",
   "metadata": {},
   "outputs": [],
   "source": [
    "categorical_data = dataset[['BRAND', 'CPU BRAND', 'CPU CORE', 'CPU FAMILY', 'DISK TYPE',\n",
    "               'GPU BRAND', 'GPU TYPE', 'SCREEN RESOLUTION', 'STATE']]"
   ]
  },
  {
   "cell_type": "code",
   "execution_count": null,
   "id": "012e71a7",
   "metadata": {},
   "outputs": [],
   "source": [
    "categorical_columns = ['BRAND', 'CPU BRAND', 'CPU CORE', 'CPU FAMILY', 'DISK TYPE',\n",
    "               'GPU BRAND', 'GPU TYPE', 'SCREEN RESOLUTION', 'STATE']"
   ]
  },
  {
   "cell_type": "code",
   "execution_count": null,
   "id": "0e28ba59",
   "metadata": {},
   "outputs": [],
   "source": []
  },
  {
   "cell_type": "code",
   "execution_count": null,
   "id": "b94cf610",
   "metadata": {},
   "outputs": [],
   "source": [
    "numerical_data = dataset[['CPU GENERATION', 'RAM SIZE', 'RAM(DDR) TYPE', 'SSD SIZE', 'HDD SIZE', 'SCREEN SIZE']]"
   ]
  },
  {
   "cell_type": "code",
   "execution_count": null,
   "id": "8a73a7a2",
   "metadata": {},
   "outputs": [],
   "source": [
    "numerical_columns = ['CPU GENERATION', 'RAM SIZE', 'RAM(DDR) TYPE', 'SSD SIZE', 'HDD SIZE', 'SCREEN SIZE']"
   ]
  },
  {
   "cell_type": "code",
   "execution_count": null,
   "id": "97ca7245",
   "metadata": {},
   "outputs": [],
   "source": []
  },
  {
   "cell_type": "code",
   "execution_count": null,
   "id": "a5788dec",
   "metadata": {},
   "outputs": [],
   "source": []
  },
  {
   "cell_type": "markdown",
   "id": "202f225b",
   "metadata": {},
   "source": [
    "## Importing Libraries"
   ]
  },
  {
   "cell_type": "code",
   "execution_count": null,
   "id": "475f0c00",
   "metadata": {},
   "outputs": [],
   "source": [
    "from sklearn.preprocessing import OneHotEncoder\n",
    "\n",
    "from sklearn.preprocessing import StandardScaler\n",
    "\n",
    "from sklearn.preprocessing import MinMaxScaler\n",
    "\n",
    "from sklearn.compose import ColumnTransformer\n",
    "\n",
    "from sklearn.pipeline import Pipeline\n",
    "\n",
    "from sklearn.model_selection import GridSearchCV"
   ]
  },
  {
   "cell_type": "code",
   "execution_count": null,
   "id": "9a16d8bb",
   "metadata": {},
   "outputs": [],
   "source": []
  },
  {
   "cell_type": "code",
   "execution_count": null,
   "id": "1dd11850",
   "metadata": {},
   "outputs": [],
   "source": []
  },
  {
   "cell_type": "markdown",
   "id": "bd741328",
   "metadata": {},
   "source": [
    "## Normalization and Standardization"
   ]
  },
  {
   "cell_type": "code",
   "execution_count": null,
   "id": "3647b4d0",
   "metadata": {},
   "outputs": [],
   "source": [
    "num_pipeline = Pipeline([\n",
    "    (\"MinMax_Scaler\", MinMaxScaler()),\n",
    "    ('Standard_Scaler', StandardScaler())\n",
    "])"
   ]
  },
  {
   "cell_type": "code",
   "execution_count": null,
   "id": "a9af2e27",
   "metadata": {},
   "outputs": [],
   "source": []
  },
  {
   "cell_type": "code",
   "execution_count": null,
   "id": "40627d10",
   "metadata": {},
   "outputs": [],
   "source": []
  },
  {
   "cell_type": "markdown",
   "id": "0876d85a",
   "metadata": {},
   "source": [
    "## ColumnTransformer and OneHotEncoding"
   ]
  },
  {
   "cell_type": "code",
   "execution_count": null,
   "id": "82684d50",
   "metadata": {},
   "outputs": [],
   "source": [
    "column_trans = ColumnTransformer(transformers = [\n",
    "    (\"numerical\", num_pipeline, numerical_columns),\n",
    "    (\"categorical\", OneHotEncoder(sparse_output = False, handle_unknown='ignore'), categorical_columns),\n",
    "    ], remainder = 'passthrough')"
   ]
  },
  {
   "cell_type": "code",
   "execution_count": null,
   "id": "adc7de46",
   "metadata": {},
   "outputs": [],
   "source": []
  },
  {
   "cell_type": "code",
   "execution_count": null,
   "id": "8c2b323d",
   "metadata": {},
   "outputs": [],
   "source": []
  },
  {
   "cell_type": "markdown",
   "id": "edb623b1",
   "metadata": {},
   "source": [
    "## Model Building"
   ]
  },
  {
   "cell_type": "code",
   "execution_count": null,
   "id": "b6670289",
   "metadata": {},
   "outputs": [],
   "source": [
    "from sklearn.metrics import explained_variance_score, mean_absolute_error, r2_score, mean_squared_error"
   ]
  },
  {
   "cell_type": "code",
   "execution_count": null,
   "id": "812fd18c",
   "metadata": {},
   "outputs": [],
   "source": [
    "from time import time\n",
    "\n",
    "from sklearn.linear_model import RidgeCV"
   ]
  },
  {
   "cell_type": "code",
   "execution_count": null,
   "id": "8d887dd9",
   "metadata": {},
   "outputs": [],
   "source": [
    "regressors = [\n",
    "    RidgeCV()\n",
    "]"
   ]
  },
  {
   "cell_type": "code",
   "execution_count": null,
   "id": "ba3a4085",
   "metadata": {},
   "outputs": [],
   "source": [
    "# head = 10\n",
    "for model in regressors:    # [:head]:\n",
    "    start = time()\n",
    "    \n",
    "    \n",
    "    pipe = Pipeline([\n",
    "        ('step1', column_trans),\n",
    "        ('step2', model)\n",
    "    ])\n",
    "    \n",
    "    \n",
    "    pipe.fit(X_train, y_train)\n",
    "\n",
    "\n",
    "    train_time = time() - start\n",
    "    start = time()\n",
    "    predict_time = time()-start\n",
    "    \n",
    "    y_prediction = pipe.predict(X_test)\n",
    "    \n",
    "    print(model)\n",
    "    print(\"\\t Training Time: %0.3fs\" % train_time)\n",
    "    print(\"\\t Prediction Time: %0.3fs\" % predict_time)\n",
    "    print(\"\\t Explained Variance Score:\", explained_variance_score(y_test, y_prediction))\n",
    "    print(\"\\t Mean Absolute Error:\", mean_absolute_error(y_test, y_prediction))\n",
    "    print(\"\\t Mean Squared Error:\", mean_squared_error(y_test, y_prediction))\n",
    "    print(\"\\t Root Mean Squared Error:\", mean_squared_error(y_test, y_prediction, squared = False))\n",
    "    print(\"\\t R2 Score:\", r2_score(y_test, y_prediction))\n",
    "    print()"
   ]
  },
  {
   "cell_type": "code",
   "execution_count": null,
   "id": "1c1ea25e",
   "metadata": {},
   "outputs": [],
   "source": []
  },
  {
   "cell_type": "code",
   "execution_count": null,
   "id": "dbc8d8f0",
   "metadata": {},
   "outputs": [],
   "source": []
  },
  {
   "cell_type": "markdown",
   "id": "9aee4868",
   "metadata": {},
   "source": [
    "## Model Tuning with HyperParameters"
   ]
  },
  {
   "cell_type": "code",
   "execution_count": null,
   "id": "77e1ac68",
   "metadata": {},
   "outputs": [],
   "source": [
    "# Define a range of alpha values to search\n",
    "alphas = np.logspace(-3, 3, 7)  # You can adjust the range as needed\n",
    "\n",
    "# Define other parameters you want to tune\n",
    "fit_intercept_values = [True, False]  # Whether to fit the intercept\n",
    "normalize_values = [True, False]      # Whether to normalize the data\n",
    "\n",
    "# Create a parameter grid\n",
    "params_grid = {\n",
    "    'alphas': [alphas],                   # List of alpha values\n",
    "    'fit_intercept': fit_intercept_values, # List of fit_intercept values\n",
    "}\n",
    "\n",
    "ridgeCV = RidgeCV()\n",
    "\n",
    "step2 = GridSearchCV(ridgeCV, params_grid, cv = 5, scoring = 'r2')\n",
    "\n",
    "pipe = Pipeline([\n",
    "    ('step1', column_trans),\n",
    "    ('step2', step2)\n",
    "])\n",
    "\n",
    "pipe.fit(X_train,y_train)\n",
    "\n",
    "y_prediction = pipe.predict(X_test)\n",
    "\n",
    "print('R2 score: ', r2_score(y_test, y_prediction))\n",
    "print('MAE: ', mean_absolute_error(y_test, y_prediction))\n",
    "print('R-MSE: ', mean_squared_error(y_test, y_prediction, squared = False))"
   ]
  },
  {
   "cell_type": "code",
   "execution_count": null,
   "id": "88ceae7a",
   "metadata": {},
   "outputs": [],
   "source": []
  },
  {
   "cell_type": "code",
   "execution_count": null,
   "id": "d3987cce",
   "metadata": {},
   "outputs": [],
   "source": []
  },
  {
   "cell_type": "code",
   "execution_count": null,
   "id": "54908404",
   "metadata": {},
   "outputs": [],
   "source": []
  },
  {
   "cell_type": "code",
   "execution_count": null,
   "id": "22fdafbf",
   "metadata": {},
   "outputs": [],
   "source": [
    "options = {\n",
    "    'BRAND': 'HP',\n",
    "    'CPU BRAND': 'Intel',\n",
    "    'CPU CORE': 'Core i7',\n",
    "    'CPU GENERATION': 7,\n",
    "    'CPU FAMILY': 'U',\n",
    "    'RAM SIZE': 16,\n",
    "    'RAM(DDR) TYPE': 3,\n",
    "    'DISK TYPE': 'BOTH',\n",
    "    'SSD SIZE': 512,\n",
    "    'HDD SIZE': 500,\n",
    "    'GPU BRAND': 'NVIDIA',\n",
    "    'GPU TYPE': 'GeForce GTX 1050',\n",
    "    'SCREEN SIZE': 14.0,\n",
    "    'SCREEN RESOLUTION': 'HD',\n",
    "    'STATE': 'NEW'\n",
    "}\n",
    "\n",
    "laptop_specs = pd.DataFrame(data = [options])\n",
    "laptop_specs"
   ]
  },
  {
   "cell_type": "code",
   "execution_count": null,
   "id": "b3656383",
   "metadata": {},
   "outputs": [],
   "source": []
  },
  {
   "cell_type": "code",
   "execution_count": null,
   "id": "fdc9eafb",
   "metadata": {},
   "outputs": [],
   "source": [
    "prediction = pipe.predict(laptop_specs)\n",
    "prediction_rounded = prediction.round()\n",
    "print(\"Predicted Price: \", prediction_rounded, \"DA\")"
   ]
  },
  {
   "cell_type": "code",
   "execution_count": null,
   "id": "7668be2f",
   "metadata": {},
   "outputs": [],
   "source": []
  },
  {
   "cell_type": "code",
   "execution_count": null,
   "id": "7923fc53",
   "metadata": {},
   "outputs": [],
   "source": []
  },
  {
   "cell_type": "markdown",
   "id": "17557bd2",
   "metadata": {},
   "source": [
    "## Exporting the model with Pickle"
   ]
  },
  {
   "cell_type": "code",
   "execution_count": null,
   "id": "e4c60b1c",
   "metadata": {},
   "outputs": [],
   "source": [
    "# import pickle\n",
    "# \n",
    "# pickle.dump(pipe, open('/Users/sunnythesage/DataSpellProjects/LAPPY-PRED MODEL/Api/model.pkl', 'wb'))\n",
    "# \n",
    "# print(\"MODEL SUCCESSFULLY EXPORTED!!!\")"
   ]
  }
 ],
 "metadata": {
  "kernelspec": {
   "display_name": "Python 3 (ipykernel)",
   "language": "python",
   "name": "python3"
  },
  "language_info": {
   "codemirror_mode": {
    "name": "ipython",
    "version": 3
   },
   "file_extension": ".py",
   "mimetype": "text/x-python",
   "name": "python",
   "nbconvert_exporter": "python",
   "pygments_lexer": "ipython3",
   "version": "3.9.15"
  }
 },
 "nbformat": 4,
 "nbformat_minor": 5
}
