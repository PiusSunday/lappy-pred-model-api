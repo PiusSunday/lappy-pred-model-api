{
 "cells": [
  {
   "cell_type": "markdown",
   "id": "fbbe4d7d",
   "metadata": {},
   "source": [
    "## CHECKING FOR OUTLIERS FROM DATA"
   ]
  },
  {
   "cell_type": "code",
   "execution_count": null,
   "id": "4a8490ed",
   "metadata": {},
   "outputs": [],
   "source": [
    "import pandas as pd\n",
    "\n",
    "import seaborn as sns"
   ]
  },
  {
   "cell_type": "code",
   "execution_count": null,
   "id": "db5f6e3b",
   "metadata": {},
   "outputs": [],
   "source": [
    "import os\n",
    "\n",
    "# Get the absolute path of the current working directory\n",
    "current_directory = os.getcwd()\n",
    "\n",
    "# Construct the relative path to your data folder and the Excel file\n",
    "relative_path = 'data/laptop_data.xlsx' ## NOTE HERE I TRIED WITH OUR ALREADY CLEANED DATA BUT REALISTICALLY, WE REMOVE OUTLIERS FROM OUR DATA WHEN THEY ARE NOT YET CLEANED UP\n",
    "\n",
    "# Combine the current directory with the relative path to get the absolute path to your Excel file\n",
    "file_path = os.path.join(current_directory, relative_path)\n",
    "\n",
    "# Read the Excel file using the constructed file path\n",
    "data = pd.read_excel(file_path)\n",
    "data.shape"
   ]
  },
  {
   "cell_type": "code",
   "execution_count": null,
   "id": "7d57148c",
   "metadata": {},
   "outputs": [],
   "source": []
  },
  {
   "cell_type": "code",
   "execution_count": null,
   "id": "130b3cd5",
   "metadata": {},
   "outputs": [],
   "source": [
    "data.describe()"
   ]
  },
  {
   "cell_type": "code",
   "execution_count": null,
   "id": "c7452768",
   "metadata": {},
   "outputs": [],
   "source": [
    "data.head()"
   ]
  },
  {
   "cell_type": "code",
   "execution_count": null,
   "id": "14f0b8bb",
   "metadata": {},
   "outputs": [],
   "source": [
    "data.tail()"
   ]
  },
  {
   "cell_type": "code",
   "execution_count": null,
   "id": "25e4f091",
   "metadata": {},
   "outputs": [],
   "source": []
  },
  {
   "cell_type": "code",
   "execution_count": null,
   "id": "5f9b8fd3",
   "metadata": {},
   "outputs": [],
   "source": [
    "data = data.dropna(axis=0) ## 0, or 'index' : Drop rows which contain missing values.\n",
    "data.shape"
   ]
  },
  {
   "cell_type": "code",
   "execution_count": null,
   "id": "ff966cd6",
   "metadata": {},
   "outputs": [],
   "source": []
  },
  {
   "cell_type": "code",
   "execution_count": null,
   "id": "85d291c9",
   "metadata": {},
   "outputs": [],
   "source": [
    "numeric_columns = data.select_dtypes(include=['number']).columns\n",
    "\n",
    "numeric_df = data.groupby(\"BRAND\")[numeric_columns].mean()\n",
    "\n",
    "non_numeric_df = data.groupby(\"BRAND\").first()  # Example aggregation for non-numeric columns\n",
    "\n",
    "# Merge the two DataFrames\n",
    "df = pd.concat([numeric_df, non_numeric_df], axis=1)\n",
    "\n",
    "df.plot.bar(y = \"PRICE\")"
   ]
  },
  {
   "cell_type": "code",
   "execution_count": null,
   "id": "894e153f",
   "metadata": {},
   "outputs": [],
   "source": [
    "data[\"BRAND\"].value_counts().plot.bar()"
   ]
  },
  {
   "cell_type": "code",
   "execution_count": null,
   "id": "305b28d7",
   "metadata": {},
   "outputs": [],
   "source": []
  },
  {
   "cell_type": "code",
   "execution_count": null,
   "id": "cfe97d8e",
   "metadata": {},
   "outputs": [],
   "source": []
  },
  {
   "cell_type": "code",
   "execution_count": null,
   "id": "7b4a7d74",
   "metadata": {},
   "outputs": [],
   "source": [
    "sns.boxplot(data['PRICE'])"
   ]
  },
  {
   "cell_type": "code",
   "execution_count": null,
   "id": "e6ed2142",
   "metadata": {},
   "outputs": [],
   "source": []
  },
  {
   "cell_type": "code",
   "execution_count": null,
   "id": "6ee0937f",
   "metadata": {},
   "outputs": [],
   "source": []
  },
  {
   "cell_type": "code",
   "execution_count": null,
   "id": "a647c2d2",
   "metadata": {},
   "outputs": [],
   "source": [
    "# Select only numerical columns\n",
    "numeric_columns = data.select_dtypes(include=['number']).columns\n",
    "\n",
    "# Calculate quartiles and IQR for numerical columns\n",
    "Q1 = data[numeric_columns].quantile(0.25)\n",
    "Q3 = data[numeric_columns].quantile(0.75)\n",
    "IQR = Q3 - Q1\n",
    "\n",
    "print(IQR)"
   ]
  },
  {
   "cell_type": "code",
   "execution_count": null,
   "id": "069e15e8",
   "metadata": {},
   "outputs": [],
   "source": [
    "# Align the indices of data with Q1, Q3, and IQR\n",
    "data_aligned, Q1_aligned = data.align(Q1, axis=1)\n",
    "data_aligned, Q3_aligned = data_aligned.align(Q3, axis=1)\n",
    "data_aligned, IQR_aligned = data_aligned.align(IQR, axis=1)\n",
    "\n",
    "# Filter rows based on IQR criterion\n",
    "data_filtered = data_aligned[~((data_aligned < (Q1_aligned - 1.5 * IQR_aligned)) | (data_aligned > (Q3_aligned + 1.5 * IQR_aligned))).any(axis=1)]\n",
    "\n",
    "# Check the shape of the filtered data\n",
    "print(data_filtered.shape)"
   ]
  },
  {
   "cell_type": "code",
   "execution_count": null,
   "id": "b88a43cd",
   "metadata": {},
   "outputs": [],
   "source": []
  },
  {
   "cell_type": "code",
   "execution_count": null,
   "id": "d35c36d7",
   "metadata": {},
   "outputs": [],
   "source": []
  },
  {
   "cell_type": "code",
   "execution_count": null,
   "id": "c28f2b5b",
   "metadata": {},
   "outputs": [],
   "source": [
    "sns.boxplot(data['PRICE'])"
   ]
  },
  {
   "cell_type": "code",
   "execution_count": null,
   "id": "de7833fa",
   "metadata": {},
   "outputs": [],
   "source": []
  },
  {
   "cell_type": "markdown",
   "source": [
    "## Export the new data to your local system"
   ],
   "metadata": {
    "collapsed": false
   },
   "id": "11d17cd7248379ea"
  },
  {
   "cell_type": "code",
   "execution_count": null,
   "id": "877d1a7d",
   "metadata": {},
   "outputs": [],
   "source": [
    "## Export to a Windows OS\n",
    "# data.to_excel(r\"C:\\Users\\parad\\Downloads\\ \")\n",
    "\n",
    "## Export to a macOS\n",
    "data.to_excel(r\"/Users/sunnythesage/Downloads/'NAME OF THE FILE YOU ARE EXPORTING.xlsx'\")\n",
    "\n",
    "print(\"DATA SUCCESSFULLY EXPORTED!\")"
   ]
  },
  {
   "cell_type": "code",
   "execution_count": null,
   "id": "9f685bfe",
   "metadata": {},
   "outputs": [],
   "source": []
  }
 ],
 "metadata": {
  "kernelspec": {
   "display_name": "Python 3 (ipykernel)",
   "language": "python",
   "name": "python3"
  },
  "language_info": {
   "codemirror_mode": {
    "name": "ipython",
    "version": 3
   },
   "file_extension": ".py",
   "mimetype": "text/x-python",
   "name": "python",
   "nbconvert_exporter": "python",
   "pygments_lexer": "ipython3",
   "version": "3.9.7"
  }
 },
 "nbformat": 4,
 "nbformat_minor": 5
}
