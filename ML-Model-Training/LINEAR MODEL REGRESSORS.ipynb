{
 "cells": [
  {
   "cell_type": "markdown",
   "id": "717abb98",
   "metadata": {},
   "source": [
    "# Importing Libraries"
   ]
  },
  {
   "cell_type": "code",
   "execution_count": null,
   "id": "079327fd",
   "metadata": {},
   "outputs": [],
   "source": [
    "import pandas as pd"
   ]
  },
  {
   "cell_type": "code",
   "execution_count": null,
   "id": "e7db9ea2",
   "metadata": {},
   "outputs": [],
   "source": [
    "import sklearn\n",
    "print(sklearn.__version__)"
   ]
  },
  {
   "cell_type": "code",
   "execution_count": null,
   "id": "e0a36b90",
   "metadata": {},
   "outputs": [],
   "source": []
  },
  {
   "cell_type": "markdown",
   "id": "b0d30266",
   "metadata": {},
   "source": [
    "## Importing Datasets"
   ]
  },
  {
   "cell_type": "code",
   "execution_count": null,
   "id": "685e5091",
   "metadata": {},
   "outputs": [],
   "source": [
    "import os\n",
    "\n",
    "# Get the absolute path of the current working directory\n",
    "current_directory = os.getcwd()\n",
    "\n",
    "# Construct the relative path to your data folder and the Excel file\n",
    "relative_path = 'data/laptop_data.xlsx' ## NOTE HERE I TRIED WITH OUR ALREADY CLEANED DATA BUT REALISTICALLY, WE REMOVE OUTLIERS FROM OUR DATA WHEN THEY ARE NOT YET CLEANED UP\n",
    "\n",
    "# Combine the current directory with the relative path to get the absolute path to your Excel file\n",
    "file_path = os.path.join(current_directory, relative_path)\n",
    "\n",
    "# Read the Excel file using the constructed file path\n",
    "dataset = pd.read_excel(file_path)"
   ]
  },
  {
   "cell_type": "code",
   "execution_count": null,
   "id": "e3fc4b9f",
   "metadata": {},
   "outputs": [],
   "source": [
    "dataset.shape"
   ]
  },
  {
   "cell_type": "markdown",
   "id": "d67e0c48",
   "metadata": {},
   "source": [
    "## Select the important columns necessary for training/building our model"
   ]
  },
  {
   "cell_type": "code",
   "execution_count": null,
   "id": "0c84372b",
   "metadata": {},
   "outputs": [],
   "source": [
    "dataset = dataset[['BRAND', 'CPU BRAND', 'CPU CORE', 'CPU GENERATION', 'CPU FAMILY', 'RAM SIZE', 'RAM(DDR) TYPE', 'DISK TYPE', 'SSD SIZE',\n",
    "                   'HDD SIZE', 'GPU BRAND', 'GPU TYPE', 'SCREEN SIZE', 'SCREEN RESOLUTION', 'STATE', 'PRICE']]"
   ]
  },
  {
   "cell_type": "code",
   "execution_count": null,
   "id": "739303e1",
   "metadata": {},
   "outputs": [],
   "source": []
  },
  {
   "cell_type": "markdown",
   "id": "eb445b38",
   "metadata": {},
   "source": [
    "## Convert the DataType of categorical datas"
   ]
  },
  {
   "cell_type": "code",
   "execution_count": null,
   "id": "2376461c",
   "metadata": {},
   "outputs": [],
   "source": [
    "## CATEGORICAL\n",
    "dataset[\"BRAND\"] = dataset[\"BRAND\"].astype(\"str\")\n",
    "dataset[\"CPU BRAND\"] = dataset[\"CPU BRAND\"].astype(\"str\")\n",
    "dataset[\"CPU CORE\"] = dataset[\"CPU CORE\"].astype(\"str\")\n",
    "dataset[\"CPU FAMILY\"] = dataset[\"CPU FAMILY\"].astype(\"str\")\n",
    "dataset[\"DISK TYPE\"] = dataset[\"DISK TYPE\"].astype(\"str\")\n",
    "dataset[\"GPU BRAND\"] = dataset[\"GPU BRAND\"].astype(\"str\")\n",
    "dataset[\"GPU TYPE\"] = dataset[\"GPU TYPE\"].astype(\"str\")\n",
    "dataset[\"SCREEN RESOLUTION\"] = dataset[\"SCREEN RESOLUTION\"].astype(\"str\")\n",
    "dataset[\"STATE\"] = dataset[\"STATE\"].astype(\"str\")"
   ]
  },
  {
   "cell_type": "code",
   "execution_count": null,
   "id": "c9b1fe62",
   "metadata": {},
   "outputs": [],
   "source": []
  },
  {
   "cell_type": "code",
   "execution_count": null,
   "id": "e21d493a",
   "metadata": {},
   "outputs": [],
   "source": [
    "type(dataset)"
   ]
  },
  {
   "cell_type": "code",
   "execution_count": null,
   "id": "437902b7",
   "metadata": {},
   "outputs": [],
   "source": [
    "dataset.values"
   ]
  },
  {
   "cell_type": "code",
   "execution_count": null,
   "id": "0eb08b85",
   "metadata": {},
   "outputs": [],
   "source": []
  },
  {
   "cell_type": "markdown",
   "id": "1280c625",
   "metadata": {},
   "source": [
    "## Selecting the X and y columns\n",
    "\n",
    "- **X**: represent our FEATURES that our model will learn from\n",
    "\n",
    "- **y**: represent the Label column our model will train with"
   ]
  },
  {
   "cell_type": "code",
   "execution_count": null,
   "id": "0e91135e",
   "metadata": {},
   "outputs": [],
   "source": [
    "X = dataset.drop('PRICE', axis = 'columns')"
   ]
  },
  {
   "cell_type": "code",
   "execution_count": null,
   "id": "4f4d75a8",
   "metadata": {},
   "outputs": [],
   "source": [
    "X.shape"
   ]
  },
  {
   "cell_type": "code",
   "execution_count": null,
   "id": "348d96f5",
   "metadata": {},
   "outputs": [],
   "source": [
    "y = dataset.PRICE"
   ]
  },
  {
   "cell_type": "code",
   "execution_count": null,
   "id": "a5e207dd",
   "metadata": {},
   "outputs": [],
   "source": [
    "y = y.values.reshape((254,1))\n",
    "y.shape"
   ]
  },
  {
   "cell_type": "code",
   "execution_count": null,
   "id": "8eea0c0e",
   "metadata": {},
   "outputs": [],
   "source": []
  },
  {
   "cell_type": "code",
   "execution_count": null,
   "id": "f548fe8c",
   "metadata": {},
   "outputs": [],
   "source": []
  },
  {
   "cell_type": "markdown",
   "id": "d8fc7404",
   "metadata": {},
   "source": [
    "## Splitting data into Train and Test sets"
   ]
  },
  {
   "cell_type": "code",
   "execution_count": null,
   "id": "9933a7b9",
   "metadata": {},
   "outputs": [],
   "source": [
    "from sklearn.model_selection import train_test_split"
   ]
  },
  {
   "cell_type": "code",
   "execution_count": null,
   "id": "f3c388a9",
   "metadata": {},
   "outputs": [],
   "source": [
    "X_train, X_test, y_train, y_test = train_test_split(X, y, test_size = 0.2, random_state = 0)"
   ]
  },
  {
   "cell_type": "code",
   "execution_count": null,
   "id": "a431972d",
   "metadata": {},
   "outputs": [],
   "source": []
  },
  {
   "cell_type": "code",
   "execution_count": null,
   "id": "2e7556c2",
   "metadata": {},
   "outputs": [],
   "source": []
  },
  {
   "cell_type": "code",
   "execution_count": null,
   "id": "d800d1d3",
   "metadata": {},
   "outputs": [],
   "source": [
    "categorical_data = dataset[['BRAND', 'CPU BRAND', 'CPU CORE', 'CPU FAMILY', 'DISK TYPE',\n",
    "               'GPU BRAND', 'GPU TYPE', 'SCREEN RESOLUTION', 'STATE']]"
   ]
  },
  {
   "cell_type": "code",
   "execution_count": null,
   "id": "012e71a7",
   "metadata": {},
   "outputs": [],
   "source": [
    "categorical_columns = ['BRAND', 'CPU BRAND', 'CPU CORE', 'CPU FAMILY', 'DISK TYPE',\n",
    "               'GPU BRAND', 'GPU TYPE', 'SCREEN RESOLUTION', 'STATE']"
   ]
  },
  {
   "cell_type": "code",
   "execution_count": null,
   "id": "0e28ba59",
   "metadata": {},
   "outputs": [],
   "source": []
  },
  {
   "cell_type": "code",
   "execution_count": null,
   "id": "b94cf610",
   "metadata": {},
   "outputs": [],
   "source": [
    "numerical_data = dataset[['CPU GENERATION', 'RAM SIZE', 'RAM(DDR) TYPE', 'SSD SIZE', 'HDD SIZE', 'SCREEN SIZE']]"
   ]
  },
  {
   "cell_type": "code",
   "execution_count": null,
   "id": "8a73a7a2",
   "metadata": {},
   "outputs": [],
   "source": [
    "numerical_columns = ['CPU GENERATION', 'RAM SIZE', 'RAM(DDR) TYPE', 'SSD SIZE', 'HDD SIZE', 'SCREEN SIZE']"
   ]
  },
  {
   "cell_type": "code",
   "execution_count": null,
   "id": "97ca7245",
   "metadata": {},
   "outputs": [],
   "source": []
  },
  {
   "cell_type": "code",
   "execution_count": null,
   "id": "a5788dec",
   "metadata": {},
   "outputs": [],
   "source": []
  },
  {
   "cell_type": "markdown",
   "id": "226447f7",
   "metadata": {},
   "source": [
    "## Importing Libraries"
   ]
  },
  {
   "cell_type": "code",
   "execution_count": null,
   "id": "475f0c00",
   "metadata": {},
   "outputs": [],
   "source": [
    "from sklearn.preprocessing import OneHotEncoder\n",
    "\n",
    "from sklearn.preprocessing import StandardScaler\n",
    "\n",
    "from sklearn.preprocessing import MinMaxScaler\n",
    "\n",
    "from sklearn.compose import ColumnTransformer\n",
    "\n",
    "from sklearn.pipeline import Pipeline"
   ]
  },
  {
   "cell_type": "code",
   "execution_count": null,
   "id": "9a16d8bb",
   "metadata": {},
   "outputs": [],
   "source": []
  },
  {
   "cell_type": "code",
   "execution_count": null,
   "id": "64c246c2",
   "metadata": {},
   "outputs": [],
   "source": []
  },
  {
   "cell_type": "markdown",
   "id": "43363713",
   "metadata": {},
   "source": [
    "## Normalization and Standardization"
   ]
  },
  {
   "cell_type": "code",
   "execution_count": null,
   "id": "3647b4d0",
   "metadata": {},
   "outputs": [],
   "source": [
    "num_pipeline = Pipeline([\n",
    "    (\"MinMax_Scaler\", MinMaxScaler()),\n",
    "    ('Standard_Scaler', StandardScaler())\n",
    "])"
   ]
  },
  {
   "cell_type": "code",
   "execution_count": null,
   "id": "7d709f20",
   "metadata": {},
   "outputs": [],
   "source": []
  },
  {
   "cell_type": "code",
   "execution_count": null,
   "id": "35c6cbf7",
   "metadata": {},
   "outputs": [],
   "source": []
  },
  {
   "cell_type": "markdown",
   "id": "7935ff81",
   "metadata": {},
   "source": [
    "## ColumnTransformer and OneHotEncoding"
   ]
  },
  {
   "cell_type": "code",
   "execution_count": null,
   "id": "82684d50",
   "metadata": {},
   "outputs": [],
   "source": [
    "column_trans = ColumnTransformer(transformers = [\n",
    "    (\"numerical\", num_pipeline, numerical_columns),\n",
    "    (\"categorical\", OneHotEncoder(sparse = False, handle_unknown='ignore'), categorical_columns),\n",
    "], remainder = 'passthrough')"
   ]
  },
  {
   "cell_type": "code",
   "execution_count": null,
   "id": "adc7de46",
   "metadata": {},
   "outputs": [],
   "source": []
  },
  {
   "cell_type": "code",
   "execution_count": null,
   "id": "8c2b323d",
   "metadata": {},
   "outputs": [],
   "source": []
  },
  {
   "cell_type": "markdown",
   "id": "2dde5632",
   "metadata": {},
   "source": [
    "## Model Building"
   ]
  },
  {
   "cell_type": "code",
   "execution_count": null,
   "id": "b6670289",
   "metadata": {},
   "outputs": [],
   "source": [
    "from sklearn.metrics import explained_variance_score, mean_absolute_error, r2_score, mean_squared_error"
   ]
  },
  {
   "cell_type": "code",
   "execution_count": null,
   "id": "812fd18c",
   "metadata": {},
   "outputs": [],
   "source": [
    "from time import time\n",
    "\n",
    "from sklearn.linear_model import Ridge\n",
    "from sklearn.linear_model import RidgeCV\n",
    "from sklearn.linear_model import LinearRegression\n",
    "from sklearn.linear_model import SGDRegressor\n",
    "from sklearn.linear_model import ElasticNet\n",
    "from sklearn.linear_model import Lars\n",
    "from sklearn.linear_model import Lasso\n",
    "from sklearn.linear_model import LassoLars\n",
    "from sklearn.linear_model import LassoLarsCV\n",
    "from sklearn.linear_model import LassoLarsIC\n",
    "from sklearn.linear_model import OrthogonalMatchingPursuit\n",
    "from sklearn.linear_model import ARDRegression\n",
    "from sklearn.linear_model import BayesianRidge\n",
    "from sklearn.linear_model import MultiTaskElasticNet\n",
    "from sklearn.linear_model import MultiTaskLasso\n",
    "from sklearn.linear_model import HuberRegressor\n",
    "from sklearn.linear_model import RANSACRegressor\n",
    "from sklearn.linear_model import PassiveAggressiveRegressor\n",
    "from sklearn.linear_model import TheilSenRegressor"
   ]
  },
  {
   "cell_type": "code",
   "execution_count": null,
   "id": "8d887dd9",
   "metadata": {},
   "outputs": [],
   "source": [
    "regressors = [\n",
    "    Ridge(),\n",
    "    RidgeCV(),\n",
    "    LinearRegression(),\n",
    "    SGDRegressor(),\n",
    "    ElasticNet(),\n",
    "    Lars(),\n",
    "    Lasso(),\n",
    "    LassoLars(),\n",
    "    LassoLarsCV(),\n",
    "    LassoLarsIC(),\n",
    "    OrthogonalMatchingPursuit(),\n",
    "    ARDRegression(),\n",
    "    BayesianRidge(),\n",
    "    MultiTaskElasticNet(),\n",
    "    MultiTaskLasso(),\n",
    "    HuberRegressor(),\n",
    "    RANSACRegressor(),\n",
    "    PassiveAggressiveRegressor(),\n",
    "    TheilSenRegressor()\n",
    "]"
   ]
  },
  {
   "cell_type": "code",
   "execution_count": null,
   "id": "ba3a4085",
   "metadata": {},
   "outputs": [],
   "source": [
    "# head = 10\n",
    "for model in regressors:    # [:head]:\n",
    "    start = time()\n",
    "    \n",
    "    \n",
    "    pipe = Pipeline([\n",
    "        ('step1', column_trans),\n",
    "        ('step2', model)\n",
    "    ])\n",
    "    \n",
    "    \n",
    "    pipe.fit(X_train, y_train)\n",
    "\n",
    "\n",
    "    train_time = time() - start\n",
    "    start = time()\n",
    "    predict_time = time()-start\n",
    "    \n",
    "    y_prediction = pipe.predict(X_test)\n",
    "    \n",
    "    print(model)\n",
    "    print(\"\\t Training Time: %0.3fs\" % train_time)\n",
    "    print(\"\\t Prediction Time: %0.3fs\" % predict_time)\n",
    "    print(\"\\t Explained Variance Score:\", explained_variance_score(y_test, y_prediction))\n",
    "    print(\"\\t Mean Absolute Error:\", mean_absolute_error(y_test, y_prediction))\n",
    "    print(\"\\t Mean Squared Error:\", mean_squared_error(y_test, y_prediction))\n",
    "    print(\"\\t Root Mean Squared Error:\", mean_squared_error(y_test, y_prediction, squared = False))\n",
    "    print(\"\\t R2 Score:\", r2_score(y_test, y_prediction))\n",
    "    print()"
   ]
  },
  {
   "cell_type": "code",
   "execution_count": null,
   "id": "1c1ea25e",
   "metadata": {},
   "outputs": [],
   "source": []
  }
 ],
 "metadata": {
  "kernelspec": {
   "display_name": "Python 3 (ipykernel)",
   "language": "python",
   "name": "python3"
  },
  "language_info": {
   "codemirror_mode": {
    "name": "ipython",
    "version": 3
   },
   "file_extension": ".py",
   "mimetype": "text/x-python",
   "name": "python",
   "nbconvert_exporter": "python",
   "pygments_lexer": "ipython3",
   "version": "3.9.15"
  }
 },
 "nbformat": 4,
 "nbformat_minor": 5
}
