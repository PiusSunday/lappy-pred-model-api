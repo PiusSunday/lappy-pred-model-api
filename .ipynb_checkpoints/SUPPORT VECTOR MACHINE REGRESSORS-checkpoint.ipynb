{
 "cells": [
  {
   "cell_type": "markdown",
   "id": "717abb98",
   "metadata": {},
   "source": [
    "# Importing Libraries"
   ]
  },
  {
   "cell_type": "code",
   "execution_count": 1,
   "id": "079327fd",
   "metadata": {},
   "outputs": [],
   "source": [
    "import pandas as pd\n",
    "import numpy as np"
   ]
  },
  {
   "cell_type": "code",
   "execution_count": 2,
   "id": "e7db9ea2",
   "metadata": {},
   "outputs": [
    {
     "name": "stdout",
     "output_type": "stream",
     "text": [
      "1.1.1\n"
     ]
    }
   ],
   "source": [
    "import sklearn\n",
    "print(sklearn.__version__)"
   ]
  },
  {
   "cell_type": "code",
   "execution_count": null,
   "id": "e0a36b90",
   "metadata": {},
   "outputs": [],
   "source": []
  },
  {
   "cell_type": "markdown",
   "id": "b0d30266",
   "metadata": {},
   "source": [
    "## Importing Datasets"
   ]
  },
  {
   "cell_type": "code",
   "execution_count": 3,
   "id": "685e5091",
   "metadata": {},
   "outputs": [],
   "source": [
    "dataset= pd.read_excel('last_time_data.xlsx')"
   ]
  },
  {
   "cell_type": "code",
   "execution_count": 4,
   "id": "e3fc4b9f",
   "metadata": {},
   "outputs": [
    {
     "data": {
      "text/plain": [
       "(254, 16)"
      ]
     },
     "execution_count": 4,
     "metadata": {},
     "output_type": "execute_result"
    }
   ],
   "source": [
    "dataset.shape"
   ]
  },
  {
   "cell_type": "markdown",
   "id": "d67e0c48",
   "metadata": {},
   "source": [
    "## Select the important columns necessary for training/building our model"
   ]
  },
  {
   "cell_type": "code",
   "execution_count": 5,
   "id": "0c84372b",
   "metadata": {},
   "outputs": [],
   "source": [
    "dataset = dataset[['BRAND', 'CPU BRAND', 'CPU CORE', 'CPU GENERATION', 'CPU FAMILY', 'RAM SIZE', 'RAM(DDR) TYPE', 'DISK TYPE', 'SSD SIZE',\n",
    "                   'HDD SIZE', 'GPU BRAND', 'GPU TYPE', 'SCREEN SIZE', 'SCREEN RESOLUTION', 'STATE', 'PRICE']]"
   ]
  },
  {
   "cell_type": "code",
   "execution_count": null,
   "id": "739303e1",
   "metadata": {},
   "outputs": [],
   "source": []
  },
  {
   "cell_type": "markdown",
   "id": "eb445b38",
   "metadata": {},
   "source": [
    "## Convert the DataType of categorical datas"
   ]
  },
  {
   "cell_type": "code",
   "execution_count": 6,
   "id": "2376461c",
   "metadata": {},
   "outputs": [],
   "source": [
    "## CATEGORICALS\n",
    "dataset[\"BRAND\"] = dataset[\"BRAND\"].astype(\"str\")\n",
    "dataset[\"CPU BRAND\"] = dataset[\"CPU BRAND\"].astype(\"str\")\n",
    "dataset[\"CPU CORE\"] = dataset[\"CPU CORE\"].astype(\"str\")\n",
    "dataset[\"CPU FAMILY\"] = dataset[\"CPU FAMILY\"].astype(\"str\")\n",
    "dataset[\"DISK TYPE\"] = dataset[\"DISK TYPE\"].astype(\"str\")\n",
    "dataset[\"GPU BRAND\"] = dataset[\"GPU BRAND\"].astype(\"str\")\n",
    "dataset[\"GPU TYPE\"] = dataset[\"GPU TYPE\"].astype(\"str\")\n",
    "dataset[\"SCREEN RESOLUTION\"] = dataset[\"SCREEN RESOLUTION\"].astype(\"str\")\n",
    "dataset[\"STATE\"] = dataset[\"STATE\"].astype(\"str\")"
   ]
  },
  {
   "cell_type": "code",
   "execution_count": null,
   "id": "c9b1fe62",
   "metadata": {},
   "outputs": [],
   "source": []
  },
  {
   "cell_type": "code",
   "execution_count": 7,
   "id": "e21d493a",
   "metadata": {},
   "outputs": [
    {
     "data": {
      "text/plain": [
       "pandas.core.frame.DataFrame"
      ]
     },
     "execution_count": 7,
     "metadata": {},
     "output_type": "execute_result"
    }
   ],
   "source": [
    "type(dataset)"
   ]
  },
  {
   "cell_type": "code",
   "execution_count": 8,
   "id": "437902b7",
   "metadata": {},
   "outputs": [
    {
     "data": {
      "text/plain": [
       "array([['ACER', 'Intel', 'Core i3', ..., 'HD', 'USED', 79000],\n",
       "       ['ACER', 'Intel', 'Core i3', ..., 'HD', 'USED', 79000],\n",
       "       ['ACER', 'Intel', 'Core i3', ..., 'FHD', 'USED', 88000],\n",
       "       ...,\n",
       "       ['LENOVO', 'AMD', 'Ryzen 7', ..., 'FHD', 'USED', 112000],\n",
       "       ['LENOVO', 'AMD', 'Ryzen 7', ..., 'FHD', 'USED', 135000],\n",
       "       ['LENOVO', 'AMD', 'Ryzen 7', ..., 'FHD', 'USED', 135000]],\n",
       "      dtype=object)"
      ]
     },
     "execution_count": 8,
     "metadata": {},
     "output_type": "execute_result"
    }
   ],
   "source": [
    "dataset.values"
   ]
  },
  {
   "cell_type": "code",
   "execution_count": null,
   "id": "0eb08b85",
   "metadata": {},
   "outputs": [],
   "source": []
  },
  {
   "cell_type": "markdown",
   "id": "1280c625",
   "metadata": {},
   "source": [
    "## Selecting the X and y columns"
   ]
  },
  {
   "cell_type": "code",
   "execution_count": 9,
   "id": "0e91135e",
   "metadata": {},
   "outputs": [],
   "source": [
    "X = dataset.drop('PRICE', axis = 'columns')"
   ]
  },
  {
   "cell_type": "code",
   "execution_count": 10,
   "id": "4f4d75a8",
   "metadata": {},
   "outputs": [
    {
     "data": {
      "text/plain": [
       "(254, 15)"
      ]
     },
     "execution_count": 10,
     "metadata": {},
     "output_type": "execute_result"
    }
   ],
   "source": [
    "X.shape"
   ]
  },
  {
   "cell_type": "code",
   "execution_count": 11,
   "id": "348d96f5",
   "metadata": {},
   "outputs": [],
   "source": [
    "y = dataset.PRICE"
   ]
  },
  {
   "cell_type": "code",
   "execution_count": 12,
   "id": "a5e207dd",
   "metadata": {},
   "outputs": [
    {
     "data": {
      "text/plain": [
       "(254, 1)"
      ]
     },
     "execution_count": 12,
     "metadata": {},
     "output_type": "execute_result"
    }
   ],
   "source": [
    "y = y.values.reshape((254,1))\n",
    "y.shape"
   ]
  },
  {
   "cell_type": "code",
   "execution_count": null,
   "id": "6d1b6e52",
   "metadata": {},
   "outputs": [],
   "source": []
  },
  {
   "cell_type": "code",
   "execution_count": null,
   "id": "8eea0c0e",
   "metadata": {},
   "outputs": [],
   "source": []
  },
  {
   "cell_type": "code",
   "execution_count": null,
   "id": "f548fe8c",
   "metadata": {},
   "outputs": [],
   "source": []
  },
  {
   "cell_type": "markdown",
   "id": "d8fc7404",
   "metadata": {},
   "source": [
    "## Splitting data into Train and Test sets"
   ]
  },
  {
   "cell_type": "code",
   "execution_count": 13,
   "id": "9933a7b9",
   "metadata": {},
   "outputs": [],
   "source": [
    "from sklearn.model_selection import train_test_split"
   ]
  },
  {
   "cell_type": "code",
   "execution_count": 14,
   "id": "f3c388a9",
   "metadata": {},
   "outputs": [],
   "source": [
    "X_train, X_test, y_train, y_test = train_test_split(X, y, test_size = 0.2, random_state = 0)"
   ]
  },
  {
   "cell_type": "code",
   "execution_count": null,
   "id": "a431972d",
   "metadata": {},
   "outputs": [],
   "source": []
  },
  {
   "cell_type": "code",
   "execution_count": null,
   "id": "2e7556c2",
   "metadata": {},
   "outputs": [],
   "source": []
  },
  {
   "cell_type": "code",
   "execution_count": 15,
   "id": "d800d1d3",
   "metadata": {},
   "outputs": [],
   "source": [
    "categorical_data = dataset[['BRAND', 'CPU BRAND', 'CPU CORE', 'CPU FAMILY', 'DISK TYPE',\n",
    "               'GPU BRAND', 'GPU TYPE', 'SCREEN RESOLUTION', 'STATE']]"
   ]
  },
  {
   "cell_type": "code",
   "execution_count": 16,
   "id": "012e71a7",
   "metadata": {},
   "outputs": [],
   "source": [
    "categorical_columns = ['BRAND', 'CPU BRAND', 'CPU CORE', 'CPU FAMILY', 'DISK TYPE',\n",
    "               'GPU BRAND', 'GPU TYPE', 'SCREEN RESOLUTION', 'STATE']"
   ]
  },
  {
   "cell_type": "code",
   "execution_count": null,
   "id": "0e28ba59",
   "metadata": {},
   "outputs": [],
   "source": []
  },
  {
   "cell_type": "code",
   "execution_count": 17,
   "id": "b94cf610",
   "metadata": {},
   "outputs": [],
   "source": [
    "numerical_data = dataset[['CPU GENERATION', 'RAM SIZE', 'RAM(DDR) TYPE', 'SSD SIZE', 'HDD SIZE', 'SCREEN SIZE']]"
   ]
  },
  {
   "cell_type": "code",
   "execution_count": 18,
   "id": "8a73a7a2",
   "metadata": {},
   "outputs": [],
   "source": [
    "numerical_columns = ['CPU GENERATION', 'RAM SIZE', 'RAM(DDR) TYPE', 'SSD SIZE', 'HDD SIZE', 'SCREEN SIZE']"
   ]
  },
  {
   "cell_type": "code",
   "execution_count": null,
   "id": "97ca7245",
   "metadata": {},
   "outputs": [],
   "source": []
  },
  {
   "cell_type": "code",
   "execution_count": null,
   "id": "a5788dec",
   "metadata": {},
   "outputs": [],
   "source": []
  },
  {
   "cell_type": "code",
   "execution_count": null,
   "id": "c21c4396",
   "metadata": {},
   "outputs": [],
   "source": []
  },
  {
   "cell_type": "markdown",
   "id": "226447f7",
   "metadata": {},
   "source": [
    "## Importing Libraries"
   ]
  },
  {
   "cell_type": "code",
   "execution_count": 19,
   "id": "475f0c00",
   "metadata": {},
   "outputs": [],
   "source": [
    "from sklearn.preprocessing import OneHotEncoder\n",
    "\n",
    "from sklearn.preprocessing import StandardScaler\n",
    "\n",
    "from sklearn.preprocessing import MinMaxScaler\n",
    "\n",
    "from sklearn.compose import ColumnTransformer\n",
    "\n",
    "from sklearn.pipeline import Pipeline\n",
    "\n",
    "from sklearn.model_selection import GridSearchCV"
   ]
  },
  {
   "cell_type": "code",
   "execution_count": null,
   "id": "9a16d8bb",
   "metadata": {},
   "outputs": [],
   "source": []
  },
  {
   "cell_type": "code",
   "execution_count": null,
   "id": "64c246c2",
   "metadata": {},
   "outputs": [],
   "source": []
  },
  {
   "cell_type": "code",
   "execution_count": null,
   "id": "3ed07672",
   "metadata": {},
   "outputs": [],
   "source": []
  },
  {
   "cell_type": "markdown",
   "id": "43363713",
   "metadata": {},
   "source": [
    "## Normalization and Standardization"
   ]
  },
  {
   "cell_type": "code",
   "execution_count": 20,
   "id": "3647b4d0",
   "metadata": {},
   "outputs": [],
   "source": [
    "num_pipeline = Pipeline([\n",
    "    (\"MinMax_Scaler\", MinMaxScaler()),\n",
    "    ('Standered_Scaler', StandardScaler())\n",
    "])"
   ]
  },
  {
   "cell_type": "code",
   "execution_count": null,
   "id": "7d709f20",
   "metadata": {},
   "outputs": [],
   "source": []
  },
  {
   "cell_type": "code",
   "execution_count": null,
   "id": "35c6cbf7",
   "metadata": {},
   "outputs": [],
   "source": []
  },
  {
   "cell_type": "markdown",
   "id": "7935ff81",
   "metadata": {},
   "source": [
    "## ColumnTransformer and OneHotEncoding"
   ]
  },
  {
   "cell_type": "code",
   "execution_count": 21,
   "id": "82684d50",
   "metadata": {},
   "outputs": [],
   "source": [
    "column_trans = ColumnTransformer(transformers = [\n",
    "    (\"numerical\", num_pipeline, numerical_columns),\n",
    "    (\"categorical\", OneHotEncoder(sparse = False, handle_unknown='ignore'), categorical_columns),\n",
    "    ], remainder = 'passthrough')"
   ]
  },
  {
   "cell_type": "code",
   "execution_count": null,
   "id": "adc7de46",
   "metadata": {},
   "outputs": [],
   "source": []
  },
  {
   "cell_type": "code",
   "execution_count": null,
   "id": "8c2b323d",
   "metadata": {},
   "outputs": [],
   "source": []
  },
  {
   "cell_type": "code",
   "execution_count": null,
   "id": "74e662bc",
   "metadata": {},
   "outputs": [],
   "source": []
  },
  {
   "cell_type": "markdown",
   "id": "2dde5632",
   "metadata": {},
   "source": [
    "## Model Building"
   ]
  },
  {
   "cell_type": "code",
   "execution_count": 22,
   "id": "b6670289",
   "metadata": {},
   "outputs": [],
   "source": [
    "from sklearn.metrics import explained_variance_score, mean_absolute_error, r2_score, mean_squared_error"
   ]
  },
  {
   "cell_type": "code",
   "execution_count": 23,
   "id": "812fd18c",
   "metadata": {},
   "outputs": [],
   "source": [
    "from time import time\n",
    "\n",
    "from sklearn.svm import LinearSVR\n",
    "\n",
    "from sklearn.svm import NuSVR\n",
    "\n",
    "from sklearn.svm import SVR"
   ]
  },
  {
   "cell_type": "code",
   "execution_count": 24,
   "id": "8d887dd9",
   "metadata": {},
   "outputs": [],
   "source": [
    "regressors = [\n",
    "    LinearSVR(),\n",
    "    NuSVR(),\n",
    "    SVR()\n",
    "]"
   ]
  },
  {
   "cell_type": "code",
   "execution_count": 25,
   "id": "ba3a4085",
   "metadata": {},
   "outputs": [
    {
     "name": "stdout",
     "output_type": "stream",
     "text": [
      "LinearSVR()\n",
      "\t Training Time: 0.034s\n",
      "\t Prediction Time: 0.000s\n",
      "\t Explained Variance Score: -0.004068997536152752\n",
      "\t Mean Absolute Error: 124084.7843137255\n",
      "\t Mean Squared Error: 17128722854.666666\n",
      "\t Root Mean Squared Error: 130876.74680655333\n",
      "\t R2 Score: -8.931585886170367\n",
      "\n",
      "NuSVR()\n",
      "\t Training Time: 0.022s\n",
      "\t Prediction Time: 0.000s\n",
      "\t Explained Variance Score: 0.00033783433918510575\n",
      "\t Mean Absolute Error: 34491.069868501516\n",
      "\t Mean Squared Error: 1916892428.3598242\n",
      "\t Root Mean Squared Error: 43782.33009285623\n",
      "\t R2 Score: -0.11145366460398343\n",
      "\n",
      "SVR()\n",
      "\t Training Time: 0.020s\n",
      "\t Prediction Time: 0.000s\n",
      "\t Explained Variance Score: 0.0004371167940948606\n",
      "\t Mean Absolute Error: 34362.72126013115\n",
      "\t Mean Squared Error: 1903191029.6980765\n",
      "\t Root Mean Squared Error: 43625.57770045087\n",
      "\t R2 Score: -0.10350931179237066\n",
      "\n"
     ]
    },
    {
     "name": "stderr",
     "output_type": "stream",
     "text": [
      "C:\\Users\\parad\\anaconda3\\lib\\site-packages\\sklearn\\utils\\validation.py:1111: DataConversionWarning: A column-vector y was passed when a 1d array was expected. Please change the shape of y to (n_samples, ), for example using ravel().\n",
      "  y = column_or_1d(y, warn=True)\n",
      "C:\\Users\\parad\\anaconda3\\lib\\site-packages\\sklearn\\utils\\validation.py:1111: DataConversionWarning: A column-vector y was passed when a 1d array was expected. Please change the shape of y to (n_samples, ), for example using ravel().\n",
      "  y = column_or_1d(y, warn=True)\n",
      "C:\\Users\\parad\\anaconda3\\lib\\site-packages\\sklearn\\utils\\validation.py:1111: DataConversionWarning: A column-vector y was passed when a 1d array was expected. Please change the shape of y to (n_samples, ), for example using ravel().\n",
      "  y = column_or_1d(y, warn=True)\n"
     ]
    }
   ],
   "source": [
    "# head = 10\n",
    "for model in regressors:    # [:head]:\n",
    "    start = time()\n",
    "    \n",
    "    \n",
    "    pipe = Pipeline([\n",
    "    ('step1', column_trans),\n",
    "    ('step2', model)\n",
    "    ])\n",
    "    \n",
    "    \n",
    "    pipe.fit(X_train, y_train)\n",
    "\n",
    "\n",
    "    train_time = time() - start\n",
    "    start = time()\n",
    "    predict_time = time()-start\n",
    "    \n",
    "    y_pred = pipe.predict(X_test)\n",
    "    \n",
    "    print(model)\n",
    "    print(\"\\t Training Time: %0.3fs\" % train_time)\n",
    "    print(\"\\t Prediction Time: %0.3fs\" % predict_time)\n",
    "    print(\"\\t Explained Variance Score:\", explained_variance_score(y_test, y_pred))\n",
    "    print(\"\\t Mean Absolute Error:\", mean_absolute_error(y_test, y_pred))\n",
    "    print(\"\\t Mean Squared Error:\", mean_squared_error(y_test, y_pred))\n",
    "    print(\"\\t Root Mean Squared Error:\", mean_squared_error(y_test, y_pred, squared = False))\n",
    "    print(\"\\t R2 Score:\", r2_score(y_test, y_pred))\n",
    "    print()"
   ]
  },
  {
   "cell_type": "code",
   "execution_count": null,
   "id": "1c1ea25e",
   "metadata": {},
   "outputs": [],
   "source": []
  }
 ],
 "metadata": {
  "kernelspec": {
   "display_name": "Python 3 (ipykernel)",
   "language": "python",
   "name": "python3"
  },
  "language_info": {
   "codemirror_mode": {
    "name": "ipython",
    "version": 3
   },
   "file_extension": ".py",
   "mimetype": "text/x-python",
   "name": "python",
   "nbconvert_exporter": "python",
   "pygments_lexer": "ipython3",
   "version": "3.10.9"
  }
 },
 "nbformat": 4,
 "nbformat_minor": 5
}
