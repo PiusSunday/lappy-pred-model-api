{
 "cells": [
  {
   "cell_type": "markdown",
   "id": "c4468445",
   "metadata": {},
   "source": [
    "## Importing the necessary python libraries to help us perform an EDA on our data!"
   ]
  },
  {
   "cell_type": "code",
   "execution_count": 1,
   "id": "85f3ad5b",
   "metadata": {},
   "outputs": [],
   "source": [
    "import pandas as pd\n",
    "import numpy as np\n",
    "\n",
    "%matplotlib inline\n",
    "import matplotlib.pyplot as plt\n",
    "import seaborn as sns"
   ]
  },
  {
   "cell_type": "markdown",
   "id": "39df66e5",
   "metadata": {},
   "source": [
    "## Reading our data into Jupyter"
   ]
  },
  {
   "cell_type": "code",
   "execution_count": 4,
   "id": "e58dfd43",
   "metadata": {},
   "outputs": [
    {
     "data": {
      "text/html": [
       "<div>\n",
       "<style scoped>\n",
       "    .dataframe tbody tr th:only-of-type {\n",
       "        vertical-align: middle;\n",
       "    }\n",
       "\n",
       "    .dataframe tbody tr th {\n",
       "        vertical-align: top;\n",
       "    }\n",
       "\n",
       "    .dataframe thead th {\n",
       "        text-align: right;\n",
       "    }\n",
       "</style>\n",
       "<table border=\"1\" class=\"dataframe\">\n",
       "  <thead>\n",
       "    <tr style=\"text-align: right;\">\n",
       "      <th></th>\n",
       "      <th>BRAND</th>\n",
       "      <th>CPU BRAND</th>\n",
       "      <th>CPU CORE</th>\n",
       "      <th>CPU GENERATION</th>\n",
       "      <th>CPU FAMILY</th>\n",
       "      <th>RAM SIZE</th>\n",
       "      <th>RAM(DDR) TYPE</th>\n",
       "      <th>DISK TYPE</th>\n",
       "      <th>SSD SIZE</th>\n",
       "      <th>HDD SIZE</th>\n",
       "      <th>GPU BRAND</th>\n",
       "      <th>GPU TYPE</th>\n",
       "      <th>SCREEN SIZE</th>\n",
       "      <th>SCREEN RESOLUTION</th>\n",
       "      <th>STATE</th>\n",
       "      <th>PRICE</th>\n",
       "    </tr>\n",
       "  </thead>\n",
       "  <tbody>\n",
       "    <tr>\n",
       "      <th>0</th>\n",
       "      <td>ACER</td>\n",
       "      <td>Intel</td>\n",
       "      <td>Core i3</td>\n",
       "      <td>8</td>\n",
       "      <td>U</td>\n",
       "      <td>4</td>\n",
       "      <td>4</td>\n",
       "      <td>SSD</td>\n",
       "      <td>256</td>\n",
       "      <td>0</td>\n",
       "      <td>INTEL</td>\n",
       "      <td>INTEGRATED</td>\n",
       "      <td>14.1</td>\n",
       "      <td>HD</td>\n",
       "      <td>USED</td>\n",
       "      <td>79000</td>\n",
       "    </tr>\n",
       "    <tr>\n",
       "      <th>1</th>\n",
       "      <td>ACER</td>\n",
       "      <td>Intel</td>\n",
       "      <td>Core i3</td>\n",
       "      <td>8</td>\n",
       "      <td>U</td>\n",
       "      <td>4</td>\n",
       "      <td>4</td>\n",
       "      <td>SSD</td>\n",
       "      <td>256</td>\n",
       "      <td>0</td>\n",
       "      <td>INTEL</td>\n",
       "      <td>INTEGRATED</td>\n",
       "      <td>14.1</td>\n",
       "      <td>HD</td>\n",
       "      <td>USED</td>\n",
       "      <td>79000</td>\n",
       "    </tr>\n",
       "    <tr>\n",
       "      <th>2</th>\n",
       "      <td>ACER</td>\n",
       "      <td>Intel</td>\n",
       "      <td>Core i3</td>\n",
       "      <td>10</td>\n",
       "      <td>G1</td>\n",
       "      <td>8</td>\n",
       "      <td>4</td>\n",
       "      <td>HDD</td>\n",
       "      <td>512</td>\n",
       "      <td>0</td>\n",
       "      <td>INTEL</td>\n",
       "      <td>INTEGRATED</td>\n",
       "      <td>14.0</td>\n",
       "      <td>FHD</td>\n",
       "      <td>USED</td>\n",
       "      <td>88000</td>\n",
       "    </tr>\n",
       "    <tr>\n",
       "      <th>3</th>\n",
       "      <td>APPLE</td>\n",
       "      <td>Intel</td>\n",
       "      <td>Core i3</td>\n",
       "      <td>8</td>\n",
       "      <td>HQ</td>\n",
       "      <td>8</td>\n",
       "      <td>4</td>\n",
       "      <td>SSD</td>\n",
       "      <td>512</td>\n",
       "      <td>0</td>\n",
       "      <td>AMD</td>\n",
       "      <td>RADEON PRO 555X</td>\n",
       "      <td>13.3</td>\n",
       "      <td>UHD</td>\n",
       "      <td>USED</td>\n",
       "      <td>195000</td>\n",
       "    </tr>\n",
       "    <tr>\n",
       "      <th>4</th>\n",
       "      <td>ASUS</td>\n",
       "      <td>Intel</td>\n",
       "      <td>Core i3</td>\n",
       "      <td>7</td>\n",
       "      <td>U</td>\n",
       "      <td>4</td>\n",
       "      <td>4</td>\n",
       "      <td>SSD</td>\n",
       "      <td>128</td>\n",
       "      <td>0</td>\n",
       "      <td>INTEL</td>\n",
       "      <td>INTEGRATED</td>\n",
       "      <td>14.1</td>\n",
       "      <td>FHD</td>\n",
       "      <td>USED</td>\n",
       "      <td>56000</td>\n",
       "    </tr>\n",
       "    <tr>\n",
       "      <th>...</th>\n",
       "      <td>...</td>\n",
       "      <td>...</td>\n",
       "      <td>...</td>\n",
       "      <td>...</td>\n",
       "      <td>...</td>\n",
       "      <td>...</td>\n",
       "      <td>...</td>\n",
       "      <td>...</td>\n",
       "      <td>...</td>\n",
       "      <td>...</td>\n",
       "      <td>...</td>\n",
       "      <td>...</td>\n",
       "      <td>...</td>\n",
       "      <td>...</td>\n",
       "      <td>...</td>\n",
       "      <td>...</td>\n",
       "    </tr>\n",
       "    <tr>\n",
       "      <th>249</th>\n",
       "      <td>HUAWEI</td>\n",
       "      <td>AMD</td>\n",
       "      <td>Ryzen 7</td>\n",
       "      <td>3</td>\n",
       "      <td>U</td>\n",
       "      <td>8</td>\n",
       "      <td>4</td>\n",
       "      <td>SSD</td>\n",
       "      <td>512</td>\n",
       "      <td>0</td>\n",
       "      <td>AMD</td>\n",
       "      <td>INTEGRATED</td>\n",
       "      <td>13.3</td>\n",
       "      <td>FHD</td>\n",
       "      <td>USED</td>\n",
       "      <td>138000</td>\n",
       "    </tr>\n",
       "    <tr>\n",
       "      <th>250</th>\n",
       "      <td>HUAWEI</td>\n",
       "      <td>AMD</td>\n",
       "      <td>Ryzen 7</td>\n",
       "      <td>3</td>\n",
       "      <td>U</td>\n",
       "      <td>8</td>\n",
       "      <td>4</td>\n",
       "      <td>SSD</td>\n",
       "      <td>512</td>\n",
       "      <td>0</td>\n",
       "      <td>AMD</td>\n",
       "      <td>INTEGRATED</td>\n",
       "      <td>14.0</td>\n",
       "      <td>FHD</td>\n",
       "      <td>NEW</td>\n",
       "      <td>185000</td>\n",
       "    </tr>\n",
       "    <tr>\n",
       "      <th>251</th>\n",
       "      <td>LENOVO</td>\n",
       "      <td>AMD</td>\n",
       "      <td>Ryzen 7</td>\n",
       "      <td>3</td>\n",
       "      <td>U</td>\n",
       "      <td>8</td>\n",
       "      <td>4</td>\n",
       "      <td>SSD</td>\n",
       "      <td>512</td>\n",
       "      <td>0</td>\n",
       "      <td>AMD</td>\n",
       "      <td>INTEGRATED</td>\n",
       "      <td>14.0</td>\n",
       "      <td>FHD</td>\n",
       "      <td>USED</td>\n",
       "      <td>112000</td>\n",
       "    </tr>\n",
       "    <tr>\n",
       "      <th>252</th>\n",
       "      <td>LENOVO</td>\n",
       "      <td>AMD</td>\n",
       "      <td>Ryzen 7</td>\n",
       "      <td>3</td>\n",
       "      <td>U</td>\n",
       "      <td>16</td>\n",
       "      <td>4</td>\n",
       "      <td>SSD</td>\n",
       "      <td>512</td>\n",
       "      <td>0</td>\n",
       "      <td>AMD</td>\n",
       "      <td>INTEGRATED</td>\n",
       "      <td>14.1</td>\n",
       "      <td>FHD</td>\n",
       "      <td>USED</td>\n",
       "      <td>135000</td>\n",
       "    </tr>\n",
       "    <tr>\n",
       "      <th>253</th>\n",
       "      <td>LENOVO</td>\n",
       "      <td>AMD</td>\n",
       "      <td>Ryzen 7</td>\n",
       "      <td>3</td>\n",
       "      <td>U</td>\n",
       "      <td>16</td>\n",
       "      <td>4</td>\n",
       "      <td>SSD</td>\n",
       "      <td>512</td>\n",
       "      <td>0</td>\n",
       "      <td>AMD</td>\n",
       "      <td>INTEGRATED</td>\n",
       "      <td>14.1</td>\n",
       "      <td>FHD</td>\n",
       "      <td>USED</td>\n",
       "      <td>135000</td>\n",
       "    </tr>\n",
       "  </tbody>\n",
       "</table>\n",
       "<p>254 rows × 16 columns</p>\n",
       "</div>"
      ],
      "text/plain": [
       "      BRAND CPU BRAND CPU CORE  CPU GENERATION CPU FAMILY  RAM SIZE  \\\n",
       "0      ACER     Intel  Core i3               8          U         4   \n",
       "1      ACER     Intel  Core i3               8          U         4   \n",
       "2      ACER     Intel  Core i3              10         G1         8   \n",
       "3     APPLE     Intel  Core i3               8         HQ         8   \n",
       "4      ASUS     Intel  Core i3               7          U         4   \n",
       "..      ...       ...      ...             ...        ...       ...   \n",
       "249  HUAWEI       AMD  Ryzen 7               3          U         8   \n",
       "250  HUAWEI       AMD  Ryzen 7               3          U         8   \n",
       "251  LENOVO       AMD  Ryzen 7               3          U         8   \n",
       "252  LENOVO       AMD  Ryzen 7               3          U        16   \n",
       "253  LENOVO       AMD  Ryzen 7               3          U        16   \n",
       "\n",
       "     RAM(DDR) TYPE DISK TYPE  SSD SIZE  HDD SIZE GPU BRAND         GPU TYPE  \\\n",
       "0                4       SSD       256         0     INTEL       INTEGRATED   \n",
       "1                4       SSD       256         0     INTEL       INTEGRATED   \n",
       "2                4       HDD       512         0     INTEL       INTEGRATED   \n",
       "3                4       SSD       512         0       AMD  RADEON PRO 555X   \n",
       "4                4       SSD       128         0     INTEL       INTEGRATED   \n",
       "..             ...       ...       ...       ...       ...              ...   \n",
       "249              4       SSD       512         0       AMD       INTEGRATED   \n",
       "250              4       SSD       512         0       AMD       INTEGRATED   \n",
       "251              4       SSD       512         0       AMD       INTEGRATED   \n",
       "252              4       SSD       512         0       AMD       INTEGRATED   \n",
       "253              4       SSD       512         0       AMD       INTEGRATED   \n",
       "\n",
       "     SCREEN SIZE SCREEN RESOLUTION STATE   PRICE  \n",
       "0           14.1                HD  USED   79000  \n",
       "1           14.1                HD  USED   79000  \n",
       "2           14.0               FHD  USED   88000  \n",
       "3           13.3               UHD  USED  195000  \n",
       "4           14.1               FHD  USED   56000  \n",
       "..           ...               ...   ...     ...  \n",
       "249         13.3               FHD  USED  138000  \n",
       "250         14.0               FHD   NEW  185000  \n",
       "251         14.0               FHD  USED  112000  \n",
       "252         14.1               FHD  USED  135000  \n",
       "253         14.1               FHD  USED  135000  \n",
       "\n",
       "[254 rows x 16 columns]"
      ]
     },
     "execution_count": 4,
     "metadata": {},
     "output_type": "execute_result"
    }
   ],
   "source": [
    "# df = pd.read_excel('cleaned_dataset.xlsx')\n",
    "df = pd.read_excel('last_time_data.xlsx')\n",
    "df"
   ]
  },
  {
   "cell_type": "markdown",
   "id": "edb72897",
   "metadata": {},
   "source": [
    "## Display the number of Rows and Columns of our dataset"
   ]
  },
  {
   "cell_type": "code",
   "execution_count": 5,
   "id": "c8bb0c3e",
   "metadata": {},
   "outputs": [
    {
     "data": {
      "text/plain": [
       "(254, 16)"
      ]
     },
     "execution_count": 5,
     "metadata": {},
     "output_type": "execute_result"
    }
   ],
   "source": [
    "df.shape"
   ]
  },
  {
   "cell_type": "markdown",
   "id": "c5d19f97",
   "metadata": {},
   "source": [
    "## Display the header of each Column"
   ]
  },
  {
   "cell_type": "code",
   "execution_count": 6,
   "id": "e9fad0f4",
   "metadata": {},
   "outputs": [
    {
     "data": {
      "text/plain": [
       "Index(['BRAND', 'CPU BRAND', 'CPU CORE', 'CPU GENERATION', 'CPU FAMILY',\n",
       "       'RAM SIZE', 'RAM(DDR) TYPE', 'DISK TYPE', 'SSD SIZE', 'HDD SIZE',\n",
       "       'GPU BRAND', 'GPU TYPE', 'SCREEN SIZE', 'SCREEN RESOLUTION', 'STATE',\n",
       "       'PRICE'],\n",
       "      dtype='object')"
      ]
     },
     "execution_count": 6,
     "metadata": {},
     "output_type": "execute_result"
    }
   ],
   "source": [
    "df.columns"
   ]
  },
  {
   "cell_type": "markdown",
   "id": "6269f83a",
   "metadata": {},
   "source": [
    "## Check for null values in our dataset"
   ]
  },
  {
   "cell_type": "code",
   "execution_count": 7,
   "id": "ec6cd3b3",
   "metadata": {},
   "outputs": [
    {
     "data": {
      "text/plain": [
       "BRAND                0\n",
       "CPU BRAND            0\n",
       "CPU CORE             0\n",
       "CPU GENERATION       0\n",
       "CPU FAMILY           0\n",
       "RAM SIZE             0\n",
       "RAM(DDR) TYPE        0\n",
       "DISK TYPE            0\n",
       "SSD SIZE             0\n",
       "HDD SIZE             0\n",
       "GPU BRAND            0\n",
       "GPU TYPE             0\n",
       "SCREEN SIZE          0\n",
       "SCREEN RESOLUTION    0\n",
       "STATE                0\n",
       "PRICE                0\n",
       "dtype: int64"
      ]
     },
     "execution_count": 7,
     "metadata": {},
     "output_type": "execute_result"
    }
   ],
   "source": [
    "df.isnull().sum()"
   ]
  },
  {
   "cell_type": "code",
   "execution_count": 8,
   "id": "4c586fd9",
   "metadata": {},
   "outputs": [],
   "source": [
    "data = df"
   ]
  },
  {
   "cell_type": "markdown",
   "id": "34ec8e97",
   "metadata": {},
   "source": [
    "## Name of Label Column"
   ]
  },
  {
   "cell_type": "markdown",
   "id": "4986c8e7",
   "metadata": {},
   "source": [
    "### In this case, our label column is the PRICE Column as it will be unique for each laptop according to it unique properties."
   ]
  },
  {
   "cell_type": "code",
   "execution_count": 9,
   "id": "6b37334a",
   "metadata": {},
   "outputs": [],
   "source": [
    "Label = ['PRICE']"
   ]
  },
  {
   "cell_type": "markdown",
   "id": "66932b27",
   "metadata": {},
   "source": [
    "## Display the DataTypes of each Column"
   ]
  },
  {
   "cell_type": "code",
   "execution_count": 10,
   "id": "defb529f",
   "metadata": {},
   "outputs": [
    {
     "data": {
      "text/plain": [
       "BRAND                 object\n",
       "CPU BRAND             object\n",
       "CPU CORE              object\n",
       "CPU GENERATION         int64\n",
       "CPU FAMILY            object\n",
       "RAM SIZE               int64\n",
       "RAM(DDR) TYPE          int64\n",
       "DISK TYPE             object\n",
       "SSD SIZE               int64\n",
       "HDD SIZE               int64\n",
       "GPU BRAND             object\n",
       "GPU TYPE              object\n",
       "SCREEN SIZE          float64\n",
       "SCREEN RESOLUTION     object\n",
       "STATE                 object\n",
       "PRICE                  int64\n",
       "dtype: object"
      ]
     },
     "execution_count": 10,
     "metadata": {},
     "output_type": "execute_result"
    }
   ],
   "source": [
    "data.dtypes"
   ]
  },
  {
   "cell_type": "markdown",
   "id": "c9a40add",
   "metadata": {},
   "source": [
    "## Display the DataTypes of each Column"
   ]
  },
  {
   "cell_type": "code",
   "execution_count": 11,
   "id": "fa7e138a",
   "metadata": {},
   "outputs": [
    {
     "name": "stdout",
     "output_type": "stream",
     "text": [
      "<class 'pandas.core.frame.DataFrame'>\n",
      "RangeIndex: 254 entries, 0 to 253\n",
      "Data columns (total 16 columns):\n",
      " #   Column             Non-Null Count  Dtype  \n",
      "---  ------             --------------  -----  \n",
      " 0   BRAND              254 non-null    object \n",
      " 1   CPU BRAND          254 non-null    object \n",
      " 2   CPU CORE           254 non-null    object \n",
      " 3   CPU GENERATION     254 non-null    int64  \n",
      " 4   CPU FAMILY         254 non-null    object \n",
      " 5   RAM SIZE           254 non-null    int64  \n",
      " 6   RAM(DDR) TYPE      254 non-null    int64  \n",
      " 7   DISK TYPE          254 non-null    object \n",
      " 8   SSD SIZE           254 non-null    int64  \n",
      " 9   HDD SIZE           254 non-null    int64  \n",
      " 10  GPU BRAND          254 non-null    object \n",
      " 11  GPU TYPE           254 non-null    object \n",
      " 12  SCREEN SIZE        254 non-null    float64\n",
      " 13  SCREEN RESOLUTION  254 non-null    object \n",
      " 14  STATE              254 non-null    object \n",
      " 15  PRICE              254 non-null    int64  \n",
      "dtypes: float64(1), int64(6), object(9)\n",
      "memory usage: 31.9+ KB\n"
     ]
    }
   ],
   "source": [
    "data.info()"
   ]
  },
  {
   "cell_type": "markdown",
   "id": "96f95c51",
   "metadata": {},
   "source": [
    "## Display some Statistics for the Numerical Columns"
   ]
  },
  {
   "cell_type": "code",
   "execution_count": 12,
   "id": "a9b083e1",
   "metadata": {},
   "outputs": [
    {
     "data": {
      "text/html": [
       "<div>\n",
       "<style scoped>\n",
       "    .dataframe tbody tr th:only-of-type {\n",
       "        vertical-align: middle;\n",
       "    }\n",
       "\n",
       "    .dataframe tbody tr th {\n",
       "        vertical-align: top;\n",
       "    }\n",
       "\n",
       "    .dataframe thead th {\n",
       "        text-align: right;\n",
       "    }\n",
       "</style>\n",
       "<table border=\"1\" class=\"dataframe\">\n",
       "  <thead>\n",
       "    <tr style=\"text-align: right;\">\n",
       "      <th></th>\n",
       "      <th>CPU GENERATION</th>\n",
       "      <th>RAM SIZE</th>\n",
       "      <th>RAM(DDR) TYPE</th>\n",
       "      <th>SSD SIZE</th>\n",
       "      <th>HDD SIZE</th>\n",
       "      <th>SCREEN SIZE</th>\n",
       "      <th>PRICE</th>\n",
       "    </tr>\n",
       "  </thead>\n",
       "  <tbody>\n",
       "    <tr>\n",
       "      <th>count</th>\n",
       "      <td>254.000000</td>\n",
       "      <td>254.00000</td>\n",
       "      <td>254.0</td>\n",
       "      <td>254.000000</td>\n",
       "      <td>254.0</td>\n",
       "      <td>254.000000</td>\n",
       "      <td>254.000000</td>\n",
       "    </tr>\n",
       "    <tr>\n",
       "      <th>mean</th>\n",
       "      <td>7.511811</td>\n",
       "      <td>9.84252</td>\n",
       "      <td>4.0</td>\n",
       "      <td>344.464567</td>\n",
       "      <td>0.0</td>\n",
       "      <td>14.112992</td>\n",
       "      <td>118481.102362</td>\n",
       "    </tr>\n",
       "    <tr>\n",
       "      <th>std</th>\n",
       "      <td>2.423097</td>\n",
       "      <td>3.75626</td>\n",
       "      <td>0.0</td>\n",
       "      <td>140.145339</td>\n",
       "      <td>0.0</td>\n",
       "      <td>1.089887</td>\n",
       "      <td>38664.969658</td>\n",
       "    </tr>\n",
       "    <tr>\n",
       "      <th>min</th>\n",
       "      <td>2.000000</td>\n",
       "      <td>4.00000</td>\n",
       "      <td>4.0</td>\n",
       "      <td>128.000000</td>\n",
       "      <td>0.0</td>\n",
       "      <td>11.600000</td>\n",
       "      <td>46000.000000</td>\n",
       "    </tr>\n",
       "    <tr>\n",
       "      <th>25%</th>\n",
       "      <td>6.000000</td>\n",
       "      <td>8.00000</td>\n",
       "      <td>4.0</td>\n",
       "      <td>256.000000</td>\n",
       "      <td>0.0</td>\n",
       "      <td>13.300000</td>\n",
       "      <td>88000.000000</td>\n",
       "    </tr>\n",
       "    <tr>\n",
       "      <th>50%</th>\n",
       "      <td>8.000000</td>\n",
       "      <td>8.00000</td>\n",
       "      <td>4.0</td>\n",
       "      <td>256.000000</td>\n",
       "      <td>0.0</td>\n",
       "      <td>14.000000</td>\n",
       "      <td>114000.000000</td>\n",
       "    </tr>\n",
       "    <tr>\n",
       "      <th>75%</th>\n",
       "      <td>10.000000</td>\n",
       "      <td>16.00000</td>\n",
       "      <td>4.0</td>\n",
       "      <td>512.000000</td>\n",
       "      <td>0.0</td>\n",
       "      <td>15.000000</td>\n",
       "      <td>139750.000000</td>\n",
       "    </tr>\n",
       "    <tr>\n",
       "      <th>max</th>\n",
       "      <td>11.000000</td>\n",
       "      <td>16.00000</td>\n",
       "      <td>4.0</td>\n",
       "      <td>750.000000</td>\n",
       "      <td>0.0</td>\n",
       "      <td>17.300000</td>\n",
       "      <td>225000.000000</td>\n",
       "    </tr>\n",
       "  </tbody>\n",
       "</table>\n",
       "</div>"
      ],
      "text/plain": [
       "       CPU GENERATION   RAM SIZE  RAM(DDR) TYPE    SSD SIZE  HDD SIZE  \\\n",
       "count      254.000000  254.00000          254.0  254.000000     254.0   \n",
       "mean         7.511811    9.84252            4.0  344.464567       0.0   \n",
       "std          2.423097    3.75626            0.0  140.145339       0.0   \n",
       "min          2.000000    4.00000            4.0  128.000000       0.0   \n",
       "25%          6.000000    8.00000            4.0  256.000000       0.0   \n",
       "50%          8.000000    8.00000            4.0  256.000000       0.0   \n",
       "75%         10.000000   16.00000            4.0  512.000000       0.0   \n",
       "max         11.000000   16.00000            4.0  750.000000       0.0   \n",
       "\n",
       "       SCREEN SIZE          PRICE  \n",
       "count   254.000000     254.000000  \n",
       "mean     14.112992  118481.102362  \n",
       "std       1.089887   38664.969658  \n",
       "min      11.600000   46000.000000  \n",
       "25%      13.300000   88000.000000  \n",
       "50%      14.000000  114000.000000  \n",
       "75%      15.000000  139750.000000  \n",
       "max      17.300000  225000.000000  "
      ]
     },
     "execution_count": 12,
     "metadata": {},
     "output_type": "execute_result"
    }
   ],
   "source": [
    "data.describe()"
   ]
  },
  {
   "cell_type": "markdown",
   "id": "1c7bffd6",
   "metadata": {},
   "source": [
    "\n",
    "# DEFINING THE CATEGORICAL COLUMNS\n"
   ]
  },
  {
   "cell_type": "markdown",
   "id": "26b10d01",
   "metadata": {},
   "source": [
    "## Names Of Categories In Our DataFrame Columns"
   ]
  },
  {
   "cell_type": "code",
   "execution_count": 13,
   "id": "36081759",
   "metadata": {},
   "outputs": [
    {
     "data": {
      "text/plain": [
       "['DELL',\n",
       " 'APPLE',\n",
       " 'ASUS',\n",
       " 'HP',\n",
       " 'LENOVO',\n",
       " 'ACER',\n",
       " 'MICROSOFT',\n",
       " 'HUAWEI',\n",
       " 'TOSHIBA',\n",
       " 'MSI']"
      ]
     },
     "execution_count": 13,
     "metadata": {},
     "output_type": "execute_result"
    }
   ],
   "source": [
    "list(set(list(data['BRAND'])))"
   ]
  },
  {
   "cell_type": "code",
   "execution_count": 14,
   "id": "6ee46fc0",
   "metadata": {},
   "outputs": [
    {
     "data": {
      "text/plain": [
       "['AMD', 'Intel', 'intel']"
      ]
     },
     "execution_count": 14,
     "metadata": {},
     "output_type": "execute_result"
    }
   ],
   "source": [
    "list(set(list(data['CPU BRAND'])))"
   ]
  },
  {
   "cell_type": "code",
   "execution_count": 15,
   "id": "ab2b6339",
   "metadata": {},
   "outputs": [
    {
     "data": {
      "text/plain": [
       "['Core i3', 'Core i7', 'Ryzen 7', 'Ryzen 5', 'Ryzen 3', 'Core i5']"
      ]
     },
     "execution_count": 15,
     "metadata": {},
     "output_type": "execute_result"
    }
   ],
   "source": [
    "list(set(list(data['CPU CORE'])))"
   ]
  },
  {
   "cell_type": "code",
   "execution_count": 16,
   "id": "baba7de4",
   "metadata": {},
   "outputs": [
    {
     "data": {
      "text/plain": [
       "[2, 3, 4, 5, 6, 7, 8, 9, 10, 11]"
      ]
     },
     "execution_count": 16,
     "metadata": {},
     "output_type": "execute_result"
    }
   ],
   "source": [
    "list(set(list(data['CPU GENERATION'])))"
   ]
  },
  {
   "cell_type": "code",
   "execution_count": 17,
   "id": "94df10d5",
   "metadata": {},
   "outputs": [
    {
     "data": {
      "text/plain": [
       "['M', 'H', 'U', 'YU', 'G7', 'G1', 'H ', 'G', 'HQ']"
      ]
     },
     "execution_count": 17,
     "metadata": {},
     "output_type": "execute_result"
    }
   ],
   "source": [
    "list(set(list(data['CPU FAMILY'])))"
   ]
  },
  {
   "cell_type": "code",
   "execution_count": 18,
   "id": "66c8b376",
   "metadata": {},
   "outputs": [
    {
     "data": {
      "text/plain": [
       "[8, 16, 4, 12]"
      ]
     },
     "execution_count": 18,
     "metadata": {},
     "output_type": "execute_result"
    }
   ],
   "source": [
    "list(set(list(data['RAM SIZE'])))"
   ]
  },
  {
   "cell_type": "code",
   "execution_count": 19,
   "id": "e1da2a65",
   "metadata": {},
   "outputs": [
    {
     "data": {
      "text/plain": [
       "[4]"
      ]
     },
     "execution_count": 19,
     "metadata": {},
     "output_type": "execute_result"
    }
   ],
   "source": [
    "list(set(list(data['RAM(DDR) TYPE'])))"
   ]
  },
  {
   "cell_type": "code",
   "execution_count": 20,
   "id": "84d46db5",
   "metadata": {},
   "outputs": [
    {
     "data": {
      "text/plain": [
       "['SSD', 'HDD']"
      ]
     },
     "execution_count": 20,
     "metadata": {},
     "output_type": "execute_result"
    }
   ],
   "source": [
    "list(set(list(data['DISK TYPE'])))"
   ]
  },
  {
   "cell_type": "code",
   "execution_count": 21,
   "id": "82802678",
   "metadata": {},
   "outputs": [
    {
     "data": {
      "text/plain": [
       "[256, 512, 128, 750, 240, 180]"
      ]
     },
     "execution_count": 21,
     "metadata": {},
     "output_type": "execute_result"
    }
   ],
   "source": [
    "list(set(list(data['SSD SIZE'])))"
   ]
  },
  {
   "cell_type": "code",
   "execution_count": 22,
   "id": "dfa1cd61",
   "metadata": {},
   "outputs": [
    {
     "data": {
      "text/plain": [
       "[0]"
      ]
     },
     "execution_count": 22,
     "metadata": {},
     "output_type": "execute_result"
    }
   ],
   "source": [
    "list(set(list(data['HDD SIZE'])))"
   ]
  },
  {
   "cell_type": "code",
   "execution_count": 23,
   "id": "c9dcbf84",
   "metadata": {},
   "outputs": [
    {
     "data": {
      "text/plain": [
       "['INTEL', 'NVIDIA', 'AMD']"
      ]
     },
     "execution_count": 23,
     "metadata": {},
     "output_type": "execute_result"
    }
   ],
   "source": [
    "list(set(list(data['GPU BRAND'])))"
   ]
  },
  {
   "cell_type": "code",
   "execution_count": 24,
   "id": "676fbe36",
   "metadata": {},
   "outputs": [
    {
     "data": {
      "text/plain": [
       "['GeForce GTX 950M',\n",
       " 'RADEON R5 M330',\n",
       " 'GeForce GTX MX230',\n",
       " 'GeForce GTX 1650Ti',\n",
       " 'GeForce GTX MX330',\n",
       " 'GeForce GTX MX250',\n",
       " 'QUADRO P520',\n",
       " 'GeForce GTX MX150',\n",
       " 'GeForce MX330',\n",
       " 'RADEON PRO 555X',\n",
       " 'GeForce GTX 1060',\n",
       " 'INTEGRATED',\n",
       " 'GeForce GTX 1050TI',\n",
       " 'GeForce 940MX',\n",
       " 'GeForce MX230',\n",
       " 'GeForce GTX 1650',\n",
       " 'GeForce GTX 940MX',\n",
       " 'GeForce GTX 1660Ti',\n",
       " 'GeForce GTX MX130',\n",
       " 'GeForce GTX 1050Ti',\n",
       " 'GeForce GTX 1050',\n",
       " 'GeForce RTX 2060']"
      ]
     },
     "execution_count": 24,
     "metadata": {},
     "output_type": "execute_result"
    }
   ],
   "source": [
    "list(set(list(data['GPU TYPE'])))"
   ]
  },
  {
   "cell_type": "code",
   "execution_count": 25,
   "id": "7bf760ba",
   "metadata": {},
   "outputs": [
    {
     "data": {
      "text/plain": [
       "[13.1,\n",
       " 13.4,\n",
       " 15.1,\n",
       " 11.6,\n",
       " 12.5,\n",
       " 13.0,\n",
       " 13.3,\n",
       " 15.6,\n",
       " 14.1,\n",
       " 14.0,\n",
       " 15.0,\n",
       " 17.0,\n",
       " 12.4,\n",
       " 13.5,\n",
       " 15.4,\n",
       " 15.5,\n",
       " 17.3,\n",
       " 12.0]"
      ]
     },
     "execution_count": 25,
     "metadata": {},
     "output_type": "execute_result"
    }
   ],
   "source": [
    "list(set(list(data['SCREEN SIZE'])))"
   ]
  },
  {
   "cell_type": "code",
   "execution_count": 26,
   "id": "5a481eab",
   "metadata": {},
   "outputs": [
    {
     "data": {
      "text/plain": [
       "['HD', 'QHD ', 'UHD', 'FHD', 'QHD']"
      ]
     },
     "execution_count": 26,
     "metadata": {},
     "output_type": "execute_result"
    }
   ],
   "source": [
    "list(set(list(data['SCREEN RESOLUTION'])))"
   ]
  },
  {
   "cell_type": "code",
   "execution_count": 27,
   "id": "70f54af8",
   "metadata": {},
   "outputs": [
    {
     "data": {
      "text/plain": [
       "['USED', 'NEW']"
      ]
     },
     "execution_count": 27,
     "metadata": {},
     "output_type": "execute_result"
    }
   ],
   "source": [
    "list(set(list(data['STATE'])))"
   ]
  },
  {
   "cell_type": "code",
   "execution_count": null,
   "id": "7b9b7b92",
   "metadata": {},
   "outputs": [],
   "source": []
  },
  {
   "cell_type": "code",
   "execution_count": null,
   "id": "eadb41d9",
   "metadata": {},
   "outputs": [],
   "source": []
  },
  {
   "cell_type": "markdown",
   "id": "ed203117",
   "metadata": {},
   "source": [
    "## Number Of Categories In Our DataFrame Columns"
   ]
  },
  {
   "cell_type": "code",
   "execution_count": 28,
   "id": "503b3914",
   "metadata": {},
   "outputs": [
    {
     "data": {
      "text/plain": [
       "10"
      ]
     },
     "execution_count": 28,
     "metadata": {},
     "output_type": "execute_result"
    }
   ],
   "source": [
    "data['BRAND'].value_counts().count()"
   ]
  },
  {
   "cell_type": "code",
   "execution_count": 29,
   "id": "17c5735f",
   "metadata": {},
   "outputs": [
    {
     "data": {
      "text/plain": [
       "3"
      ]
     },
     "execution_count": 29,
     "metadata": {},
     "output_type": "execute_result"
    }
   ],
   "source": [
    "data['CPU BRAND'].value_counts().count()"
   ]
  },
  {
   "cell_type": "code",
   "execution_count": 30,
   "id": "72651c07",
   "metadata": {},
   "outputs": [
    {
     "data": {
      "text/plain": [
       "6"
      ]
     },
     "execution_count": 30,
     "metadata": {},
     "output_type": "execute_result"
    }
   ],
   "source": [
    "data['CPU CORE'].value_counts().count()"
   ]
  },
  {
   "cell_type": "code",
   "execution_count": 31,
   "id": "a8959ed8",
   "metadata": {},
   "outputs": [
    {
     "data": {
      "text/plain": [
       "10"
      ]
     },
     "execution_count": 31,
     "metadata": {},
     "output_type": "execute_result"
    }
   ],
   "source": [
    "data['CPU GENERATION'].value_counts().count()"
   ]
  },
  {
   "cell_type": "code",
   "execution_count": 32,
   "id": "5c694d44",
   "metadata": {},
   "outputs": [
    {
     "data": {
      "text/plain": [
       "9"
      ]
     },
     "execution_count": 32,
     "metadata": {},
     "output_type": "execute_result"
    }
   ],
   "source": [
    "data['CPU FAMILY'].value_counts().count()"
   ]
  },
  {
   "cell_type": "code",
   "execution_count": 33,
   "id": "3babc24b",
   "metadata": {},
   "outputs": [
    {
     "data": {
      "text/plain": [
       "4"
      ]
     },
     "execution_count": 33,
     "metadata": {},
     "output_type": "execute_result"
    }
   ],
   "source": [
    "data['RAM SIZE'].value_counts().count()"
   ]
  },
  {
   "cell_type": "code",
   "execution_count": 34,
   "id": "0a860f39",
   "metadata": {},
   "outputs": [
    {
     "data": {
      "text/plain": [
       "1"
      ]
     },
     "execution_count": 34,
     "metadata": {},
     "output_type": "execute_result"
    }
   ],
   "source": [
    "data['RAM(DDR) TYPE'].value_counts().count()"
   ]
  },
  {
   "cell_type": "code",
   "execution_count": 35,
   "id": "c02f22a2",
   "metadata": {},
   "outputs": [
    {
     "data": {
      "text/plain": [
       "2"
      ]
     },
     "execution_count": 35,
     "metadata": {},
     "output_type": "execute_result"
    }
   ],
   "source": [
    "data['DISK TYPE'].value_counts().count()"
   ]
  },
  {
   "cell_type": "code",
   "execution_count": 36,
   "id": "90257671",
   "metadata": {},
   "outputs": [
    {
     "data": {
      "text/plain": [
       "6"
      ]
     },
     "execution_count": 36,
     "metadata": {},
     "output_type": "execute_result"
    }
   ],
   "source": [
    "data['SSD SIZE'].value_counts().count()"
   ]
  },
  {
   "cell_type": "code",
   "execution_count": 37,
   "id": "cce662e2",
   "metadata": {},
   "outputs": [
    {
     "data": {
      "text/plain": [
       "1"
      ]
     },
     "execution_count": 37,
     "metadata": {},
     "output_type": "execute_result"
    }
   ],
   "source": [
    "data['HDD SIZE'].value_counts().count()"
   ]
  },
  {
   "cell_type": "code",
   "execution_count": 38,
   "id": "e53ca41e",
   "metadata": {},
   "outputs": [
    {
     "data": {
      "text/plain": [
       "3"
      ]
     },
     "execution_count": 38,
     "metadata": {},
     "output_type": "execute_result"
    }
   ],
   "source": [
    "data['GPU BRAND'].value_counts().count()"
   ]
  },
  {
   "cell_type": "code",
   "execution_count": 39,
   "id": "9939b142",
   "metadata": {},
   "outputs": [
    {
     "data": {
      "text/plain": [
       "22"
      ]
     },
     "execution_count": 39,
     "metadata": {},
     "output_type": "execute_result"
    }
   ],
   "source": [
    "data['GPU TYPE'].value_counts().count()"
   ]
  },
  {
   "cell_type": "code",
   "execution_count": 40,
   "id": "b4bda0ce",
   "metadata": {},
   "outputs": [
    {
     "data": {
      "text/plain": [
       "18"
      ]
     },
     "execution_count": 40,
     "metadata": {},
     "output_type": "execute_result"
    }
   ],
   "source": [
    "data['SCREEN SIZE'].value_counts().count()"
   ]
  },
  {
   "cell_type": "code",
   "execution_count": 41,
   "id": "bffaa87f",
   "metadata": {},
   "outputs": [
    {
     "data": {
      "text/plain": [
       "5"
      ]
     },
     "execution_count": 41,
     "metadata": {},
     "output_type": "execute_result"
    }
   ],
   "source": [
    "data['SCREEN RESOLUTION'].value_counts().count()"
   ]
  },
  {
   "cell_type": "code",
   "execution_count": 42,
   "id": "4103ab9d",
   "metadata": {},
   "outputs": [
    {
     "data": {
      "text/plain": [
       "2"
      ]
     },
     "execution_count": 42,
     "metadata": {},
     "output_type": "execute_result"
    }
   ],
   "source": [
    "data['STATE'].value_counts().count()"
   ]
  },
  {
   "cell_type": "markdown",
   "id": "d2240a65",
   "metadata": {},
   "source": [
    "## Number Of Individuals In Each Categories Of Our DataFrame"
   ]
  },
  {
   "cell_type": "code",
   "execution_count": 43,
   "id": "894a3fec",
   "metadata": {},
   "outputs": [
    {
     "data": {
      "text/plain": [
       "LENOVO       58\n",
       "HP           44\n",
       "ASUS         37\n",
       "ACER         25\n",
       "DELL         24\n",
       "APPLE        21\n",
       "HUAWEI       16\n",
       "MICROSOFT    15\n",
       "TOSHIBA      11\n",
       "MSI           3\n",
       "Name: BRAND, dtype: int64"
      ]
     },
     "execution_count": 43,
     "metadata": {},
     "output_type": "execute_result"
    }
   ],
   "source": [
    "data['BRAND'].value_counts()"
   ]
  },
  {
   "cell_type": "code",
   "execution_count": 44,
   "id": "45637398",
   "metadata": {},
   "outputs": [
    {
     "data": {
      "text/plain": [
       "Intel    216\n",
       "AMD       37\n",
       "intel      1\n",
       "Name: CPU BRAND, dtype: int64"
      ]
     },
     "execution_count": 44,
     "metadata": {},
     "output_type": "execute_result"
    }
   ],
   "source": [
    "data['CPU BRAND'].value_counts()"
   ]
  },
  {
   "cell_type": "code",
   "execution_count": 45,
   "id": "35e7ac80",
   "metadata": {},
   "outputs": [
    {
     "data": {
      "text/plain": [
       "Core i5    127\n",
       "Core i7     64\n",
       "Core i3     26\n",
       "Ryzen 5     26\n",
       "Ryzen 7      9\n",
       "Ryzen 3      2\n",
       "Name: CPU CORE, dtype: int64"
      ]
     },
     "execution_count": 45,
     "metadata": {},
     "output_type": "execute_result"
    }
   ],
   "source": [
    "data['CPU CORE'].value_counts()"
   ]
  },
  {
   "cell_type": "code",
   "execution_count": 46,
   "id": "15b94ee7",
   "metadata": {},
   "outputs": [
    {
     "data": {
      "text/plain": [
       "8     82\n",
       "10    50\n",
       "3     28\n",
       "6     24\n",
       "7     21\n",
       "11    20\n",
       "4     14\n",
       "9      8\n",
       "5      5\n",
       "2      2\n",
       "Name: CPU GENERATION, dtype: int64"
      ]
     },
     "execution_count": 46,
     "metadata": {},
     "output_type": "execute_result"
    }
   ],
   "source": [
    "data['CPU GENERATION'].value_counts()"
   ]
  },
  {
   "cell_type": "code",
   "execution_count": 47,
   "id": "ddafdb65",
   "metadata": {},
   "outputs": [
    {
     "data": {
      "text/plain": [
       "U     204\n",
       "G      22\n",
       "H      11\n",
       "HQ      8\n",
       "G1      3\n",
       "YU      3\n",
       "M       1\n",
       "G7      1\n",
       "H       1\n",
       "Name: CPU FAMILY, dtype: int64"
      ]
     },
     "execution_count": 47,
     "metadata": {},
     "output_type": "execute_result"
    }
   ],
   "source": [
    "data['CPU FAMILY'].value_counts()"
   ]
  },
  {
   "cell_type": "code",
   "execution_count": 48,
   "id": "b947a4c8",
   "metadata": {},
   "outputs": [
    {
     "data": {
      "text/plain": [
       "8     172\n",
       "16     65\n",
       "4      15\n",
       "12      2\n",
       "Name: RAM SIZE, dtype: int64"
      ]
     },
     "execution_count": 48,
     "metadata": {},
     "output_type": "execute_result"
    }
   ],
   "source": [
    "data['RAM SIZE'].value_counts()"
   ]
  },
  {
   "cell_type": "code",
   "execution_count": 49,
   "id": "e93100d1",
   "metadata": {},
   "outputs": [
    {
     "data": {
      "text/plain": [
       "4    254\n",
       "Name: RAM(DDR) TYPE, dtype: int64"
      ]
     },
     "execution_count": 49,
     "metadata": {},
     "output_type": "execute_result"
    }
   ],
   "source": [
    "data['RAM(DDR) TYPE'].value_counts()"
   ]
  },
  {
   "cell_type": "code",
   "execution_count": 50,
   "id": "397f6795",
   "metadata": {},
   "outputs": [
    {
     "data": {
      "text/plain": [
       "SSD    252\n",
       "HDD      2\n",
       "Name: DISK TYPE, dtype: int64"
      ]
     },
     "execution_count": 50,
     "metadata": {},
     "output_type": "execute_result"
    }
   ],
   "source": [
    "data['DISK TYPE'].value_counts()"
   ]
  },
  {
   "cell_type": "code",
   "execution_count": 51,
   "id": "96d23e83",
   "metadata": {},
   "outputs": [
    {
     "data": {
      "text/plain": [
       "256    132\n",
       "512     97\n",
       "128     21\n",
       "180      2\n",
       "240      1\n",
       "750      1\n",
       "Name: SSD SIZE, dtype: int64"
      ]
     },
     "execution_count": 51,
     "metadata": {},
     "output_type": "execute_result"
    }
   ],
   "source": [
    "data['SSD SIZE'].value_counts()"
   ]
  },
  {
   "cell_type": "code",
   "execution_count": 52,
   "id": "6106aa89",
   "metadata": {},
   "outputs": [
    {
     "data": {
      "text/plain": [
       "0    254\n",
       "Name: HDD SIZE, dtype: int64"
      ]
     },
     "execution_count": 52,
     "metadata": {},
     "output_type": "execute_result"
    }
   ],
   "source": [
    "data['HDD SIZE'].value_counts()"
   ]
  },
  {
   "cell_type": "code",
   "execution_count": 53,
   "id": "51c4dbce",
   "metadata": {},
   "outputs": [
    {
     "data": {
      "text/plain": [
       "INTEL     185\n",
       "NVIDIA     35\n",
       "AMD        34\n",
       "Name: GPU BRAND, dtype: int64"
      ]
     },
     "execution_count": 53,
     "metadata": {},
     "output_type": "execute_result"
    }
   ],
   "source": [
    "data['GPU BRAND'].value_counts()"
   ]
  },
  {
   "cell_type": "code",
   "execution_count": 54,
   "id": "05b4d1bd",
   "metadata": {},
   "outputs": [
    {
     "data": {
      "text/plain": [
       "INTEGRATED            214\n",
       "GeForce GTX 1050        7\n",
       "GeForce GTX MX250       4\n",
       "GeForce GTX MX150       3\n",
       "RADEON PRO 555X         3\n",
       "GeForce GTX 1650        3\n",
       "RADEON R5 M330          2\n",
       "GeForce GTX 1050TI      2\n",
       "GeForce GTX 1050Ti      2\n",
       "GeForce GTX 1650Ti      2\n",
       "GeForce MX230           1\n",
       "GeForce GTX MX230       1\n",
       "GeForce GTX MX330       1\n",
       "GeForce MX330           1\n",
       "GeForce GTX 950M        1\n",
       "GeForce 940MX           1\n",
       "GeForce GTX 940MX       1\n",
       "GeForce GTX MX130       1\n",
       "QUADRO P520             1\n",
       "GeForce RTX 2060        1\n",
       "GeForce GTX 1060        1\n",
       "GeForce GTX 1660Ti      1\n",
       "Name: GPU TYPE, dtype: int64"
      ]
     },
     "execution_count": 54,
     "metadata": {},
     "output_type": "execute_result"
    }
   ],
   "source": [
    "data['GPU TYPE'].value_counts()"
   ]
  },
  {
   "cell_type": "code",
   "execution_count": 55,
   "id": "66cc3c49",
   "metadata": {},
   "outputs": [
    {
     "data": {
      "text/plain": [
       "13.3    65\n",
       "14.1    50\n",
       "15.6    49\n",
       "14.0    39\n",
       "12.5    14\n",
       "13.0    10\n",
       "15.0     6\n",
       "15.4     4\n",
       "17.3     3\n",
       "17.0     3\n",
       "11.6     3\n",
       "15.5     2\n",
       "15.1     1\n",
       "13.1     1\n",
       "12.4     1\n",
       "12.0     1\n",
       "13.5     1\n",
       "13.4     1\n",
       "Name: SCREEN SIZE, dtype: int64"
      ]
     },
     "execution_count": 55,
     "metadata": {},
     "output_type": "execute_result"
    }
   ],
   "source": [
    "data['SCREEN SIZE'].value_counts()"
   ]
  },
  {
   "cell_type": "code",
   "execution_count": 56,
   "id": "5cb9ea98",
   "metadata": {},
   "outputs": [
    {
     "data": {
      "text/plain": [
       "FHD     180\n",
       "QHD      34\n",
       "HD       27\n",
       "UHD      12\n",
       "QHD       1\n",
       "Name: SCREEN RESOLUTION, dtype: int64"
      ]
     },
     "execution_count": 56,
     "metadata": {},
     "output_type": "execute_result"
    }
   ],
   "source": [
    "data['SCREEN RESOLUTION'].value_counts()"
   ]
  },
  {
   "cell_type": "code",
   "execution_count": 57,
   "id": "1fabe3e5",
   "metadata": {},
   "outputs": [
    {
     "data": {
      "text/plain": [
       "USED    208\n",
       "NEW      46\n",
       "Name: STATE, dtype: int64"
      ]
     },
     "execution_count": 57,
     "metadata": {},
     "output_type": "execute_result"
    }
   ],
   "source": [
    "data['STATE'].value_counts()"
   ]
  },
  {
   "cell_type": "markdown",
   "id": "91efb5c3",
   "metadata": {},
   "source": [
    "## Checking If The Category Can Be Ordered"
   ]
  },
  {
   "cell_type": "code",
   "execution_count": 58,
   "id": "027b85fa",
   "metadata": {},
   "outputs": [
    {
     "data": {
      "text/plain": [
       "False"
      ]
     },
     "execution_count": 58,
     "metadata": {},
     "output_type": "execute_result"
    }
   ],
   "source": [
    "x = pd.Series(['BRAND'], dtype=\"category\")\n",
    "\n",
    "x.cat.categories\n",
    "\n",
    "x.cat.ordered"
   ]
  },
  {
   "cell_type": "code",
   "execution_count": 59,
   "id": "32e2eba7",
   "metadata": {},
   "outputs": [
    {
     "data": {
      "text/plain": [
       "False"
      ]
     },
     "execution_count": 59,
     "metadata": {},
     "output_type": "execute_result"
    }
   ],
   "source": [
    "x = pd.Series(['CPU BRAND'], dtype=\"category\")\n",
    "\n",
    "x.cat.categories\n",
    "\n",
    "x.cat.ordered"
   ]
  },
  {
   "cell_type": "code",
   "execution_count": 60,
   "id": "8455ea8c",
   "metadata": {},
   "outputs": [
    {
     "data": {
      "text/plain": [
       "False"
      ]
     },
     "execution_count": 60,
     "metadata": {},
     "output_type": "execute_result"
    }
   ],
   "source": [
    "x = pd.Series(['CPU CORE'], dtype=\"category\")\n",
    "\n",
    "x.cat.categories\n",
    "\n",
    "x.cat.ordered"
   ]
  },
  {
   "cell_type": "code",
   "execution_count": 61,
   "id": "76d4e58d",
   "metadata": {},
   "outputs": [
    {
     "data": {
      "text/plain": [
       "False"
      ]
     },
     "execution_count": 61,
     "metadata": {},
     "output_type": "execute_result"
    }
   ],
   "source": [
    "x = pd.Series(['CPU FAMILY'], dtype=\"category\")\n",
    "\n",
    "x.cat.categories\n",
    "\n",
    "x.cat.ordered"
   ]
  },
  {
   "cell_type": "code",
   "execution_count": 62,
   "id": "68e0c29a",
   "metadata": {},
   "outputs": [
    {
     "data": {
      "text/plain": [
       "False"
      ]
     },
     "execution_count": 62,
     "metadata": {},
     "output_type": "execute_result"
    }
   ],
   "source": [
    "x = pd.Series(['DISK TYPE'], dtype=\"category\")\n",
    "\n",
    "x.cat.categories\n",
    "\n",
    "x.cat.ordered"
   ]
  },
  {
   "cell_type": "code",
   "execution_count": 63,
   "id": "bad9794d",
   "metadata": {},
   "outputs": [
    {
     "data": {
      "text/plain": [
       "False"
      ]
     },
     "execution_count": 63,
     "metadata": {},
     "output_type": "execute_result"
    }
   ],
   "source": [
    "x = pd.Series(['GPU BRAND'], dtype=\"category\")\n",
    "\n",
    "x.cat.categories\n",
    "\n",
    "x.cat.ordered"
   ]
  },
  {
   "cell_type": "code",
   "execution_count": 64,
   "id": "c9ed7c0a",
   "metadata": {},
   "outputs": [
    {
     "data": {
      "text/plain": [
       "False"
      ]
     },
     "execution_count": 64,
     "metadata": {},
     "output_type": "execute_result"
    }
   ],
   "source": [
    "x = pd.Series(['GPU TYPE'], dtype=\"category\")\n",
    "\n",
    "x.cat.categories\n",
    "\n",
    "x.cat.ordered"
   ]
  },
  {
   "cell_type": "code",
   "execution_count": 65,
   "id": "07c77730",
   "metadata": {},
   "outputs": [
    {
     "data": {
      "text/plain": [
       "False"
      ]
     },
     "execution_count": 65,
     "metadata": {},
     "output_type": "execute_result"
    }
   ],
   "source": [
    "x = pd.Series(['SCREEN RESOLUTION'], dtype=\"category\")\n",
    "\n",
    "x.cat.categories\n",
    "\n",
    "x.cat.ordered"
   ]
  },
  {
   "cell_type": "code",
   "execution_count": 66,
   "id": "704b4aed",
   "metadata": {},
   "outputs": [
    {
     "data": {
      "text/plain": [
       "False"
      ]
     },
     "execution_count": 66,
     "metadata": {},
     "output_type": "execute_result"
    }
   ],
   "source": [
    "x = pd.Series(['STATE'], dtype=\"category\")\n",
    "\n",
    "x.cat.categories\n",
    "\n",
    "x.cat.ordered"
   ]
  },
  {
   "cell_type": "markdown",
   "id": "30664f7c",
   "metadata": {},
   "source": [
    "## Using crosstab() function to compute a simple cross-tabulation of two (or more) columns. "
   ]
  },
  {
   "cell_type": "code",
   "execution_count": 67,
   "id": "54ea4d5a",
   "metadata": {},
   "outputs": [
    {
     "data": {
      "text/html": [
       "<div>\n",
       "<style scoped>\n",
       "    .dataframe tbody tr th:only-of-type {\n",
       "        vertical-align: middle;\n",
       "    }\n",
       "\n",
       "    .dataframe tbody tr th {\n",
       "        vertical-align: top;\n",
       "    }\n",
       "\n",
       "    .dataframe thead th {\n",
       "        text-align: right;\n",
       "    }\n",
       "</style>\n",
       "<table border=\"1\" class=\"dataframe\">\n",
       "  <thead>\n",
       "    <tr style=\"text-align: right;\">\n",
       "      <th>STATE</th>\n",
       "      <th>NEW</th>\n",
       "      <th>USED</th>\n",
       "    </tr>\n",
       "    <tr>\n",
       "      <th>BRAND</th>\n",
       "      <th></th>\n",
       "      <th></th>\n",
       "    </tr>\n",
       "  </thead>\n",
       "  <tbody>\n",
       "    <tr>\n",
       "      <th>ACER</th>\n",
       "      <td>1</td>\n",
       "      <td>24</td>\n",
       "    </tr>\n",
       "    <tr>\n",
       "      <th>APPLE</th>\n",
       "      <td>0</td>\n",
       "      <td>21</td>\n",
       "    </tr>\n",
       "    <tr>\n",
       "      <th>ASUS</th>\n",
       "      <td>9</td>\n",
       "      <td>28</td>\n",
       "    </tr>\n",
       "    <tr>\n",
       "      <th>DELL</th>\n",
       "      <td>1</td>\n",
       "      <td>23</td>\n",
       "    </tr>\n",
       "    <tr>\n",
       "      <th>HP</th>\n",
       "      <td>21</td>\n",
       "      <td>23</td>\n",
       "    </tr>\n",
       "    <tr>\n",
       "      <th>HUAWEI</th>\n",
       "      <td>2</td>\n",
       "      <td>14</td>\n",
       "    </tr>\n",
       "    <tr>\n",
       "      <th>LENOVO</th>\n",
       "      <td>7</td>\n",
       "      <td>51</td>\n",
       "    </tr>\n",
       "    <tr>\n",
       "      <th>MICROSOFT</th>\n",
       "      <td>2</td>\n",
       "      <td>13</td>\n",
       "    </tr>\n",
       "    <tr>\n",
       "      <th>MSI</th>\n",
       "      <td>0</td>\n",
       "      <td>3</td>\n",
       "    </tr>\n",
       "    <tr>\n",
       "      <th>TOSHIBA</th>\n",
       "      <td>3</td>\n",
       "      <td>8</td>\n",
       "    </tr>\n",
       "  </tbody>\n",
       "</table>\n",
       "</div>"
      ],
      "text/plain": [
       "STATE      NEW  USED\n",
       "BRAND               \n",
       "ACER         1    24\n",
       "APPLE        0    21\n",
       "ASUS         9    28\n",
       "DELL         1    23\n",
       "HP          21    23\n",
       "HUAWEI       2    14\n",
       "LENOVO       7    51\n",
       "MICROSOFT    2    13\n",
       "MSI          0     3\n",
       "TOSHIBA      3     8"
      ]
     },
     "execution_count": 67,
     "metadata": {},
     "output_type": "execute_result"
    }
   ],
   "source": [
    "pd.crosstab(data['BRAND'], data['STATE'])"
   ]
  },
  {
   "cell_type": "code",
   "execution_count": 68,
   "id": "4460973f",
   "metadata": {},
   "outputs": [
    {
     "data": {
      "text/html": [
       "<div>\n",
       "<style scoped>\n",
       "    .dataframe tbody tr th:only-of-type {\n",
       "        vertical-align: middle;\n",
       "    }\n",
       "\n",
       "    .dataframe tbody tr th {\n",
       "        vertical-align: top;\n",
       "    }\n",
       "\n",
       "    .dataframe thead th {\n",
       "        text-align: right;\n",
       "    }\n",
       "</style>\n",
       "<table border=\"1\" class=\"dataframe\">\n",
       "  <thead>\n",
       "    <tr style=\"text-align: right;\">\n",
       "      <th>RAM SIZE</th>\n",
       "      <th>4</th>\n",
       "      <th>8</th>\n",
       "      <th>12</th>\n",
       "      <th>16</th>\n",
       "    </tr>\n",
       "    <tr>\n",
       "      <th>BRAND</th>\n",
       "      <th></th>\n",
       "      <th></th>\n",
       "      <th></th>\n",
       "      <th></th>\n",
       "    </tr>\n",
       "  </thead>\n",
       "  <tbody>\n",
       "    <tr>\n",
       "      <th>ACER</th>\n",
       "      <td>2</td>\n",
       "      <td>14</td>\n",
       "      <td>2</td>\n",
       "      <td>7</td>\n",
       "    </tr>\n",
       "    <tr>\n",
       "      <th>APPLE</th>\n",
       "      <td>1</td>\n",
       "      <td>14</td>\n",
       "      <td>0</td>\n",
       "      <td>6</td>\n",
       "    </tr>\n",
       "    <tr>\n",
       "      <th>ASUS</th>\n",
       "      <td>6</td>\n",
       "      <td>27</td>\n",
       "      <td>0</td>\n",
       "      <td>4</td>\n",
       "    </tr>\n",
       "    <tr>\n",
       "      <th>DELL</th>\n",
       "      <td>0</td>\n",
       "      <td>11</td>\n",
       "      <td>0</td>\n",
       "      <td>13</td>\n",
       "    </tr>\n",
       "    <tr>\n",
       "      <th>HP</th>\n",
       "      <td>4</td>\n",
       "      <td>31</td>\n",
       "      <td>0</td>\n",
       "      <td>9</td>\n",
       "    </tr>\n",
       "    <tr>\n",
       "      <th>HUAWEI</th>\n",
       "      <td>0</td>\n",
       "      <td>12</td>\n",
       "      <td>0</td>\n",
       "      <td>4</td>\n",
       "    </tr>\n",
       "    <tr>\n",
       "      <th>LENOVO</th>\n",
       "      <td>1</td>\n",
       "      <td>42</td>\n",
       "      <td>0</td>\n",
       "      <td>15</td>\n",
       "    </tr>\n",
       "    <tr>\n",
       "      <th>MICROSOFT</th>\n",
       "      <td>1</td>\n",
       "      <td>9</td>\n",
       "      <td>0</td>\n",
       "      <td>5</td>\n",
       "    </tr>\n",
       "    <tr>\n",
       "      <th>MSI</th>\n",
       "      <td>0</td>\n",
       "      <td>2</td>\n",
       "      <td>0</td>\n",
       "      <td>1</td>\n",
       "    </tr>\n",
       "    <tr>\n",
       "      <th>TOSHIBA</th>\n",
       "      <td>0</td>\n",
       "      <td>10</td>\n",
       "      <td>0</td>\n",
       "      <td>1</td>\n",
       "    </tr>\n",
       "  </tbody>\n",
       "</table>\n",
       "</div>"
      ],
      "text/plain": [
       "RAM SIZE   4   8   12  16\n",
       "BRAND                    \n",
       "ACER        2  14   2   7\n",
       "APPLE       1  14   0   6\n",
       "ASUS        6  27   0   4\n",
       "DELL        0  11   0  13\n",
       "HP          4  31   0   9\n",
       "HUAWEI      0  12   0   4\n",
       "LENOVO      1  42   0  15\n",
       "MICROSOFT   1   9   0   5\n",
       "MSI         0   2   0   1\n",
       "TOSHIBA     0  10   0   1"
      ]
     },
     "execution_count": 68,
     "metadata": {},
     "output_type": "execute_result"
    }
   ],
   "source": [
    "pd.crosstab(data['BRAND'], data['RAM SIZE'])"
   ]
  },
  {
   "cell_type": "code",
   "execution_count": 69,
   "id": "37908d6b",
   "metadata": {},
   "outputs": [
    {
     "data": {
      "text/html": [
       "<div>\n",
       "<style scoped>\n",
       "    .dataframe tbody tr th:only-of-type {\n",
       "        vertical-align: middle;\n",
       "    }\n",
       "\n",
       "    .dataframe tbody tr th {\n",
       "        vertical-align: top;\n",
       "    }\n",
       "\n",
       "    .dataframe thead th {\n",
       "        text-align: right;\n",
       "    }\n",
       "</style>\n",
       "<table border=\"1\" class=\"dataframe\">\n",
       "  <thead>\n",
       "    <tr style=\"text-align: right;\">\n",
       "      <th>DISK TYPE</th>\n",
       "      <th>HDD</th>\n",
       "      <th>SSD</th>\n",
       "    </tr>\n",
       "    <tr>\n",
       "      <th>BRAND</th>\n",
       "      <th></th>\n",
       "      <th></th>\n",
       "    </tr>\n",
       "  </thead>\n",
       "  <tbody>\n",
       "    <tr>\n",
       "      <th>ACER</th>\n",
       "      <td>2</td>\n",
       "      <td>23</td>\n",
       "    </tr>\n",
       "    <tr>\n",
       "      <th>APPLE</th>\n",
       "      <td>0</td>\n",
       "      <td>21</td>\n",
       "    </tr>\n",
       "    <tr>\n",
       "      <th>ASUS</th>\n",
       "      <td>0</td>\n",
       "      <td>37</td>\n",
       "    </tr>\n",
       "    <tr>\n",
       "      <th>DELL</th>\n",
       "      <td>0</td>\n",
       "      <td>24</td>\n",
       "    </tr>\n",
       "    <tr>\n",
       "      <th>HP</th>\n",
       "      <td>0</td>\n",
       "      <td>44</td>\n",
       "    </tr>\n",
       "    <tr>\n",
       "      <th>HUAWEI</th>\n",
       "      <td>0</td>\n",
       "      <td>16</td>\n",
       "    </tr>\n",
       "    <tr>\n",
       "      <th>LENOVO</th>\n",
       "      <td>0</td>\n",
       "      <td>58</td>\n",
       "    </tr>\n",
       "    <tr>\n",
       "      <th>MICROSOFT</th>\n",
       "      <td>0</td>\n",
       "      <td>15</td>\n",
       "    </tr>\n",
       "    <tr>\n",
       "      <th>MSI</th>\n",
       "      <td>0</td>\n",
       "      <td>3</td>\n",
       "    </tr>\n",
       "    <tr>\n",
       "      <th>TOSHIBA</th>\n",
       "      <td>0</td>\n",
       "      <td>11</td>\n",
       "    </tr>\n",
       "  </tbody>\n",
       "</table>\n",
       "</div>"
      ],
      "text/plain": [
       "DISK TYPE  HDD  SSD\n",
       "BRAND              \n",
       "ACER         2   23\n",
       "APPLE        0   21\n",
       "ASUS         0   37\n",
       "DELL         0   24\n",
       "HP           0   44\n",
       "HUAWEI       0   16\n",
       "LENOVO       0   58\n",
       "MICROSOFT    0   15\n",
       "MSI          0    3\n",
       "TOSHIBA      0   11"
      ]
     },
     "execution_count": 69,
     "metadata": {},
     "output_type": "execute_result"
    }
   ],
   "source": [
    "pd.crosstab(data['BRAND'], data['DISK TYPE'])"
   ]
  },
  {
   "cell_type": "code",
   "execution_count": 70,
   "id": "ec136cdf",
   "metadata": {},
   "outputs": [
    {
     "data": {
      "text/html": [
       "<div>\n",
       "<style scoped>\n",
       "    .dataframe tbody tr th:only-of-type {\n",
       "        vertical-align: middle;\n",
       "    }\n",
       "\n",
       "    .dataframe tbody tr th {\n",
       "        vertical-align: top;\n",
       "    }\n",
       "\n",
       "    .dataframe thead th {\n",
       "        text-align: right;\n",
       "    }\n",
       "</style>\n",
       "<table border=\"1\" class=\"dataframe\">\n",
       "  <thead>\n",
       "    <tr style=\"text-align: right;\">\n",
       "      <th>CPU CORE</th>\n",
       "      <th>Core i3</th>\n",
       "      <th>Core i5</th>\n",
       "      <th>Core i7</th>\n",
       "      <th>Ryzen 3</th>\n",
       "      <th>Ryzen 5</th>\n",
       "      <th>Ryzen 7</th>\n",
       "    </tr>\n",
       "    <tr>\n",
       "      <th>BRAND</th>\n",
       "      <th></th>\n",
       "      <th></th>\n",
       "      <th></th>\n",
       "      <th></th>\n",
       "      <th></th>\n",
       "      <th></th>\n",
       "    </tr>\n",
       "  </thead>\n",
       "  <tbody>\n",
       "    <tr>\n",
       "      <th>ACER</th>\n",
       "      <td>3</td>\n",
       "      <td>9</td>\n",
       "      <td>6</td>\n",
       "      <td>1</td>\n",
       "      <td>5</td>\n",
       "      <td>1</td>\n",
       "    </tr>\n",
       "    <tr>\n",
       "      <th>APPLE</th>\n",
       "      <td>1</td>\n",
       "      <td>14</td>\n",
       "      <td>6</td>\n",
       "      <td>0</td>\n",
       "      <td>0</td>\n",
       "      <td>0</td>\n",
       "    </tr>\n",
       "    <tr>\n",
       "      <th>ASUS</th>\n",
       "      <td>5</td>\n",
       "      <td>14</td>\n",
       "      <td>8</td>\n",
       "      <td>1</td>\n",
       "      <td>7</td>\n",
       "      <td>2</td>\n",
       "    </tr>\n",
       "    <tr>\n",
       "      <th>DELL</th>\n",
       "      <td>0</td>\n",
       "      <td>15</td>\n",
       "      <td>9</td>\n",
       "      <td>0</td>\n",
       "      <td>0</td>\n",
       "      <td>0</td>\n",
       "    </tr>\n",
       "    <tr>\n",
       "      <th>HP</th>\n",
       "      <td>3</td>\n",
       "      <td>27</td>\n",
       "      <td>10</td>\n",
       "      <td>0</td>\n",
       "      <td>4</td>\n",
       "      <td>0</td>\n",
       "    </tr>\n",
       "    <tr>\n",
       "      <th>HUAWEI</th>\n",
       "      <td>0</td>\n",
       "      <td>5</td>\n",
       "      <td>3</td>\n",
       "      <td>0</td>\n",
       "      <td>5</td>\n",
       "      <td>3</td>\n",
       "    </tr>\n",
       "    <tr>\n",
       "      <th>LENOVO</th>\n",
       "      <td>11</td>\n",
       "      <td>26</td>\n",
       "      <td>13</td>\n",
       "      <td>0</td>\n",
       "      <td>5</td>\n",
       "      <td>3</td>\n",
       "    </tr>\n",
       "    <tr>\n",
       "      <th>MICROSOFT</th>\n",
       "      <td>0</td>\n",
       "      <td>9</td>\n",
       "      <td>6</td>\n",
       "      <td>0</td>\n",
       "      <td>0</td>\n",
       "      <td>0</td>\n",
       "    </tr>\n",
       "    <tr>\n",
       "      <th>MSI</th>\n",
       "      <td>1</td>\n",
       "      <td>1</td>\n",
       "      <td>1</td>\n",
       "      <td>0</td>\n",
       "      <td>0</td>\n",
       "      <td>0</td>\n",
       "    </tr>\n",
       "    <tr>\n",
       "      <th>TOSHIBA</th>\n",
       "      <td>2</td>\n",
       "      <td>7</td>\n",
       "      <td>2</td>\n",
       "      <td>0</td>\n",
       "      <td>0</td>\n",
       "      <td>0</td>\n",
       "    </tr>\n",
       "  </tbody>\n",
       "</table>\n",
       "</div>"
      ],
      "text/plain": [
       "CPU CORE   Core i3  Core i5  Core i7  Ryzen 3  Ryzen 5  Ryzen 7\n",
       "BRAND                                                          \n",
       "ACER             3        9        6        1        5        1\n",
       "APPLE            1       14        6        0        0        0\n",
       "ASUS             5       14        8        1        7        2\n",
       "DELL             0       15        9        0        0        0\n",
       "HP               3       27       10        0        4        0\n",
       "HUAWEI           0        5        3        0        5        3\n",
       "LENOVO          11       26       13        0        5        3\n",
       "MICROSOFT        0        9        6        0        0        0\n",
       "MSI              1        1        1        0        0        0\n",
       "TOSHIBA          2        7        2        0        0        0"
      ]
     },
     "execution_count": 70,
     "metadata": {},
     "output_type": "execute_result"
    }
   ],
   "source": [
    "pd.crosstab(data['BRAND'], data['CPU CORE'])"
   ]
  },
  {
   "cell_type": "code",
   "execution_count": 71,
   "id": "2a96a2b6",
   "metadata": {},
   "outputs": [
    {
     "data": {
      "text/html": [
       "<div>\n",
       "<style scoped>\n",
       "    .dataframe tbody tr th:only-of-type {\n",
       "        vertical-align: middle;\n",
       "    }\n",
       "\n",
       "    .dataframe tbody tr th {\n",
       "        vertical-align: top;\n",
       "    }\n",
       "\n",
       "    .dataframe thead th {\n",
       "        text-align: right;\n",
       "    }\n",
       "</style>\n",
       "<table border=\"1\" class=\"dataframe\">\n",
       "  <thead>\n",
       "    <tr style=\"text-align: right;\">\n",
       "      <th>CPU BRAND</th>\n",
       "      <th>AMD</th>\n",
       "      <th>Intel</th>\n",
       "      <th>intel</th>\n",
       "    </tr>\n",
       "    <tr>\n",
       "      <th>BRAND</th>\n",
       "      <th></th>\n",
       "      <th></th>\n",
       "      <th></th>\n",
       "    </tr>\n",
       "  </thead>\n",
       "  <tbody>\n",
       "    <tr>\n",
       "      <th>ACER</th>\n",
       "      <td>7</td>\n",
       "      <td>18</td>\n",
       "      <td>0</td>\n",
       "    </tr>\n",
       "    <tr>\n",
       "      <th>APPLE</th>\n",
       "      <td>0</td>\n",
       "      <td>21</td>\n",
       "      <td>0</td>\n",
       "    </tr>\n",
       "    <tr>\n",
       "      <th>ASUS</th>\n",
       "      <td>10</td>\n",
       "      <td>27</td>\n",
       "      <td>0</td>\n",
       "    </tr>\n",
       "    <tr>\n",
       "      <th>DELL</th>\n",
       "      <td>0</td>\n",
       "      <td>24</td>\n",
       "      <td>0</td>\n",
       "    </tr>\n",
       "    <tr>\n",
       "      <th>HP</th>\n",
       "      <td>4</td>\n",
       "      <td>40</td>\n",
       "      <td>0</td>\n",
       "    </tr>\n",
       "    <tr>\n",
       "      <th>HUAWEI</th>\n",
       "      <td>8</td>\n",
       "      <td>7</td>\n",
       "      <td>1</td>\n",
       "    </tr>\n",
       "    <tr>\n",
       "      <th>LENOVO</th>\n",
       "      <td>8</td>\n",
       "      <td>50</td>\n",
       "      <td>0</td>\n",
       "    </tr>\n",
       "    <tr>\n",
       "      <th>MICROSOFT</th>\n",
       "      <td>0</td>\n",
       "      <td>15</td>\n",
       "      <td>0</td>\n",
       "    </tr>\n",
       "    <tr>\n",
       "      <th>MSI</th>\n",
       "      <td>0</td>\n",
       "      <td>3</td>\n",
       "      <td>0</td>\n",
       "    </tr>\n",
       "    <tr>\n",
       "      <th>TOSHIBA</th>\n",
       "      <td>0</td>\n",
       "      <td>11</td>\n",
       "      <td>0</td>\n",
       "    </tr>\n",
       "  </tbody>\n",
       "</table>\n",
       "</div>"
      ],
      "text/plain": [
       "CPU BRAND  AMD  Intel  intel\n",
       "BRAND                       \n",
       "ACER         7     18      0\n",
       "APPLE        0     21      0\n",
       "ASUS        10     27      0\n",
       "DELL         0     24      0\n",
       "HP           4     40      0\n",
       "HUAWEI       8      7      1\n",
       "LENOVO       8     50      0\n",
       "MICROSOFT    0     15      0\n",
       "MSI          0      3      0\n",
       "TOSHIBA      0     11      0"
      ]
     },
     "execution_count": 71,
     "metadata": {},
     "output_type": "execute_result"
    }
   ],
   "source": [
    "pd.crosstab(data['BRAND'], data['CPU BRAND'])"
   ]
  },
  {
   "cell_type": "code",
   "execution_count": 72,
   "id": "40cf8423",
   "metadata": {},
   "outputs": [
    {
     "data": {
      "text/html": [
       "<div>\n",
       "<style scoped>\n",
       "    .dataframe tbody tr th:only-of-type {\n",
       "        vertical-align: middle;\n",
       "    }\n",
       "\n",
       "    .dataframe tbody tr th {\n",
       "        vertical-align: top;\n",
       "    }\n",
       "\n",
       "    .dataframe thead th {\n",
       "        text-align: right;\n",
       "    }\n",
       "</style>\n",
       "<table border=\"1\" class=\"dataframe\">\n",
       "  <thead>\n",
       "    <tr style=\"text-align: right;\">\n",
       "      <th>CPU FAMILY</th>\n",
       "      <th>G</th>\n",
       "      <th>G1</th>\n",
       "      <th>G7</th>\n",
       "      <th>H</th>\n",
       "      <th>H</th>\n",
       "      <th>HQ</th>\n",
       "      <th>M</th>\n",
       "      <th>U</th>\n",
       "      <th>YU</th>\n",
       "    </tr>\n",
       "    <tr>\n",
       "      <th>BRAND</th>\n",
       "      <th></th>\n",
       "      <th></th>\n",
       "      <th></th>\n",
       "      <th></th>\n",
       "      <th></th>\n",
       "      <th></th>\n",
       "      <th></th>\n",
       "      <th></th>\n",
       "      <th></th>\n",
       "    </tr>\n",
       "  </thead>\n",
       "  <tbody>\n",
       "    <tr>\n",
       "      <th>ACER</th>\n",
       "      <td>4</td>\n",
       "      <td>1</td>\n",
       "      <td>0</td>\n",
       "      <td>2</td>\n",
       "      <td>0</td>\n",
       "      <td>0</td>\n",
       "      <td>0</td>\n",
       "      <td>18</td>\n",
       "      <td>0</td>\n",
       "    </tr>\n",
       "    <tr>\n",
       "      <th>APPLE</th>\n",
       "      <td>1</td>\n",
       "      <td>0</td>\n",
       "      <td>0</td>\n",
       "      <td>2</td>\n",
       "      <td>0</td>\n",
       "      <td>6</td>\n",
       "      <td>0</td>\n",
       "      <td>9</td>\n",
       "      <td>3</td>\n",
       "    </tr>\n",
       "    <tr>\n",
       "      <th>ASUS</th>\n",
       "      <td>3</td>\n",
       "      <td>1</td>\n",
       "      <td>1</td>\n",
       "      <td>2</td>\n",
       "      <td>0</td>\n",
       "      <td>0</td>\n",
       "      <td>0</td>\n",
       "      <td>30</td>\n",
       "      <td>0</td>\n",
       "    </tr>\n",
       "    <tr>\n",
       "      <th>DELL</th>\n",
       "      <td>4</td>\n",
       "      <td>0</td>\n",
       "      <td>0</td>\n",
       "      <td>2</td>\n",
       "      <td>1</td>\n",
       "      <td>0</td>\n",
       "      <td>0</td>\n",
       "      <td>17</td>\n",
       "      <td>0</td>\n",
       "    </tr>\n",
       "    <tr>\n",
       "      <th>HP</th>\n",
       "      <td>4</td>\n",
       "      <td>1</td>\n",
       "      <td>0</td>\n",
       "      <td>0</td>\n",
       "      <td>0</td>\n",
       "      <td>2</td>\n",
       "      <td>0</td>\n",
       "      <td>37</td>\n",
       "      <td>0</td>\n",
       "    </tr>\n",
       "    <tr>\n",
       "      <th>HUAWEI</th>\n",
       "      <td>0</td>\n",
       "      <td>0</td>\n",
       "      <td>0</td>\n",
       "      <td>0</td>\n",
       "      <td>0</td>\n",
       "      <td>0</td>\n",
       "      <td>0</td>\n",
       "      <td>16</td>\n",
       "      <td>0</td>\n",
       "    </tr>\n",
       "    <tr>\n",
       "      <th>LENOVO</th>\n",
       "      <td>4</td>\n",
       "      <td>0</td>\n",
       "      <td>0</td>\n",
       "      <td>1</td>\n",
       "      <td>0</td>\n",
       "      <td>0</td>\n",
       "      <td>0</td>\n",
       "      <td>53</td>\n",
       "      <td>0</td>\n",
       "    </tr>\n",
       "    <tr>\n",
       "      <th>MICROSOFT</th>\n",
       "      <td>1</td>\n",
       "      <td>0</td>\n",
       "      <td>0</td>\n",
       "      <td>0</td>\n",
       "      <td>0</td>\n",
       "      <td>0</td>\n",
       "      <td>0</td>\n",
       "      <td>14</td>\n",
       "      <td>0</td>\n",
       "    </tr>\n",
       "    <tr>\n",
       "      <th>MSI</th>\n",
       "      <td>0</td>\n",
       "      <td>0</td>\n",
       "      <td>0</td>\n",
       "      <td>2</td>\n",
       "      <td>0</td>\n",
       "      <td>0</td>\n",
       "      <td>0</td>\n",
       "      <td>1</td>\n",
       "      <td>0</td>\n",
       "    </tr>\n",
       "    <tr>\n",
       "      <th>TOSHIBA</th>\n",
       "      <td>1</td>\n",
       "      <td>0</td>\n",
       "      <td>0</td>\n",
       "      <td>0</td>\n",
       "      <td>0</td>\n",
       "      <td>0</td>\n",
       "      <td>1</td>\n",
       "      <td>9</td>\n",
       "      <td>0</td>\n",
       "    </tr>\n",
       "  </tbody>\n",
       "</table>\n",
       "</div>"
      ],
      "text/plain": [
       "CPU FAMILY  G  G1  G7  H  H   HQ  M   U  YU\n",
       "BRAND                                      \n",
       "ACER        4   1   0  2   0   0  0  18   0\n",
       "APPLE       1   0   0  2   0   6  0   9   3\n",
       "ASUS        3   1   1  2   0   0  0  30   0\n",
       "DELL        4   0   0  2   1   0  0  17   0\n",
       "HP          4   1   0  0   0   2  0  37   0\n",
       "HUAWEI      0   0   0  0   0   0  0  16   0\n",
       "LENOVO      4   0   0  1   0   0  0  53   0\n",
       "MICROSOFT   1   0   0  0   0   0  0  14   0\n",
       "MSI         0   0   0  2   0   0  0   1   0\n",
       "TOSHIBA     1   0   0  0   0   0  1   9   0"
      ]
     },
     "execution_count": 72,
     "metadata": {},
     "output_type": "execute_result"
    }
   ],
   "source": [
    "pd.crosstab(data['BRAND'], data['CPU FAMILY'])"
   ]
  },
  {
   "cell_type": "code",
   "execution_count": 73,
   "id": "c87c5d0b",
   "metadata": {},
   "outputs": [
    {
     "data": {
      "text/html": [
       "<div>\n",
       "<style scoped>\n",
       "    .dataframe tbody tr th:only-of-type {\n",
       "        vertical-align: middle;\n",
       "    }\n",
       "\n",
       "    .dataframe tbody tr th {\n",
       "        vertical-align: top;\n",
       "    }\n",
       "\n",
       "    .dataframe thead th {\n",
       "        text-align: right;\n",
       "    }\n",
       "</style>\n",
       "<table border=\"1\" class=\"dataframe\">\n",
       "  <thead>\n",
       "    <tr style=\"text-align: right;\">\n",
       "      <th>SCREEN RESOLUTION</th>\n",
       "      <th>FHD</th>\n",
       "      <th>HD</th>\n",
       "      <th>QHD</th>\n",
       "      <th>QHD</th>\n",
       "      <th>UHD</th>\n",
       "    </tr>\n",
       "    <tr>\n",
       "      <th>BRAND</th>\n",
       "      <th></th>\n",
       "      <th></th>\n",
       "      <th></th>\n",
       "      <th></th>\n",
       "      <th></th>\n",
       "    </tr>\n",
       "  </thead>\n",
       "  <tbody>\n",
       "    <tr>\n",
       "      <th>ACER</th>\n",
       "      <td>21</td>\n",
       "      <td>3</td>\n",
       "      <td>0</td>\n",
       "      <td>1</td>\n",
       "      <td>0</td>\n",
       "    </tr>\n",
       "    <tr>\n",
       "      <th>APPLE</th>\n",
       "      <td>2</td>\n",
       "      <td>1</td>\n",
       "      <td>15</td>\n",
       "      <td>0</td>\n",
       "      <td>3</td>\n",
       "    </tr>\n",
       "    <tr>\n",
       "      <th>ASUS</th>\n",
       "      <td>33</td>\n",
       "      <td>2</td>\n",
       "      <td>2</td>\n",
       "      <td>0</td>\n",
       "      <td>0</td>\n",
       "    </tr>\n",
       "    <tr>\n",
       "      <th>DELL</th>\n",
       "      <td>24</td>\n",
       "      <td>0</td>\n",
       "      <td>0</td>\n",
       "      <td>0</td>\n",
       "      <td>0</td>\n",
       "    </tr>\n",
       "    <tr>\n",
       "      <th>HP</th>\n",
       "      <td>39</td>\n",
       "      <td>4</td>\n",
       "      <td>0</td>\n",
       "      <td>0</td>\n",
       "      <td>1</td>\n",
       "    </tr>\n",
       "    <tr>\n",
       "      <th>HUAWEI</th>\n",
       "      <td>6</td>\n",
       "      <td>0</td>\n",
       "      <td>7</td>\n",
       "      <td>0</td>\n",
       "      <td>3</td>\n",
       "    </tr>\n",
       "    <tr>\n",
       "      <th>LENOVO</th>\n",
       "      <td>43</td>\n",
       "      <td>13</td>\n",
       "      <td>2</td>\n",
       "      <td>0</td>\n",
       "      <td>0</td>\n",
       "    </tr>\n",
       "    <tr>\n",
       "      <th>MICROSOFT</th>\n",
       "      <td>2</td>\n",
       "      <td>0</td>\n",
       "      <td>8</td>\n",
       "      <td>0</td>\n",
       "      <td>5</td>\n",
       "    </tr>\n",
       "    <tr>\n",
       "      <th>MSI</th>\n",
       "      <td>3</td>\n",
       "      <td>0</td>\n",
       "      <td>0</td>\n",
       "      <td>0</td>\n",
       "      <td>0</td>\n",
       "    </tr>\n",
       "    <tr>\n",
       "      <th>TOSHIBA</th>\n",
       "      <td>7</td>\n",
       "      <td>4</td>\n",
       "      <td>0</td>\n",
       "      <td>0</td>\n",
       "      <td>0</td>\n",
       "    </tr>\n",
       "  </tbody>\n",
       "</table>\n",
       "</div>"
      ],
      "text/plain": [
       "SCREEN RESOLUTION  FHD  HD  QHD  QHD   UHD\n",
       "BRAND                                     \n",
       "ACER                21   3    0     1    0\n",
       "APPLE                2   1   15     0    3\n",
       "ASUS                33   2    2     0    0\n",
       "DELL                24   0    0     0    0\n",
       "HP                  39   4    0     0    1\n",
       "HUAWEI               6   0    7     0    3\n",
       "LENOVO              43  13    2     0    0\n",
       "MICROSOFT            2   0    8     0    5\n",
       "MSI                  3   0    0     0    0\n",
       "TOSHIBA              7   4    0     0    0"
      ]
     },
     "execution_count": 73,
     "metadata": {},
     "output_type": "execute_result"
    }
   ],
   "source": [
    "pd.crosstab(data['BRAND'], data['SCREEN RESOLUTION'])"
   ]
  },
  {
   "cell_type": "code",
   "execution_count": 74,
   "id": "e8e590df",
   "metadata": {},
   "outputs": [
    {
     "data": {
      "text/html": [
       "<div>\n",
       "<style scoped>\n",
       "    .dataframe tbody tr th:only-of-type {\n",
       "        vertical-align: middle;\n",
       "    }\n",
       "\n",
       "    .dataframe tbody tr th {\n",
       "        vertical-align: top;\n",
       "    }\n",
       "\n",
       "    .dataframe thead th {\n",
       "        text-align: right;\n",
       "    }\n",
       "</style>\n",
       "<table border=\"1\" class=\"dataframe\">\n",
       "  <thead>\n",
       "    <tr style=\"text-align: right;\">\n",
       "      <th>STATE</th>\n",
       "      <th>NEW</th>\n",
       "      <th>USED</th>\n",
       "    </tr>\n",
       "    <tr>\n",
       "      <th>BRAND</th>\n",
       "      <th></th>\n",
       "      <th></th>\n",
       "    </tr>\n",
       "  </thead>\n",
       "  <tbody>\n",
       "    <tr>\n",
       "      <th>ACER</th>\n",
       "      <td>1</td>\n",
       "      <td>24</td>\n",
       "    </tr>\n",
       "    <tr>\n",
       "      <th>APPLE</th>\n",
       "      <td>0</td>\n",
       "      <td>21</td>\n",
       "    </tr>\n",
       "    <tr>\n",
       "      <th>ASUS</th>\n",
       "      <td>9</td>\n",
       "      <td>28</td>\n",
       "    </tr>\n",
       "    <tr>\n",
       "      <th>DELL</th>\n",
       "      <td>1</td>\n",
       "      <td>23</td>\n",
       "    </tr>\n",
       "    <tr>\n",
       "      <th>HP</th>\n",
       "      <td>21</td>\n",
       "      <td>23</td>\n",
       "    </tr>\n",
       "    <tr>\n",
       "      <th>HUAWEI</th>\n",
       "      <td>2</td>\n",
       "      <td>14</td>\n",
       "    </tr>\n",
       "    <tr>\n",
       "      <th>LENOVO</th>\n",
       "      <td>7</td>\n",
       "      <td>51</td>\n",
       "    </tr>\n",
       "    <tr>\n",
       "      <th>MICROSOFT</th>\n",
       "      <td>2</td>\n",
       "      <td>13</td>\n",
       "    </tr>\n",
       "    <tr>\n",
       "      <th>MSI</th>\n",
       "      <td>0</td>\n",
       "      <td>3</td>\n",
       "    </tr>\n",
       "    <tr>\n",
       "      <th>TOSHIBA</th>\n",
       "      <td>3</td>\n",
       "      <td>8</td>\n",
       "    </tr>\n",
       "  </tbody>\n",
       "</table>\n",
       "</div>"
      ],
      "text/plain": [
       "STATE      NEW  USED\n",
       "BRAND               \n",
       "ACER         1    24\n",
       "APPLE        0    21\n",
       "ASUS         9    28\n",
       "DELL         1    23\n",
       "HP          21    23\n",
       "HUAWEI       2    14\n",
       "LENOVO       7    51\n",
       "MICROSOFT    2    13\n",
       "MSI          0     3\n",
       "TOSHIBA      3     8"
      ]
     },
     "execution_count": 74,
     "metadata": {},
     "output_type": "execute_result"
    }
   ],
   "source": [
    "pd.crosstab(data['BRAND'], data['STATE'])"
   ]
  },
  {
   "cell_type": "code",
   "execution_count": 75,
   "id": "13de464b",
   "metadata": {},
   "outputs": [
    {
     "data": {
      "text/html": [
       "<div>\n",
       "<style scoped>\n",
       "    .dataframe tbody tr th:only-of-type {\n",
       "        vertical-align: middle;\n",
       "    }\n",
       "\n",
       "    .dataframe tbody tr th {\n",
       "        vertical-align: top;\n",
       "    }\n",
       "\n",
       "    .dataframe thead th {\n",
       "        text-align: right;\n",
       "    }\n",
       "</style>\n",
       "<table border=\"1\" class=\"dataframe\">\n",
       "  <thead>\n",
       "    <tr style=\"text-align: right;\">\n",
       "      <th>CPU GENERATION</th>\n",
       "      <th>2</th>\n",
       "      <th>3</th>\n",
       "      <th>4</th>\n",
       "      <th>5</th>\n",
       "      <th>6</th>\n",
       "      <th>7</th>\n",
       "      <th>8</th>\n",
       "      <th>9</th>\n",
       "      <th>10</th>\n",
       "      <th>11</th>\n",
       "    </tr>\n",
       "    <tr>\n",
       "      <th>BRAND</th>\n",
       "      <th></th>\n",
       "      <th></th>\n",
       "      <th></th>\n",
       "      <th></th>\n",
       "      <th></th>\n",
       "      <th></th>\n",
       "      <th></th>\n",
       "      <th></th>\n",
       "      <th></th>\n",
       "      <th></th>\n",
       "    </tr>\n",
       "  </thead>\n",
       "  <tbody>\n",
       "    <tr>\n",
       "      <th>ACER</th>\n",
       "      <td>0</td>\n",
       "      <td>5</td>\n",
       "      <td>2</td>\n",
       "      <td>0</td>\n",
       "      <td>0</td>\n",
       "      <td>1</td>\n",
       "      <td>6</td>\n",
       "      <td>2</td>\n",
       "      <td>6</td>\n",
       "      <td>3</td>\n",
       "    </tr>\n",
       "    <tr>\n",
       "      <th>APPLE</th>\n",
       "      <td>0</td>\n",
       "      <td>0</td>\n",
       "      <td>3</td>\n",
       "      <td>1</td>\n",
       "      <td>0</td>\n",
       "      <td>4</td>\n",
       "      <td>9</td>\n",
       "      <td>2</td>\n",
       "      <td>2</td>\n",
       "      <td>0</td>\n",
       "    </tr>\n",
       "    <tr>\n",
       "      <th>ASUS</th>\n",
       "      <td>0</td>\n",
       "      <td>8</td>\n",
       "      <td>2</td>\n",
       "      <td>0</td>\n",
       "      <td>2</td>\n",
       "      <td>6</td>\n",
       "      <td>10</td>\n",
       "      <td>0</td>\n",
       "      <td>6</td>\n",
       "      <td>3</td>\n",
       "    </tr>\n",
       "    <tr>\n",
       "      <th>DELL</th>\n",
       "      <td>0</td>\n",
       "      <td>0</td>\n",
       "      <td>0</td>\n",
       "      <td>0</td>\n",
       "      <td>2</td>\n",
       "      <td>2</td>\n",
       "      <td>11</td>\n",
       "      <td>1</td>\n",
       "      <td>4</td>\n",
       "      <td>4</td>\n",
       "    </tr>\n",
       "    <tr>\n",
       "      <th>HP</th>\n",
       "      <td>0</td>\n",
       "      <td>3</td>\n",
       "      <td>2</td>\n",
       "      <td>1</td>\n",
       "      <td>3</td>\n",
       "      <td>6</td>\n",
       "      <td>12</td>\n",
       "      <td>0</td>\n",
       "      <td>13</td>\n",
       "      <td>4</td>\n",
       "    </tr>\n",
       "    <tr>\n",
       "      <th>HUAWEI</th>\n",
       "      <td>2</td>\n",
       "      <td>6</td>\n",
       "      <td>0</td>\n",
       "      <td>0</td>\n",
       "      <td>0</td>\n",
       "      <td>0</td>\n",
       "      <td>3</td>\n",
       "      <td>0</td>\n",
       "      <td>5</td>\n",
       "      <td>0</td>\n",
       "    </tr>\n",
       "    <tr>\n",
       "      <th>LENOVO</th>\n",
       "      <td>0</td>\n",
       "      <td>5</td>\n",
       "      <td>2</td>\n",
       "      <td>3</td>\n",
       "      <td>9</td>\n",
       "      <td>0</td>\n",
       "      <td>22</td>\n",
       "      <td>1</td>\n",
       "      <td>10</td>\n",
       "      <td>6</td>\n",
       "    </tr>\n",
       "    <tr>\n",
       "      <th>MICROSOFT</th>\n",
       "      <td>0</td>\n",
       "      <td>0</td>\n",
       "      <td>2</td>\n",
       "      <td>0</td>\n",
       "      <td>6</td>\n",
       "      <td>0</td>\n",
       "      <td>5</td>\n",
       "      <td>0</td>\n",
       "      <td>2</td>\n",
       "      <td>0</td>\n",
       "    </tr>\n",
       "    <tr>\n",
       "      <th>MSI</th>\n",
       "      <td>0</td>\n",
       "      <td>0</td>\n",
       "      <td>0</td>\n",
       "      <td>0</td>\n",
       "      <td>0</td>\n",
       "      <td>0</td>\n",
       "      <td>0</td>\n",
       "      <td>2</td>\n",
       "      <td>1</td>\n",
       "      <td>0</td>\n",
       "    </tr>\n",
       "    <tr>\n",
       "      <th>TOSHIBA</th>\n",
       "      <td>0</td>\n",
       "      <td>1</td>\n",
       "      <td>1</td>\n",
       "      <td>0</td>\n",
       "      <td>2</td>\n",
       "      <td>2</td>\n",
       "      <td>4</td>\n",
       "      <td>0</td>\n",
       "      <td>1</td>\n",
       "      <td>0</td>\n",
       "    </tr>\n",
       "  </tbody>\n",
       "</table>\n",
       "</div>"
      ],
      "text/plain": [
       "CPU GENERATION  2   3   4   5   6   7   8   9   10  11\n",
       "BRAND                                                 \n",
       "ACER             0   5   2   0   0   1   6   2   6   3\n",
       "APPLE            0   0   3   1   0   4   9   2   2   0\n",
       "ASUS             0   8   2   0   2   6  10   0   6   3\n",
       "DELL             0   0   0   0   2   2  11   1   4   4\n",
       "HP               0   3   2   1   3   6  12   0  13   4\n",
       "HUAWEI           2   6   0   0   0   0   3   0   5   0\n",
       "LENOVO           0   5   2   3   9   0  22   1  10   6\n",
       "MICROSOFT        0   0   2   0   6   0   5   0   2   0\n",
       "MSI              0   0   0   0   0   0   0   2   1   0\n",
       "TOSHIBA          0   1   1   0   2   2   4   0   1   0"
      ]
     },
     "execution_count": 75,
     "metadata": {},
     "output_type": "execute_result"
    }
   ],
   "source": [
    "pd.crosstab(data['BRAND'], data['CPU GENERATION'])"
   ]
  },
  {
   "cell_type": "code",
   "execution_count": 76,
   "id": "b9908eab",
   "metadata": {},
   "outputs": [
    {
     "data": {
      "text/html": [
       "<div>\n",
       "<style scoped>\n",
       "    .dataframe tbody tr th:only-of-type {\n",
       "        vertical-align: middle;\n",
       "    }\n",
       "\n",
       "    .dataframe tbody tr th {\n",
       "        vertical-align: top;\n",
       "    }\n",
       "\n",
       "    .dataframe thead th {\n",
       "        text-align: right;\n",
       "    }\n",
       "</style>\n",
       "<table border=\"1\" class=\"dataframe\">\n",
       "  <thead>\n",
       "    <tr style=\"text-align: right;\">\n",
       "      <th>SSD SIZE</th>\n",
       "      <th>128</th>\n",
       "      <th>180</th>\n",
       "      <th>240</th>\n",
       "      <th>256</th>\n",
       "      <th>512</th>\n",
       "      <th>750</th>\n",
       "    </tr>\n",
       "    <tr>\n",
       "      <th>BRAND</th>\n",
       "      <th></th>\n",
       "      <th></th>\n",
       "      <th></th>\n",
       "      <th></th>\n",
       "      <th></th>\n",
       "      <th></th>\n",
       "    </tr>\n",
       "  </thead>\n",
       "  <tbody>\n",
       "    <tr>\n",
       "      <th>ACER</th>\n",
       "      <td>3</td>\n",
       "      <td>0</td>\n",
       "      <td>0</td>\n",
       "      <td>7</td>\n",
       "      <td>15</td>\n",
       "      <td>0</td>\n",
       "    </tr>\n",
       "    <tr>\n",
       "      <th>APPLE</th>\n",
       "      <td>3</td>\n",
       "      <td>0</td>\n",
       "      <td>0</td>\n",
       "      <td>15</td>\n",
       "      <td>3</td>\n",
       "      <td>0</td>\n",
       "    </tr>\n",
       "    <tr>\n",
       "      <th>ASUS</th>\n",
       "      <td>6</td>\n",
       "      <td>0</td>\n",
       "      <td>0</td>\n",
       "      <td>10</td>\n",
       "      <td>21</td>\n",
       "      <td>0</td>\n",
       "    </tr>\n",
       "    <tr>\n",
       "      <th>DELL</th>\n",
       "      <td>2</td>\n",
       "      <td>0</td>\n",
       "      <td>0</td>\n",
       "      <td>14</td>\n",
       "      <td>8</td>\n",
       "      <td>0</td>\n",
       "    </tr>\n",
       "    <tr>\n",
       "      <th>HP</th>\n",
       "      <td>2</td>\n",
       "      <td>0</td>\n",
       "      <td>0</td>\n",
       "      <td>33</td>\n",
       "      <td>9</td>\n",
       "      <td>0</td>\n",
       "    </tr>\n",
       "    <tr>\n",
       "      <th>HUAWEI</th>\n",
       "      <td>0</td>\n",
       "      <td>0</td>\n",
       "      <td>0</td>\n",
       "      <td>5</td>\n",
       "      <td>11</td>\n",
       "      <td>0</td>\n",
       "    </tr>\n",
       "    <tr>\n",
       "      <th>LENOVO</th>\n",
       "      <td>2</td>\n",
       "      <td>2</td>\n",
       "      <td>0</td>\n",
       "      <td>32</td>\n",
       "      <td>22</td>\n",
       "      <td>0</td>\n",
       "    </tr>\n",
       "    <tr>\n",
       "      <th>MICROSOFT</th>\n",
       "      <td>3</td>\n",
       "      <td>0</td>\n",
       "      <td>0</td>\n",
       "      <td>8</td>\n",
       "      <td>4</td>\n",
       "      <td>0</td>\n",
       "    </tr>\n",
       "    <tr>\n",
       "      <th>MSI</th>\n",
       "      <td>0</td>\n",
       "      <td>0</td>\n",
       "      <td>0</td>\n",
       "      <td>0</td>\n",
       "      <td>3</td>\n",
       "      <td>0</td>\n",
       "    </tr>\n",
       "    <tr>\n",
       "      <th>TOSHIBA</th>\n",
       "      <td>0</td>\n",
       "      <td>0</td>\n",
       "      <td>1</td>\n",
       "      <td>8</td>\n",
       "      <td>1</td>\n",
       "      <td>1</td>\n",
       "    </tr>\n",
       "  </tbody>\n",
       "</table>\n",
       "</div>"
      ],
      "text/plain": [
       "SSD SIZE   128  180  240  256  512  750\n",
       "BRAND                                  \n",
       "ACER         3    0    0    7   15    0\n",
       "APPLE        3    0    0   15    3    0\n",
       "ASUS         6    0    0   10   21    0\n",
       "DELL         2    0    0   14    8    0\n",
       "HP           2    0    0   33    9    0\n",
       "HUAWEI       0    0    0    5   11    0\n",
       "LENOVO       2    2    0   32   22    0\n",
       "MICROSOFT    3    0    0    8    4    0\n",
       "MSI          0    0    0    0    3    0\n",
       "TOSHIBA      0    0    1    8    1    1"
      ]
     },
     "execution_count": 76,
     "metadata": {},
     "output_type": "execute_result"
    }
   ],
   "source": [
    "pd.crosstab(data['BRAND'], data['SSD SIZE'])"
   ]
  },
  {
   "cell_type": "code",
   "execution_count": 77,
   "id": "f0cf93bf",
   "metadata": {},
   "outputs": [
    {
     "data": {
      "text/html": [
       "<div>\n",
       "<style scoped>\n",
       "    .dataframe tbody tr th:only-of-type {\n",
       "        vertical-align: middle;\n",
       "    }\n",
       "\n",
       "    .dataframe tbody tr th {\n",
       "        vertical-align: top;\n",
       "    }\n",
       "\n",
       "    .dataframe thead th {\n",
       "        text-align: right;\n",
       "    }\n",
       "</style>\n",
       "<table border=\"1\" class=\"dataframe\">\n",
       "  <thead>\n",
       "    <tr style=\"text-align: right;\">\n",
       "      <th>HDD SIZE</th>\n",
       "      <th>0</th>\n",
       "    </tr>\n",
       "    <tr>\n",
       "      <th>BRAND</th>\n",
       "      <th></th>\n",
       "    </tr>\n",
       "  </thead>\n",
       "  <tbody>\n",
       "    <tr>\n",
       "      <th>ACER</th>\n",
       "      <td>25</td>\n",
       "    </tr>\n",
       "    <tr>\n",
       "      <th>APPLE</th>\n",
       "      <td>21</td>\n",
       "    </tr>\n",
       "    <tr>\n",
       "      <th>ASUS</th>\n",
       "      <td>37</td>\n",
       "    </tr>\n",
       "    <tr>\n",
       "      <th>DELL</th>\n",
       "      <td>24</td>\n",
       "    </tr>\n",
       "    <tr>\n",
       "      <th>HP</th>\n",
       "      <td>44</td>\n",
       "    </tr>\n",
       "    <tr>\n",
       "      <th>HUAWEI</th>\n",
       "      <td>16</td>\n",
       "    </tr>\n",
       "    <tr>\n",
       "      <th>LENOVO</th>\n",
       "      <td>58</td>\n",
       "    </tr>\n",
       "    <tr>\n",
       "      <th>MICROSOFT</th>\n",
       "      <td>15</td>\n",
       "    </tr>\n",
       "    <tr>\n",
       "      <th>MSI</th>\n",
       "      <td>3</td>\n",
       "    </tr>\n",
       "    <tr>\n",
       "      <th>TOSHIBA</th>\n",
       "      <td>11</td>\n",
       "    </tr>\n",
       "  </tbody>\n",
       "</table>\n",
       "</div>"
      ],
      "text/plain": [
       "HDD SIZE    0\n",
       "BRAND        \n",
       "ACER       25\n",
       "APPLE      21\n",
       "ASUS       37\n",
       "DELL       24\n",
       "HP         44\n",
       "HUAWEI     16\n",
       "LENOVO     58\n",
       "MICROSOFT  15\n",
       "MSI         3\n",
       "TOSHIBA    11"
      ]
     },
     "execution_count": 77,
     "metadata": {},
     "output_type": "execute_result"
    }
   ],
   "source": [
    "pd.crosstab(data['BRAND'], data['HDD SIZE'])"
   ]
  },
  {
   "cell_type": "code",
   "execution_count": 78,
   "id": "6c7cf6cd",
   "metadata": {},
   "outputs": [
    {
     "data": {
      "text/html": [
       "<div>\n",
       "<style scoped>\n",
       "    .dataframe tbody tr th:only-of-type {\n",
       "        vertical-align: middle;\n",
       "    }\n",
       "\n",
       "    .dataframe tbody tr th {\n",
       "        vertical-align: top;\n",
       "    }\n",
       "\n",
       "    .dataframe thead th {\n",
       "        text-align: right;\n",
       "    }\n",
       "</style>\n",
       "<table border=\"1\" class=\"dataframe\">\n",
       "  <thead>\n",
       "    <tr style=\"text-align: right;\">\n",
       "      <th>SCREEN SIZE</th>\n",
       "      <th>11.6</th>\n",
       "      <th>12.0</th>\n",
       "      <th>12.4</th>\n",
       "      <th>12.5</th>\n",
       "      <th>13.0</th>\n",
       "      <th>13.1</th>\n",
       "      <th>13.3</th>\n",
       "      <th>13.4</th>\n",
       "      <th>13.5</th>\n",
       "      <th>14.0</th>\n",
       "      <th>14.1</th>\n",
       "      <th>15.0</th>\n",
       "      <th>15.1</th>\n",
       "      <th>15.4</th>\n",
       "      <th>15.5</th>\n",
       "      <th>15.6</th>\n",
       "      <th>17.0</th>\n",
       "      <th>17.3</th>\n",
       "    </tr>\n",
       "    <tr>\n",
       "      <th>BRAND</th>\n",
       "      <th></th>\n",
       "      <th></th>\n",
       "      <th></th>\n",
       "      <th></th>\n",
       "      <th></th>\n",
       "      <th></th>\n",
       "      <th></th>\n",
       "      <th></th>\n",
       "      <th></th>\n",
       "      <th></th>\n",
       "      <th></th>\n",
       "      <th></th>\n",
       "      <th></th>\n",
       "      <th></th>\n",
       "      <th></th>\n",
       "      <th></th>\n",
       "      <th></th>\n",
       "      <th></th>\n",
       "    </tr>\n",
       "  </thead>\n",
       "  <tbody>\n",
       "    <tr>\n",
       "      <th>ACER</th>\n",
       "      <td>0</td>\n",
       "      <td>0</td>\n",
       "      <td>0</td>\n",
       "      <td>0</td>\n",
       "      <td>0</td>\n",
       "      <td>1</td>\n",
       "      <td>1</td>\n",
       "      <td>0</td>\n",
       "      <td>0</td>\n",
       "      <td>1</td>\n",
       "      <td>9</td>\n",
       "      <td>3</td>\n",
       "      <td>0</td>\n",
       "      <td>0</td>\n",
       "      <td>0</td>\n",
       "      <td>10</td>\n",
       "      <td>0</td>\n",
       "      <td>0</td>\n",
       "    </tr>\n",
       "    <tr>\n",
       "      <th>APPLE</th>\n",
       "      <td>0</td>\n",
       "      <td>0</td>\n",
       "      <td>0</td>\n",
       "      <td>0</td>\n",
       "      <td>1</td>\n",
       "      <td>0</td>\n",
       "      <td>15</td>\n",
       "      <td>0</td>\n",
       "      <td>0</td>\n",
       "      <td>1</td>\n",
       "      <td>0</td>\n",
       "      <td>0</td>\n",
       "      <td>0</td>\n",
       "      <td>4</td>\n",
       "      <td>0</td>\n",
       "      <td>0</td>\n",
       "      <td>0</td>\n",
       "      <td>0</td>\n",
       "    </tr>\n",
       "    <tr>\n",
       "      <th>ASUS</th>\n",
       "      <td>0</td>\n",
       "      <td>0</td>\n",
       "      <td>0</td>\n",
       "      <td>0</td>\n",
       "      <td>2</td>\n",
       "      <td>0</td>\n",
       "      <td>2</td>\n",
       "      <td>0</td>\n",
       "      <td>0</td>\n",
       "      <td>4</td>\n",
       "      <td>16</td>\n",
       "      <td>3</td>\n",
       "      <td>1</td>\n",
       "      <td>0</td>\n",
       "      <td>0</td>\n",
       "      <td>5</td>\n",
       "      <td>2</td>\n",
       "      <td>2</td>\n",
       "    </tr>\n",
       "    <tr>\n",
       "      <th>DELL</th>\n",
       "      <td>0</td>\n",
       "      <td>0</td>\n",
       "      <td>0</td>\n",
       "      <td>1</td>\n",
       "      <td>1</td>\n",
       "      <td>0</td>\n",
       "      <td>6</td>\n",
       "      <td>0</td>\n",
       "      <td>0</td>\n",
       "      <td>1</td>\n",
       "      <td>8</td>\n",
       "      <td>0</td>\n",
       "      <td>0</td>\n",
       "      <td>0</td>\n",
       "      <td>2</td>\n",
       "      <td>5</td>\n",
       "      <td>0</td>\n",
       "      <td>0</td>\n",
       "    </tr>\n",
       "    <tr>\n",
       "      <th>HP</th>\n",
       "      <td>0</td>\n",
       "      <td>0</td>\n",
       "      <td>0</td>\n",
       "      <td>0</td>\n",
       "      <td>0</td>\n",
       "      <td>0</td>\n",
       "      <td>13</td>\n",
       "      <td>0</td>\n",
       "      <td>0</td>\n",
       "      <td>16</td>\n",
       "      <td>1</td>\n",
       "      <td>0</td>\n",
       "      <td>0</td>\n",
       "      <td>0</td>\n",
       "      <td>0</td>\n",
       "      <td>14</td>\n",
       "      <td>0</td>\n",
       "      <td>0</td>\n",
       "    </tr>\n",
       "    <tr>\n",
       "      <th>HUAWEI</th>\n",
       "      <td>0</td>\n",
       "      <td>0</td>\n",
       "      <td>0</td>\n",
       "      <td>0</td>\n",
       "      <td>3</td>\n",
       "      <td>0</td>\n",
       "      <td>7</td>\n",
       "      <td>1</td>\n",
       "      <td>0</td>\n",
       "      <td>4</td>\n",
       "      <td>0</td>\n",
       "      <td>0</td>\n",
       "      <td>0</td>\n",
       "      <td>0</td>\n",
       "      <td>0</td>\n",
       "      <td>1</td>\n",
       "      <td>0</td>\n",
       "      <td>0</td>\n",
       "    </tr>\n",
       "    <tr>\n",
       "      <th>LENOVO</th>\n",
       "      <td>0</td>\n",
       "      <td>0</td>\n",
       "      <td>0</td>\n",
       "      <td>8</td>\n",
       "      <td>2</td>\n",
       "      <td>0</td>\n",
       "      <td>12</td>\n",
       "      <td>0</td>\n",
       "      <td>0</td>\n",
       "      <td>12</td>\n",
       "      <td>16</td>\n",
       "      <td>0</td>\n",
       "      <td>0</td>\n",
       "      <td>0</td>\n",
       "      <td>0</td>\n",
       "      <td>8</td>\n",
       "      <td>0</td>\n",
       "      <td>0</td>\n",
       "    </tr>\n",
       "    <tr>\n",
       "      <th>MICROSOFT</th>\n",
       "      <td>3</td>\n",
       "      <td>1</td>\n",
       "      <td>1</td>\n",
       "      <td>5</td>\n",
       "      <td>0</td>\n",
       "      <td>0</td>\n",
       "      <td>5</td>\n",
       "      <td>0</td>\n",
       "      <td>0</td>\n",
       "      <td>0</td>\n",
       "      <td>0</td>\n",
       "      <td>0</td>\n",
       "      <td>0</td>\n",
       "      <td>0</td>\n",
       "      <td>0</td>\n",
       "      <td>0</td>\n",
       "      <td>0</td>\n",
       "      <td>0</td>\n",
       "    </tr>\n",
       "    <tr>\n",
       "      <th>MSI</th>\n",
       "      <td>0</td>\n",
       "      <td>0</td>\n",
       "      <td>0</td>\n",
       "      <td>0</td>\n",
       "      <td>0</td>\n",
       "      <td>0</td>\n",
       "      <td>0</td>\n",
       "      <td>0</td>\n",
       "      <td>0</td>\n",
       "      <td>0</td>\n",
       "      <td>0</td>\n",
       "      <td>0</td>\n",
       "      <td>0</td>\n",
       "      <td>0</td>\n",
       "      <td>0</td>\n",
       "      <td>2</td>\n",
       "      <td>0</td>\n",
       "      <td>1</td>\n",
       "    </tr>\n",
       "    <tr>\n",
       "      <th>TOSHIBA</th>\n",
       "      <td>0</td>\n",
       "      <td>0</td>\n",
       "      <td>0</td>\n",
       "      <td>0</td>\n",
       "      <td>1</td>\n",
       "      <td>0</td>\n",
       "      <td>4</td>\n",
       "      <td>0</td>\n",
       "      <td>1</td>\n",
       "      <td>0</td>\n",
       "      <td>0</td>\n",
       "      <td>0</td>\n",
       "      <td>0</td>\n",
       "      <td>0</td>\n",
       "      <td>0</td>\n",
       "      <td>4</td>\n",
       "      <td>1</td>\n",
       "      <td>0</td>\n",
       "    </tr>\n",
       "  </tbody>\n",
       "</table>\n",
       "</div>"
      ],
      "text/plain": [
       "SCREEN SIZE  11.6  12.0  12.4  12.5  13.0  13.1  13.3  13.4  13.5  14.0  14.1  \\\n",
       "BRAND                                                                           \n",
       "ACER            0     0     0     0     0     1     1     0     0     1     9   \n",
       "APPLE           0     0     0     0     1     0    15     0     0     1     0   \n",
       "ASUS            0     0     0     0     2     0     2     0     0     4    16   \n",
       "DELL            0     0     0     1     1     0     6     0     0     1     8   \n",
       "HP              0     0     0     0     0     0    13     0     0    16     1   \n",
       "HUAWEI          0     0     0     0     3     0     7     1     0     4     0   \n",
       "LENOVO          0     0     0     8     2     0    12     0     0    12    16   \n",
       "MICROSOFT       3     1     1     5     0     0     5     0     0     0     0   \n",
       "MSI             0     0     0     0     0     0     0     0     0     0     0   \n",
       "TOSHIBA         0     0     0     0     1     0     4     0     1     0     0   \n",
       "\n",
       "SCREEN SIZE  15.0  15.1  15.4  15.5  15.6  17.0  17.3  \n",
       "BRAND                                                  \n",
       "ACER            3     0     0     0    10     0     0  \n",
       "APPLE           0     0     4     0     0     0     0  \n",
       "ASUS            3     1     0     0     5     2     2  \n",
       "DELL            0     0     0     2     5     0     0  \n",
       "HP              0     0     0     0    14     0     0  \n",
       "HUAWEI          0     0     0     0     1     0     0  \n",
       "LENOVO          0     0     0     0     8     0     0  \n",
       "MICROSOFT       0     0     0     0     0     0     0  \n",
       "MSI             0     0     0     0     2     0     1  \n",
       "TOSHIBA         0     0     0     0     4     1     0  "
      ]
     },
     "execution_count": 78,
     "metadata": {},
     "output_type": "execute_result"
    }
   ],
   "source": [
    "pd.crosstab(data['BRAND'], data['SCREEN SIZE'])"
   ]
  },
  {
   "cell_type": "code",
   "execution_count": 79,
   "id": "0ea795bd",
   "metadata": {},
   "outputs": [
    {
     "data": {
      "text/html": [
       "<div>\n",
       "<style scoped>\n",
       "    .dataframe tbody tr th:only-of-type {\n",
       "        vertical-align: middle;\n",
       "    }\n",
       "\n",
       "    .dataframe tbody tr th {\n",
       "        vertical-align: top;\n",
       "    }\n",
       "\n",
       "    .dataframe thead th {\n",
       "        text-align: right;\n",
       "    }\n",
       "</style>\n",
       "<table border=\"1\" class=\"dataframe\">\n",
       "  <thead>\n",
       "    <tr style=\"text-align: right;\">\n",
       "      <th></th>\n",
       "      <th>BRAND</th>\n",
       "      <th>ACER</th>\n",
       "      <th>APPLE</th>\n",
       "      <th>ASUS</th>\n",
       "      <th>DELL</th>\n",
       "      <th>HP</th>\n",
       "      <th>HUAWEI</th>\n",
       "      <th>LENOVO</th>\n",
       "      <th>MICROSOFT</th>\n",
       "      <th>MSI</th>\n",
       "      <th>TOSHIBA</th>\n",
       "    </tr>\n",
       "    <tr>\n",
       "      <th>STATE</th>\n",
       "      <th>CPU BRAND</th>\n",
       "      <th></th>\n",
       "      <th></th>\n",
       "      <th></th>\n",
       "      <th></th>\n",
       "      <th></th>\n",
       "      <th></th>\n",
       "      <th></th>\n",
       "      <th></th>\n",
       "      <th></th>\n",
       "      <th></th>\n",
       "    </tr>\n",
       "  </thead>\n",
       "  <tbody>\n",
       "    <tr>\n",
       "      <th rowspan=\"2\" valign=\"top\">NEW</th>\n",
       "      <th>AMD</th>\n",
       "      <td>0</td>\n",
       "      <td>0</td>\n",
       "      <td>2</td>\n",
       "      <td>0</td>\n",
       "      <td>3</td>\n",
       "      <td>1</td>\n",
       "      <td>1</td>\n",
       "      <td>0</td>\n",
       "      <td>0</td>\n",
       "      <td>0</td>\n",
       "    </tr>\n",
       "    <tr>\n",
       "      <th>Intel</th>\n",
       "      <td>1</td>\n",
       "      <td>0</td>\n",
       "      <td>7</td>\n",
       "      <td>1</td>\n",
       "      <td>18</td>\n",
       "      <td>1</td>\n",
       "      <td>6</td>\n",
       "      <td>2</td>\n",
       "      <td>0</td>\n",
       "      <td>3</td>\n",
       "    </tr>\n",
       "    <tr>\n",
       "      <th rowspan=\"3\" valign=\"top\">USED</th>\n",
       "      <th>AMD</th>\n",
       "      <td>7</td>\n",
       "      <td>0</td>\n",
       "      <td>8</td>\n",
       "      <td>0</td>\n",
       "      <td>1</td>\n",
       "      <td>7</td>\n",
       "      <td>7</td>\n",
       "      <td>0</td>\n",
       "      <td>0</td>\n",
       "      <td>0</td>\n",
       "    </tr>\n",
       "    <tr>\n",
       "      <th>Intel</th>\n",
       "      <td>17</td>\n",
       "      <td>21</td>\n",
       "      <td>20</td>\n",
       "      <td>23</td>\n",
       "      <td>22</td>\n",
       "      <td>6</td>\n",
       "      <td>44</td>\n",
       "      <td>13</td>\n",
       "      <td>3</td>\n",
       "      <td>8</td>\n",
       "    </tr>\n",
       "    <tr>\n",
       "      <th>intel</th>\n",
       "      <td>0</td>\n",
       "      <td>0</td>\n",
       "      <td>0</td>\n",
       "      <td>0</td>\n",
       "      <td>0</td>\n",
       "      <td>1</td>\n",
       "      <td>0</td>\n",
       "      <td>0</td>\n",
       "      <td>0</td>\n",
       "      <td>0</td>\n",
       "    </tr>\n",
       "  </tbody>\n",
       "</table>\n",
       "</div>"
      ],
      "text/plain": [
       "BRAND            ACER  APPLE  ASUS  DELL  HP  HUAWEI  LENOVO  MICROSOFT  MSI  \\\n",
       "STATE CPU BRAND                                                                \n",
       "NEW   AMD           0      0     2     0   3       1       1          0    0   \n",
       "      Intel         1      0     7     1  18       1       6          2    0   \n",
       "USED  AMD           7      0     8     0   1       7       7          0    0   \n",
       "      Intel        17     21    20    23  22       6      44         13    3   \n",
       "      intel         0      0     0     0   0       1       0          0    0   \n",
       "\n",
       "BRAND            TOSHIBA  \n",
       "STATE CPU BRAND           \n",
       "NEW   AMD              0  \n",
       "      Intel            3  \n",
       "USED  AMD              0  \n",
       "      Intel            8  \n",
       "      intel            0  "
      ]
     },
     "execution_count": 79,
     "metadata": {},
     "output_type": "execute_result"
    }
   ],
   "source": [
    "pd.crosstab([data['STATE'], data['CPU BRAND']], data['BRAND'])"
   ]
  },
  {
   "cell_type": "code",
   "execution_count": 80,
   "id": "bc4261d8",
   "metadata": {},
   "outputs": [
    {
     "data": {
      "text/html": [
       "<div>\n",
       "<style scoped>\n",
       "    .dataframe tbody tr th:only-of-type {\n",
       "        vertical-align: middle;\n",
       "    }\n",
       "\n",
       "    .dataframe tbody tr th {\n",
       "        vertical-align: top;\n",
       "    }\n",
       "\n",
       "    .dataframe thead th {\n",
       "        text-align: right;\n",
       "    }\n",
       "</style>\n",
       "<table border=\"1\" class=\"dataframe\">\n",
       "  <thead>\n",
       "    <tr style=\"text-align: right;\">\n",
       "      <th>RAM(DDR) TYPE</th>\n",
       "      <th>4</th>\n",
       "    </tr>\n",
       "    <tr>\n",
       "      <th>RAM SIZE</th>\n",
       "      <th></th>\n",
       "    </tr>\n",
       "  </thead>\n",
       "  <tbody>\n",
       "    <tr>\n",
       "      <th>4</th>\n",
       "      <td>15</td>\n",
       "    </tr>\n",
       "    <tr>\n",
       "      <th>8</th>\n",
       "      <td>172</td>\n",
       "    </tr>\n",
       "    <tr>\n",
       "      <th>12</th>\n",
       "      <td>2</td>\n",
       "    </tr>\n",
       "    <tr>\n",
       "      <th>16</th>\n",
       "      <td>65</td>\n",
       "    </tr>\n",
       "  </tbody>\n",
       "</table>\n",
       "</div>"
      ],
      "text/plain": [
       "RAM(DDR) TYPE    4\n",
       "RAM SIZE          \n",
       "4               15\n",
       "8              172\n",
       "12               2\n",
       "16              65"
      ]
     },
     "execution_count": 80,
     "metadata": {},
     "output_type": "execute_result"
    }
   ],
   "source": [
    "pd.crosstab(data['RAM SIZE'], data['RAM(DDR) TYPE'])"
   ]
  },
  {
   "cell_type": "code",
   "execution_count": 81,
   "id": "4f5f9d69",
   "metadata": {},
   "outputs": [
    {
     "data": {
      "text/html": [
       "<div>\n",
       "<style scoped>\n",
       "    .dataframe tbody tr th:only-of-type {\n",
       "        vertical-align: middle;\n",
       "    }\n",
       "\n",
       "    .dataframe tbody tr th {\n",
       "        vertical-align: top;\n",
       "    }\n",
       "\n",
       "    .dataframe thead th {\n",
       "        text-align: right;\n",
       "    }\n",
       "</style>\n",
       "<table border=\"1\" class=\"dataframe\">\n",
       "  <thead>\n",
       "    <tr style=\"text-align: right;\">\n",
       "      <th>RAM(DDR) TYPE</th>\n",
       "      <th>4</th>\n",
       "    </tr>\n",
       "    <tr>\n",
       "      <th>CPU CORE</th>\n",
       "      <th></th>\n",
       "    </tr>\n",
       "  </thead>\n",
       "  <tbody>\n",
       "    <tr>\n",
       "      <th>Core i3</th>\n",
       "      <td>26</td>\n",
       "    </tr>\n",
       "    <tr>\n",
       "      <th>Core i5</th>\n",
       "      <td>127</td>\n",
       "    </tr>\n",
       "    <tr>\n",
       "      <th>Core i7</th>\n",
       "      <td>64</td>\n",
       "    </tr>\n",
       "    <tr>\n",
       "      <th>Ryzen 3</th>\n",
       "      <td>2</td>\n",
       "    </tr>\n",
       "    <tr>\n",
       "      <th>Ryzen 5</th>\n",
       "      <td>26</td>\n",
       "    </tr>\n",
       "    <tr>\n",
       "      <th>Ryzen 7</th>\n",
       "      <td>9</td>\n",
       "    </tr>\n",
       "  </tbody>\n",
       "</table>\n",
       "</div>"
      ],
      "text/plain": [
       "RAM(DDR) TYPE    4\n",
       "CPU CORE          \n",
       "Core i3         26\n",
       "Core i5        127\n",
       "Core i7         64\n",
       "Ryzen 3          2\n",
       "Ryzen 5         26\n",
       "Ryzen 7          9"
      ]
     },
     "execution_count": 81,
     "metadata": {},
     "output_type": "execute_result"
    }
   ],
   "source": [
    "pd.crosstab(data['CPU CORE'], data['RAM(DDR) TYPE'])"
   ]
  },
  {
   "cell_type": "code",
   "execution_count": 82,
   "id": "13b95aa0",
   "metadata": {},
   "outputs": [
    {
     "data": {
      "text/html": [
       "<div>\n",
       "<style scoped>\n",
       "    .dataframe tbody tr th:only-of-type {\n",
       "        vertical-align: middle;\n",
       "    }\n",
       "\n",
       "    .dataframe tbody tr th {\n",
       "        vertical-align: top;\n",
       "    }\n",
       "\n",
       "    .dataframe thead th {\n",
       "        text-align: right;\n",
       "    }\n",
       "</style>\n",
       "<table border=\"1\" class=\"dataframe\">\n",
       "  <thead>\n",
       "    <tr style=\"text-align: right;\">\n",
       "      <th>RAM SIZE</th>\n",
       "      <th>4</th>\n",
       "      <th>8</th>\n",
       "      <th>12</th>\n",
       "      <th>16</th>\n",
       "    </tr>\n",
       "    <tr>\n",
       "      <th>STATE</th>\n",
       "      <th></th>\n",
       "      <th></th>\n",
       "      <th></th>\n",
       "      <th></th>\n",
       "    </tr>\n",
       "  </thead>\n",
       "  <tbody>\n",
       "    <tr>\n",
       "      <th>NEW</th>\n",
       "      <td>2</td>\n",
       "      <td>35</td>\n",
       "      <td>0</td>\n",
       "      <td>9</td>\n",
       "    </tr>\n",
       "    <tr>\n",
       "      <th>USED</th>\n",
       "      <td>13</td>\n",
       "      <td>137</td>\n",
       "      <td>2</td>\n",
       "      <td>56</td>\n",
       "    </tr>\n",
       "  </tbody>\n",
       "</table>\n",
       "</div>"
      ],
      "text/plain": [
       "RAM SIZE  4    8   12  16\n",
       "STATE                    \n",
       "NEW        2   35   0   9\n",
       "USED      13  137   2  56"
      ]
     },
     "execution_count": 82,
     "metadata": {},
     "output_type": "execute_result"
    }
   ],
   "source": [
    "pd.crosstab(data['STATE'], data['RAM SIZE'])"
   ]
  },
  {
   "cell_type": "code",
   "execution_count": 83,
   "id": "c5e92ae1",
   "metadata": {},
   "outputs": [
    {
     "data": {
      "text/html": [
       "<div>\n",
       "<style scoped>\n",
       "    .dataframe tbody tr th:only-of-type {\n",
       "        vertical-align: middle;\n",
       "    }\n",
       "\n",
       "    .dataframe tbody tr th {\n",
       "        vertical-align: top;\n",
       "    }\n",
       "\n",
       "    .dataframe thead tr th {\n",
       "        text-align: left;\n",
       "    }\n",
       "\n",
       "    .dataframe thead tr:last-of-type th {\n",
       "        text-align: right;\n",
       "    }\n",
       "</style>\n",
       "<table border=\"1\" class=\"dataframe\">\n",
       "  <thead>\n",
       "    <tr>\n",
       "      <th>RAM(DDR) TYPE</th>\n",
       "      <th colspan=\"4\" halign=\"left\">4</th>\n",
       "    </tr>\n",
       "    <tr>\n",
       "      <th>RAM SIZE</th>\n",
       "      <th>4</th>\n",
       "      <th>8</th>\n",
       "      <th>12</th>\n",
       "      <th>16</th>\n",
       "    </tr>\n",
       "    <tr>\n",
       "      <th>BRAND</th>\n",
       "      <th></th>\n",
       "      <th></th>\n",
       "      <th></th>\n",
       "      <th></th>\n",
       "    </tr>\n",
       "  </thead>\n",
       "  <tbody>\n",
       "    <tr>\n",
       "      <th>ACER</th>\n",
       "      <td>2</td>\n",
       "      <td>14</td>\n",
       "      <td>2</td>\n",
       "      <td>7</td>\n",
       "    </tr>\n",
       "    <tr>\n",
       "      <th>APPLE</th>\n",
       "      <td>1</td>\n",
       "      <td>14</td>\n",
       "      <td>0</td>\n",
       "      <td>6</td>\n",
       "    </tr>\n",
       "    <tr>\n",
       "      <th>ASUS</th>\n",
       "      <td>6</td>\n",
       "      <td>27</td>\n",
       "      <td>0</td>\n",
       "      <td>4</td>\n",
       "    </tr>\n",
       "    <tr>\n",
       "      <th>DELL</th>\n",
       "      <td>0</td>\n",
       "      <td>11</td>\n",
       "      <td>0</td>\n",
       "      <td>13</td>\n",
       "    </tr>\n",
       "    <tr>\n",
       "      <th>HP</th>\n",
       "      <td>4</td>\n",
       "      <td>31</td>\n",
       "      <td>0</td>\n",
       "      <td>9</td>\n",
       "    </tr>\n",
       "    <tr>\n",
       "      <th>HUAWEI</th>\n",
       "      <td>0</td>\n",
       "      <td>12</td>\n",
       "      <td>0</td>\n",
       "      <td>4</td>\n",
       "    </tr>\n",
       "    <tr>\n",
       "      <th>LENOVO</th>\n",
       "      <td>1</td>\n",
       "      <td>42</td>\n",
       "      <td>0</td>\n",
       "      <td>15</td>\n",
       "    </tr>\n",
       "    <tr>\n",
       "      <th>MICROSOFT</th>\n",
       "      <td>1</td>\n",
       "      <td>9</td>\n",
       "      <td>0</td>\n",
       "      <td>5</td>\n",
       "    </tr>\n",
       "    <tr>\n",
       "      <th>MSI</th>\n",
       "      <td>0</td>\n",
       "      <td>2</td>\n",
       "      <td>0</td>\n",
       "      <td>1</td>\n",
       "    </tr>\n",
       "    <tr>\n",
       "      <th>TOSHIBA</th>\n",
       "      <td>0</td>\n",
       "      <td>10</td>\n",
       "      <td>0</td>\n",
       "      <td>1</td>\n",
       "    </tr>\n",
       "  </tbody>\n",
       "</table>\n",
       "</div>"
      ],
      "text/plain": [
       "RAM(DDR) TYPE  4           \n",
       "RAM SIZE      4   8  12  16\n",
       "BRAND                      \n",
       "ACER           2  14  2   7\n",
       "APPLE          1  14  0   6\n",
       "ASUS           6  27  0   4\n",
       "DELL           0  11  0  13\n",
       "HP             4  31  0   9\n",
       "HUAWEI         0  12  0   4\n",
       "LENOVO         1  42  0  15\n",
       "MICROSOFT      1   9  0   5\n",
       "MSI            0   2  0   1\n",
       "TOSHIBA        0  10  0   1"
      ]
     },
     "execution_count": 83,
     "metadata": {},
     "output_type": "execute_result"
    }
   ],
   "source": [
    "pd.crosstab(data['BRAND'], [data['RAM(DDR) TYPE'], data['RAM SIZE']])"
   ]
  },
  {
   "cell_type": "code",
   "execution_count": 84,
   "id": "631631bc",
   "metadata": {},
   "outputs": [
    {
     "data": {
      "text/html": [
       "<div>\n",
       "<style scoped>\n",
       "    .dataframe tbody tr th:only-of-type {\n",
       "        vertical-align: middle;\n",
       "    }\n",
       "\n",
       "    .dataframe tbody tr th {\n",
       "        vertical-align: top;\n",
       "    }\n",
       "\n",
       "    .dataframe thead tr th {\n",
       "        text-align: left;\n",
       "    }\n",
       "\n",
       "    .dataframe thead tr:last-of-type th {\n",
       "        text-align: right;\n",
       "    }\n",
       "</style>\n",
       "<table border=\"1\" class=\"dataframe\">\n",
       "  <thead>\n",
       "    <tr>\n",
       "      <th>STATE</th>\n",
       "      <th colspan=\"2\" halign=\"left\">NEW</th>\n",
       "      <th colspan=\"3\" halign=\"left\">USED</th>\n",
       "    </tr>\n",
       "    <tr>\n",
       "      <th>CPU BRAND</th>\n",
       "      <th>AMD</th>\n",
       "      <th>Intel</th>\n",
       "      <th>AMD</th>\n",
       "      <th>Intel</th>\n",
       "      <th>intel</th>\n",
       "    </tr>\n",
       "    <tr>\n",
       "      <th>BRAND</th>\n",
       "      <th></th>\n",
       "      <th></th>\n",
       "      <th></th>\n",
       "      <th></th>\n",
       "      <th></th>\n",
       "    </tr>\n",
       "  </thead>\n",
       "  <tbody>\n",
       "    <tr>\n",
       "      <th>ACER</th>\n",
       "      <td>0</td>\n",
       "      <td>1</td>\n",
       "      <td>7</td>\n",
       "      <td>17</td>\n",
       "      <td>0</td>\n",
       "    </tr>\n",
       "    <tr>\n",
       "      <th>APPLE</th>\n",
       "      <td>0</td>\n",
       "      <td>0</td>\n",
       "      <td>0</td>\n",
       "      <td>21</td>\n",
       "      <td>0</td>\n",
       "    </tr>\n",
       "    <tr>\n",
       "      <th>ASUS</th>\n",
       "      <td>2</td>\n",
       "      <td>7</td>\n",
       "      <td>8</td>\n",
       "      <td>20</td>\n",
       "      <td>0</td>\n",
       "    </tr>\n",
       "    <tr>\n",
       "      <th>DELL</th>\n",
       "      <td>0</td>\n",
       "      <td>1</td>\n",
       "      <td>0</td>\n",
       "      <td>23</td>\n",
       "      <td>0</td>\n",
       "    </tr>\n",
       "    <tr>\n",
       "      <th>HP</th>\n",
       "      <td>3</td>\n",
       "      <td>18</td>\n",
       "      <td>1</td>\n",
       "      <td>22</td>\n",
       "      <td>0</td>\n",
       "    </tr>\n",
       "    <tr>\n",
       "      <th>HUAWEI</th>\n",
       "      <td>1</td>\n",
       "      <td>1</td>\n",
       "      <td>7</td>\n",
       "      <td>6</td>\n",
       "      <td>1</td>\n",
       "    </tr>\n",
       "    <tr>\n",
       "      <th>LENOVO</th>\n",
       "      <td>1</td>\n",
       "      <td>6</td>\n",
       "      <td>7</td>\n",
       "      <td>44</td>\n",
       "      <td>0</td>\n",
       "    </tr>\n",
       "    <tr>\n",
       "      <th>MICROSOFT</th>\n",
       "      <td>0</td>\n",
       "      <td>2</td>\n",
       "      <td>0</td>\n",
       "      <td>13</td>\n",
       "      <td>0</td>\n",
       "    </tr>\n",
       "    <tr>\n",
       "      <th>MSI</th>\n",
       "      <td>0</td>\n",
       "      <td>0</td>\n",
       "      <td>0</td>\n",
       "      <td>3</td>\n",
       "      <td>0</td>\n",
       "    </tr>\n",
       "    <tr>\n",
       "      <th>TOSHIBA</th>\n",
       "      <td>0</td>\n",
       "      <td>3</td>\n",
       "      <td>0</td>\n",
       "      <td>8</td>\n",
       "      <td>0</td>\n",
       "    </tr>\n",
       "  </tbody>\n",
       "</table>\n",
       "</div>"
      ],
      "text/plain": [
       "STATE     NEW       USED            \n",
       "CPU BRAND AMD Intel  AMD Intel intel\n",
       "BRAND                               \n",
       "ACER        0     1    7    17     0\n",
       "APPLE       0     0    0    21     0\n",
       "ASUS        2     7    8    20     0\n",
       "DELL        0     1    0    23     0\n",
       "HP          3    18    1    22     0\n",
       "HUAWEI      1     1    7     6     1\n",
       "LENOVO      1     6    7    44     0\n",
       "MICROSOFT   0     2    0    13     0\n",
       "MSI         0     0    0     3     0\n",
       "TOSHIBA     0     3    0     8     0"
      ]
     },
     "execution_count": 84,
     "metadata": {},
     "output_type": "execute_result"
    }
   ],
   "source": [
    "pd.crosstab(data['BRAND'], [data['STATE'], data['CPU BRAND']])"
   ]
  },
  {
   "cell_type": "code",
   "execution_count": 85,
   "id": "bc8e20e4",
   "metadata": {},
   "outputs": [
    {
     "data": {
      "text/html": [
       "<div>\n",
       "<style scoped>\n",
       "    .dataframe tbody tr th:only-of-type {\n",
       "        vertical-align: middle;\n",
       "    }\n",
       "\n",
       "    .dataframe tbody tr th {\n",
       "        vertical-align: top;\n",
       "    }\n",
       "\n",
       "    .dataframe thead tr th {\n",
       "        text-align: left;\n",
       "    }\n",
       "\n",
       "    .dataframe thead tr:last-of-type th {\n",
       "        text-align: right;\n",
       "    }\n",
       "</style>\n",
       "<table border=\"1\" class=\"dataframe\">\n",
       "  <thead>\n",
       "    <tr>\n",
       "      <th>STATE</th>\n",
       "      <th colspan=\"4\" halign=\"left\">NEW</th>\n",
       "      <th colspan=\"5\" halign=\"left\">USED</th>\n",
       "    </tr>\n",
       "    <tr>\n",
       "      <th>SSD SIZE</th>\n",
       "      <th>128</th>\n",
       "      <th>256</th>\n",
       "      <th>512</th>\n",
       "      <th>750</th>\n",
       "      <th>128</th>\n",
       "      <th>180</th>\n",
       "      <th>240</th>\n",
       "      <th>256</th>\n",
       "      <th>512</th>\n",
       "    </tr>\n",
       "    <tr>\n",
       "      <th>BRAND</th>\n",
       "      <th></th>\n",
       "      <th></th>\n",
       "      <th></th>\n",
       "      <th></th>\n",
       "      <th></th>\n",
       "      <th></th>\n",
       "      <th></th>\n",
       "      <th></th>\n",
       "      <th></th>\n",
       "    </tr>\n",
       "  </thead>\n",
       "  <tbody>\n",
       "    <tr>\n",
       "      <th>ACER</th>\n",
       "      <td>0</td>\n",
       "      <td>0</td>\n",
       "      <td>1</td>\n",
       "      <td>0</td>\n",
       "      <td>3</td>\n",
       "      <td>0</td>\n",
       "      <td>0</td>\n",
       "      <td>7</td>\n",
       "      <td>14</td>\n",
       "    </tr>\n",
       "    <tr>\n",
       "      <th>APPLE</th>\n",
       "      <td>0</td>\n",
       "      <td>0</td>\n",
       "      <td>0</td>\n",
       "      <td>0</td>\n",
       "      <td>3</td>\n",
       "      <td>0</td>\n",
       "      <td>0</td>\n",
       "      <td>15</td>\n",
       "      <td>3</td>\n",
       "    </tr>\n",
       "    <tr>\n",
       "      <th>ASUS</th>\n",
       "      <td>0</td>\n",
       "      <td>4</td>\n",
       "      <td>5</td>\n",
       "      <td>0</td>\n",
       "      <td>6</td>\n",
       "      <td>0</td>\n",
       "      <td>0</td>\n",
       "      <td>6</td>\n",
       "      <td>16</td>\n",
       "    </tr>\n",
       "    <tr>\n",
       "      <th>DELL</th>\n",
       "      <td>0</td>\n",
       "      <td>0</td>\n",
       "      <td>1</td>\n",
       "      <td>0</td>\n",
       "      <td>2</td>\n",
       "      <td>0</td>\n",
       "      <td>0</td>\n",
       "      <td>14</td>\n",
       "      <td>7</td>\n",
       "    </tr>\n",
       "    <tr>\n",
       "      <th>HP</th>\n",
       "      <td>0</td>\n",
       "      <td>14</td>\n",
       "      <td>7</td>\n",
       "      <td>0</td>\n",
       "      <td>2</td>\n",
       "      <td>0</td>\n",
       "      <td>0</td>\n",
       "      <td>19</td>\n",
       "      <td>2</td>\n",
       "    </tr>\n",
       "    <tr>\n",
       "      <th>HUAWEI</th>\n",
       "      <td>0</td>\n",
       "      <td>1</td>\n",
       "      <td>1</td>\n",
       "      <td>0</td>\n",
       "      <td>0</td>\n",
       "      <td>0</td>\n",
       "      <td>0</td>\n",
       "      <td>4</td>\n",
       "      <td>10</td>\n",
       "    </tr>\n",
       "    <tr>\n",
       "      <th>LENOVO</th>\n",
       "      <td>0</td>\n",
       "      <td>7</td>\n",
       "      <td>0</td>\n",
       "      <td>0</td>\n",
       "      <td>2</td>\n",
       "      <td>2</td>\n",
       "      <td>0</td>\n",
       "      <td>25</td>\n",
       "      <td>22</td>\n",
       "    </tr>\n",
       "    <tr>\n",
       "      <th>MICROSOFT</th>\n",
       "      <td>2</td>\n",
       "      <td>0</td>\n",
       "      <td>0</td>\n",
       "      <td>0</td>\n",
       "      <td>1</td>\n",
       "      <td>0</td>\n",
       "      <td>0</td>\n",
       "      <td>8</td>\n",
       "      <td>4</td>\n",
       "    </tr>\n",
       "    <tr>\n",
       "      <th>MSI</th>\n",
       "      <td>0</td>\n",
       "      <td>0</td>\n",
       "      <td>0</td>\n",
       "      <td>0</td>\n",
       "      <td>0</td>\n",
       "      <td>0</td>\n",
       "      <td>0</td>\n",
       "      <td>0</td>\n",
       "      <td>3</td>\n",
       "    </tr>\n",
       "    <tr>\n",
       "      <th>TOSHIBA</th>\n",
       "      <td>0</td>\n",
       "      <td>2</td>\n",
       "      <td>0</td>\n",
       "      <td>1</td>\n",
       "      <td>0</td>\n",
       "      <td>0</td>\n",
       "      <td>1</td>\n",
       "      <td>6</td>\n",
       "      <td>1</td>\n",
       "    </tr>\n",
       "  </tbody>\n",
       "</table>\n",
       "</div>"
      ],
      "text/plain": [
       "STATE     NEW             USED                \n",
       "SSD SIZE  128 256 512 750  128 180 240 256 512\n",
       "BRAND                                         \n",
       "ACER        0   0   1   0    3   0   0   7  14\n",
       "APPLE       0   0   0   0    3   0   0  15   3\n",
       "ASUS        0   4   5   0    6   0   0   6  16\n",
       "DELL        0   0   1   0    2   0   0  14   7\n",
       "HP          0  14   7   0    2   0   0  19   2\n",
       "HUAWEI      0   1   1   0    0   0   0   4  10\n",
       "LENOVO      0   7   0   0    2   2   0  25  22\n",
       "MICROSOFT   2   0   0   0    1   0   0   8   4\n",
       "MSI         0   0   0   0    0   0   0   0   3\n",
       "TOSHIBA     0   2   0   1    0   0   1   6   1"
      ]
     },
     "execution_count": 85,
     "metadata": {},
     "output_type": "execute_result"
    }
   ],
   "source": [
    "pd.crosstab(data['BRAND'], [data['STATE'], data['SSD SIZE']])"
   ]
  },
  {
   "cell_type": "code",
   "execution_count": 86,
   "id": "037dd007",
   "metadata": {},
   "outputs": [
    {
     "data": {
      "text/html": [
       "<div>\n",
       "<style scoped>\n",
       "    .dataframe tbody tr th:only-of-type {\n",
       "        vertical-align: middle;\n",
       "    }\n",
       "\n",
       "    .dataframe tbody tr th {\n",
       "        vertical-align: top;\n",
       "    }\n",
       "\n",
       "    .dataframe thead tr th {\n",
       "        text-align: left;\n",
       "    }\n",
       "\n",
       "    .dataframe thead tr:last-of-type th {\n",
       "        text-align: right;\n",
       "    }\n",
       "</style>\n",
       "<table border=\"1\" class=\"dataframe\">\n",
       "  <thead>\n",
       "    <tr>\n",
       "      <th>STATE</th>\n",
       "      <th>NEW</th>\n",
       "      <th>USED</th>\n",
       "    </tr>\n",
       "    <tr>\n",
       "      <th>HDD SIZE</th>\n",
       "      <th>0</th>\n",
       "      <th>0</th>\n",
       "    </tr>\n",
       "    <tr>\n",
       "      <th>BRAND</th>\n",
       "      <th></th>\n",
       "      <th></th>\n",
       "    </tr>\n",
       "  </thead>\n",
       "  <tbody>\n",
       "    <tr>\n",
       "      <th>ACER</th>\n",
       "      <td>1</td>\n",
       "      <td>24</td>\n",
       "    </tr>\n",
       "    <tr>\n",
       "      <th>APPLE</th>\n",
       "      <td>0</td>\n",
       "      <td>21</td>\n",
       "    </tr>\n",
       "    <tr>\n",
       "      <th>ASUS</th>\n",
       "      <td>9</td>\n",
       "      <td>28</td>\n",
       "    </tr>\n",
       "    <tr>\n",
       "      <th>DELL</th>\n",
       "      <td>1</td>\n",
       "      <td>23</td>\n",
       "    </tr>\n",
       "    <tr>\n",
       "      <th>HP</th>\n",
       "      <td>21</td>\n",
       "      <td>23</td>\n",
       "    </tr>\n",
       "    <tr>\n",
       "      <th>HUAWEI</th>\n",
       "      <td>2</td>\n",
       "      <td>14</td>\n",
       "    </tr>\n",
       "    <tr>\n",
       "      <th>LENOVO</th>\n",
       "      <td>7</td>\n",
       "      <td>51</td>\n",
       "    </tr>\n",
       "    <tr>\n",
       "      <th>MICROSOFT</th>\n",
       "      <td>2</td>\n",
       "      <td>13</td>\n",
       "    </tr>\n",
       "    <tr>\n",
       "      <th>MSI</th>\n",
       "      <td>0</td>\n",
       "      <td>3</td>\n",
       "    </tr>\n",
       "    <tr>\n",
       "      <th>TOSHIBA</th>\n",
       "      <td>3</td>\n",
       "      <td>8</td>\n",
       "    </tr>\n",
       "  </tbody>\n",
       "</table>\n",
       "</div>"
      ],
      "text/plain": [
       "STATE     NEW USED\n",
       "HDD SIZE    0    0\n",
       "BRAND             \n",
       "ACER        1   24\n",
       "APPLE       0   21\n",
       "ASUS        9   28\n",
       "DELL        1   23\n",
       "HP         21   23\n",
       "HUAWEI      2   14\n",
       "LENOVO      7   51\n",
       "MICROSOFT   2   13\n",
       "MSI         0    3\n",
       "TOSHIBA     3    8"
      ]
     },
     "execution_count": 86,
     "metadata": {},
     "output_type": "execute_result"
    }
   ],
   "source": [
    "pd.crosstab(data['BRAND'], [data['STATE'], data['HDD SIZE']])"
   ]
  },
  {
   "cell_type": "code",
   "execution_count": 87,
   "id": "272c9b4b",
   "metadata": {},
   "outputs": [
    {
     "data": {
      "text/html": [
       "<div>\n",
       "<style scoped>\n",
       "    .dataframe tbody tr th:only-of-type {\n",
       "        vertical-align: middle;\n",
       "    }\n",
       "\n",
       "    .dataframe tbody tr th {\n",
       "        vertical-align: top;\n",
       "    }\n",
       "\n",
       "    .dataframe thead th {\n",
       "        text-align: right;\n",
       "    }\n",
       "</style>\n",
       "<table border=\"1\" class=\"dataframe\">\n",
       "  <thead>\n",
       "    <tr style=\"text-align: right;\">\n",
       "      <th></th>\n",
       "      <th>BRAND</th>\n",
       "      <th>ACER</th>\n",
       "      <th>APPLE</th>\n",
       "      <th>ASUS</th>\n",
       "      <th>DELL</th>\n",
       "      <th>HP</th>\n",
       "      <th>HUAWEI</th>\n",
       "      <th>LENOVO</th>\n",
       "      <th>MICROSOFT</th>\n",
       "      <th>MSI</th>\n",
       "      <th>TOSHIBA</th>\n",
       "    </tr>\n",
       "    <tr>\n",
       "      <th>STATE</th>\n",
       "      <th>CPU FAMILY</th>\n",
       "      <th></th>\n",
       "      <th></th>\n",
       "      <th></th>\n",
       "      <th></th>\n",
       "      <th></th>\n",
       "      <th></th>\n",
       "      <th></th>\n",
       "      <th></th>\n",
       "      <th></th>\n",
       "      <th></th>\n",
       "    </tr>\n",
       "  </thead>\n",
       "  <tbody>\n",
       "    <tr>\n",
       "      <th rowspan=\"4\" valign=\"top\">NEW</th>\n",
       "      <th>G</th>\n",
       "      <td>1</td>\n",
       "      <td>0</td>\n",
       "      <td>2</td>\n",
       "      <td>1</td>\n",
       "      <td>3</td>\n",
       "      <td>0</td>\n",
       "      <td>0</td>\n",
       "      <td>0</td>\n",
       "      <td>0</td>\n",
       "      <td>1</td>\n",
       "    </tr>\n",
       "    <tr>\n",
       "      <th>G1</th>\n",
       "      <td>0</td>\n",
       "      <td>0</td>\n",
       "      <td>1</td>\n",
       "      <td>0</td>\n",
       "      <td>0</td>\n",
       "      <td>0</td>\n",
       "      <td>0</td>\n",
       "      <td>0</td>\n",
       "      <td>0</td>\n",
       "      <td>0</td>\n",
       "    </tr>\n",
       "    <tr>\n",
       "      <th>H</th>\n",
       "      <td>0</td>\n",
       "      <td>0</td>\n",
       "      <td>2</td>\n",
       "      <td>0</td>\n",
       "      <td>0</td>\n",
       "      <td>0</td>\n",
       "      <td>0</td>\n",
       "      <td>0</td>\n",
       "      <td>0</td>\n",
       "      <td>0</td>\n",
       "    </tr>\n",
       "    <tr>\n",
       "      <th>U</th>\n",
       "      <td>0</td>\n",
       "      <td>0</td>\n",
       "      <td>4</td>\n",
       "      <td>0</td>\n",
       "      <td>18</td>\n",
       "      <td>2</td>\n",
       "      <td>7</td>\n",
       "      <td>2</td>\n",
       "      <td>0</td>\n",
       "      <td>2</td>\n",
       "    </tr>\n",
       "    <tr>\n",
       "      <th rowspan=\"9\" valign=\"top\">USED</th>\n",
       "      <th>G</th>\n",
       "      <td>3</td>\n",
       "      <td>1</td>\n",
       "      <td>1</td>\n",
       "      <td>3</td>\n",
       "      <td>1</td>\n",
       "      <td>0</td>\n",
       "      <td>4</td>\n",
       "      <td>1</td>\n",
       "      <td>0</td>\n",
       "      <td>0</td>\n",
       "    </tr>\n",
       "    <tr>\n",
       "      <th>G1</th>\n",
       "      <td>1</td>\n",
       "      <td>0</td>\n",
       "      <td>0</td>\n",
       "      <td>0</td>\n",
       "      <td>1</td>\n",
       "      <td>0</td>\n",
       "      <td>0</td>\n",
       "      <td>0</td>\n",
       "      <td>0</td>\n",
       "      <td>0</td>\n",
       "    </tr>\n",
       "    <tr>\n",
       "      <th>G7</th>\n",
       "      <td>0</td>\n",
       "      <td>0</td>\n",
       "      <td>1</td>\n",
       "      <td>0</td>\n",
       "      <td>0</td>\n",
       "      <td>0</td>\n",
       "      <td>0</td>\n",
       "      <td>0</td>\n",
       "      <td>0</td>\n",
       "      <td>0</td>\n",
       "    </tr>\n",
       "    <tr>\n",
       "      <th>H</th>\n",
       "      <td>2</td>\n",
       "      <td>2</td>\n",
       "      <td>0</td>\n",
       "      <td>2</td>\n",
       "      <td>0</td>\n",
       "      <td>0</td>\n",
       "      <td>1</td>\n",
       "      <td>0</td>\n",
       "      <td>2</td>\n",
       "      <td>0</td>\n",
       "    </tr>\n",
       "    <tr>\n",
       "      <th>H</th>\n",
       "      <td>0</td>\n",
       "      <td>0</td>\n",
       "      <td>0</td>\n",
       "      <td>1</td>\n",
       "      <td>0</td>\n",
       "      <td>0</td>\n",
       "      <td>0</td>\n",
       "      <td>0</td>\n",
       "      <td>0</td>\n",
       "      <td>0</td>\n",
       "    </tr>\n",
       "    <tr>\n",
       "      <th>HQ</th>\n",
       "      <td>0</td>\n",
       "      <td>6</td>\n",
       "      <td>0</td>\n",
       "      <td>0</td>\n",
       "      <td>2</td>\n",
       "      <td>0</td>\n",
       "      <td>0</td>\n",
       "      <td>0</td>\n",
       "      <td>0</td>\n",
       "      <td>0</td>\n",
       "    </tr>\n",
       "    <tr>\n",
       "      <th>M</th>\n",
       "      <td>0</td>\n",
       "      <td>0</td>\n",
       "      <td>0</td>\n",
       "      <td>0</td>\n",
       "      <td>0</td>\n",
       "      <td>0</td>\n",
       "      <td>0</td>\n",
       "      <td>0</td>\n",
       "      <td>0</td>\n",
       "      <td>1</td>\n",
       "    </tr>\n",
       "    <tr>\n",
       "      <th>U</th>\n",
       "      <td>18</td>\n",
       "      <td>9</td>\n",
       "      <td>26</td>\n",
       "      <td>17</td>\n",
       "      <td>19</td>\n",
       "      <td>14</td>\n",
       "      <td>46</td>\n",
       "      <td>12</td>\n",
       "      <td>1</td>\n",
       "      <td>7</td>\n",
       "    </tr>\n",
       "    <tr>\n",
       "      <th>YU</th>\n",
       "      <td>0</td>\n",
       "      <td>3</td>\n",
       "      <td>0</td>\n",
       "      <td>0</td>\n",
       "      <td>0</td>\n",
       "      <td>0</td>\n",
       "      <td>0</td>\n",
       "      <td>0</td>\n",
       "      <td>0</td>\n",
       "      <td>0</td>\n",
       "    </tr>\n",
       "  </tbody>\n",
       "</table>\n",
       "</div>"
      ],
      "text/plain": [
       "BRAND             ACER  APPLE  ASUS  DELL  HP  HUAWEI  LENOVO  MICROSOFT  MSI  \\\n",
       "STATE CPU FAMILY                                                                \n",
       "NEW   G              1      0     2     1   3       0       0          0    0   \n",
       "      G1             0      0     1     0   0       0       0          0    0   \n",
       "      H              0      0     2     0   0       0       0          0    0   \n",
       "      U              0      0     4     0  18       2       7          2    0   \n",
       "USED  G              3      1     1     3   1       0       4          1    0   \n",
       "      G1             1      0     0     0   1       0       0          0    0   \n",
       "      G7             0      0     1     0   0       0       0          0    0   \n",
       "      H              2      2     0     2   0       0       1          0    2   \n",
       "      H              0      0     0     1   0       0       0          0    0   \n",
       "      HQ             0      6     0     0   2       0       0          0    0   \n",
       "      M              0      0     0     0   0       0       0          0    0   \n",
       "      U             18      9    26    17  19      14      46         12    1   \n",
       "      YU             0      3     0     0   0       0       0          0    0   \n",
       "\n",
       "BRAND             TOSHIBA  \n",
       "STATE CPU FAMILY           \n",
       "NEW   G                 1  \n",
       "      G1                0  \n",
       "      H                 0  \n",
       "      U                 2  \n",
       "USED  G                 0  \n",
       "      G1                0  \n",
       "      G7                0  \n",
       "      H                 0  \n",
       "      H                 0  \n",
       "      HQ                0  \n",
       "      M                 1  \n",
       "      U                 7  \n",
       "      YU                0  "
      ]
     },
     "execution_count": 87,
     "metadata": {},
     "output_type": "execute_result"
    }
   ],
   "source": [
    "pd.crosstab([data['STATE'], data['CPU FAMILY']], data['BRAND'])"
   ]
  },
  {
   "cell_type": "markdown",
   "id": "831b69e0",
   "metadata": {},
   "source": [
    "## Using Matplotlib and SeaBorn to graphically represent our data "
   ]
  },
  {
   "cell_type": "markdown",
   "id": "85750ea5",
   "metadata": {},
   "source": [
    "# Defining a corelation matrix"
   ]
  },
  {
   "cell_type": "code",
   "execution_count": 88,
   "id": "9a30916c",
   "metadata": {},
   "outputs": [],
   "source": [
    "corelation = data.corr()"
   ]
  },
  {
   "cell_type": "markdown",
   "id": "19533f68",
   "metadata": {},
   "source": [
    "### RELATIONSHIP ANALYSIS"
   ]
  },
  {
   "cell_type": "code",
   "execution_count": 89,
   "id": "4959fe26",
   "metadata": {},
   "outputs": [
    {
     "data": {
      "image/png": "[encoded data removed]",
      "text/plain": [
       "<Figure size 432x288 with 2 Axes>"
      ]
     },
     "metadata": {
      "needs_background": "light"
     },
     "output_type": "display_data"
    }
   ],
   "source": [
    "sns.heatmap(corelation, xticklabels = corelation.columns, yticklabels = corelation.columns\n",
    "           , annot = True);"
   ]
  },
  {
   "cell_type": "markdown",
   "id": "c26350a1",
   "metadata": {},
   "source": [
    "## PAIRPLOT RELATIONSHIP"
   ]
  },
  {
   "cell_type": "code",
   "execution_count": 90,
   "id": "945a5392",
   "metadata": {},
   "outputs": [
    {
     "data": {
      "image/png": "[encoded data removed]",
      "text/plain": [
       "<Figure size 1260x1260 with 56 Axes>"
      ]
     },
     "metadata": {
      "needs_background": "light"
     },
     "output_type": "display_data"
    }
   ],
   "source": [
    "sns.pairplot(data);"
   ]
  },
  {
   "cell_type": "markdown",
   "id": "99c35c46",
   "metadata": {},
   "source": [
    "## SCATTER PLOT"
   ]
  },
  {
   "cell_type": "code",
   "execution_count": 91,
   "id": "9eaeecd3",
   "metadata": {},
   "outputs": [
    {
     "data": {
      "image/png": "[encoded data removed]",
      "text/plain": [
       "<Figure size 454.625x360 with 1 Axes>"
      ]
     },
     "metadata": {
      "needs_background": "light"
     },
     "output_type": "display_data"
    }
   ],
   "source": [
    "sns.relplot(x = 'CPU GENERATION', y = 'RAM SIZE', hue = 'BRAND', data = data);"
   ]
  },
  {
   "cell_type": "code",
   "execution_count": 92,
   "id": "0388fe20",
   "metadata": {},
   "outputs": [
    {
     "data": {
      "image/png": "[encoded data removed]",
      "text/plain": [
       "<Figure size 454.625x360 with 1 Axes>"
      ]
     },
     "metadata": {
      "needs_background": "light"
     },
     "output_type": "display_data"
    }
   ],
   "source": [
    "sns.relplot(x = 'SSD SIZE', y = 'HDD SIZE', hue = 'BRAND', data = data);"
   ]
  },
  {
   "cell_type": "code",
   "execution_count": 93,
   "id": "e135f0d0",
   "metadata": {},
   "outputs": [
    {
     "data": {
      "image/png": "[encoded data removed]",
      "text/plain": [
       "<Figure size 454.625x360 with 1 Axes>"
      ]
     },
     "metadata": {
      "needs_background": "light"
     },
     "output_type": "display_data"
    }
   ],
   "source": [
    "sns.relplot(x = 'CPU GENERATION', y = 'CPU BRAND', hue = 'BRAND', data = data);"
   ]
  },
  {
   "cell_type": "code",
   "execution_count": 94,
   "id": "58f495b2",
   "metadata": {},
   "outputs": [
    {
     "data": {
      "image/png": "[encoded data removed]",
      "text/plain": [
       "<Figure size 454.625x360 with 1 Axes>"
      ]
     },
     "metadata": {
      "needs_background": "light"
     },
     "output_type": "display_data"
    }
   ],
   "source": [
    "sns.relplot(x = 'RAM SIZE', y = 'RAM(DDR) TYPE', hue = 'BRAND', data = data);"
   ]
  },
  {
   "cell_type": "code",
   "execution_count": 95,
   "id": "cd15875e",
   "metadata": {},
   "outputs": [
    {
     "data": {
      "image/png": "[encoded data removed]",
      "text/plain": [
       "<Figure size 454.625x360 with 1 Axes>"
      ]
     },
     "metadata": {
      "needs_background": "light"
     },
     "output_type": "display_data"
    }
   ],
   "source": [
    "sns.catplot(x = 'CPU BRAND', y = 'CPU GENERATION', hue = 'BRAND', data = data);"
   ]
  },
  {
   "cell_type": "markdown",
   "id": "db7a3ecc",
   "metadata": {},
   "source": [
    "## PLOTTING A DISTPLOT"
   ]
  },
  {
   "cell_type": "code",
   "execution_count": 96,
   "id": "9a1bfd5a",
   "metadata": {},
   "outputs": [
    {
     "name": "stderr",
     "output_type": "stream",
     "text": [
      "/Applications/anaconda3/lib/python3.9/site-packages/seaborn/distributions.py:2619: FutureWarning: `distplot` is a deprecated function and will be removed in a future version. Please adapt your code to use either `displot` (a figure-level function with similar flexibility) or `histplot` (an axes-level function for histograms).\n",
      "  warnings.warn(msg, FutureWarning)\n"
     ]
    },
    {
     "data": {
      "image/png": "[encoded data removed]",
      "text/plain": [
       "<Figure size 432x288 with 1 Axes>"
      ]
     },
     "metadata": {
      "needs_background": "light"
     },
     "output_type": "display_data"
    }
   ],
   "source": [
    "sns.distplot(data['CPU GENERATION'])\n",
    "\n",
    "plt.show();"
   ]
  },
  {
   "cell_type": "code",
   "execution_count": 97,
   "id": "63607a2f",
   "metadata": {},
   "outputs": [
    {
     "name": "stderr",
     "output_type": "stream",
     "text": [
      "/Applications/anaconda3/lib/python3.9/site-packages/seaborn/distributions.py:2619: FutureWarning: `distplot` is a deprecated function and will be removed in a future version. Please adapt your code to use either `displot` (a figure-level function with similar flexibility) or `histplot` (an axes-level function for histograms).\n",
      "  warnings.warn(msg, FutureWarning)\n"
     ]
    },
    {
     "data": {
      "image/png": "[encoded data removed]",
      "text/plain": [
       "<Figure size 432x288 with 1 Axes>"
      ]
     },
     "metadata": {
      "needs_background": "light"
     },
     "output_type": "display_data"
    }
   ],
   "source": [
    "arr = data['SSD SIZE']\n",
    "sns.distplot([arr], hist=True)\n",
    "plt.show();"
   ]
  },
  {
   "cell_type": "code",
   "execution_count": 98,
   "id": "c59bb0d5",
   "metadata": {},
   "outputs": [
    {
     "name": "stderr",
     "output_type": "stream",
     "text": [
      "/Applications/anaconda3/lib/python3.9/site-packages/seaborn/distributions.py:2619: FutureWarning: `distplot` is a deprecated function and will be removed in a future version. Please adapt your code to use either `displot` (a figure-level function with similar flexibility) or `histplot` (an axes-level function for histograms).\n",
      "  warnings.warn(msg, FutureWarning)\n"
     ]
    },
    {
     "data": {
      "image/png": "[encoded data removed]",
      "text/plain": [
       "<Figure size 432x288 with 1 Axes>"
      ]
     },
     "metadata": {
      "needs_background": "light"
     },
     "output_type": "display_data"
    }
   ],
   "source": [
    "price = data['PRICE']\n",
    "sns.distplot([price], hist=True)\n",
    "plt.show();"
   ]
  },
  {
   "cell_type": "markdown",
   "id": "e8003c44",
   "metadata": {},
   "source": [
    "## PLOTTING A HISTOGRAM"
   ]
  },
  {
   "cell_type": "code",
   "execution_count": 99,
   "id": "c6a000f3",
   "metadata": {},
   "outputs": [
    {
     "data": {
      "image/png": "[encoded data removed]",
      "text/plain": [
       "<Figure size 432x288 with 1 Axes>"
      ]
     },
     "metadata": {
      "needs_background": "light"
     },
     "output_type": "display_data"
    }
   ],
   "source": [
    "data.hist(column = 'SCREEN SIZE');"
   ]
  },
  {
   "cell_type": "code",
   "execution_count": 100,
   "id": "2263053c",
   "metadata": {},
   "outputs": [
    {
     "data": {
      "image/png": "[encoded data removed]",
      "text/plain": [
       "<Figure size 432x288 with 1 Axes>"
      ]
     },
     "metadata": {
      "needs_background": "light"
     },
     "output_type": "display_data"
    }
   ],
   "source": [
    "data.hist(column = 'SSD SIZE');"
   ]
  },
  {
   "cell_type": "code",
   "execution_count": 101,
   "id": "688b7d97",
   "metadata": {},
   "outputs": [
    {
     "data": {
      "image/png": "[encoded data removed]",
      "text/plain": [
       "<Figure size 432x288 with 1 Axes>"
      ]
     },
     "metadata": {
      "needs_background": "light"
     },
     "output_type": "display_data"
    }
   ],
   "source": [
    "data.hist(column = 'HDD SIZE');"
   ]
  },
  {
   "cell_type": "code",
   "execution_count": 102,
   "id": "839d68b9",
   "metadata": {},
   "outputs": [
    {
     "data": {
      "image/png": "[encoded data removed]",
      "text/plain": [
       "<Figure size 432x288 with 1 Axes>"
      ]
     },
     "metadata": {
      "needs_background": "light"
     },
     "output_type": "display_data"
    }
   ],
   "source": [
    "data.hist(column = 'RAM SIZE', by = 'RAM(DDR) TYPE');"
   ]
  },
  {
   "cell_type": "code",
   "execution_count": 103,
   "id": "2ee89f1e",
   "metadata": {},
   "outputs": [
    {
     "data": {
      "image/png": "[encoded data removed]",
      "text/plain": [
       "<Figure size 432x288 with 12 Axes>"
      ]
     },
     "metadata": {
      "needs_background": "light"
     },
     "output_type": "display_data"
    }
   ],
   "source": [
    "data.hist(column = 'CPU GENERATION', by = 'BRAND');"
   ]
  },
  {
   "cell_type": "code",
   "execution_count": 104,
   "id": "17e20b25",
   "metadata": {},
   "outputs": [
    {
     "data": {
      "image/png": "[encoded data removed]",
      "text/plain": [
       "<Figure size 432x288 with 12 Axes>"
      ]
     },
     "metadata": {
      "needs_background": "light"
     },
     "output_type": "display_data"
    }
   ],
   "source": [
    "data.hist(column = 'GPU BRAND', by = 'BRAND');"
   ]
  },
  {
   "cell_type": "code",
   "execution_count": 105,
   "id": "6a64d8b7",
   "metadata": {},
   "outputs": [
    {
     "data": {
      "image/png": "[encoded data removed]",
      "text/plain": [
       "<Figure size 432x288 with 12 Axes>"
      ]
     },
     "metadata": {
      "needs_background": "light"
     },
     "output_type": "display_data"
    }
   ],
   "source": [
    "data.hist(column = 'SSD SIZE', by = 'BRAND');"
   ]
  },
  {
   "cell_type": "code",
   "execution_count": 106,
   "id": "9374531c",
   "metadata": {},
   "outputs": [
    {
     "data": {
      "image/png": "[encoded data removed]",
      "text/plain": [
       "<Figure size 432x288 with 12 Axes>"
      ]
     },
     "metadata": {
      "needs_background": "light"
     },
     "output_type": "display_data"
    }
   ],
   "source": [
    "data.hist(column = 'HDD SIZE', by = 'BRAND');"
   ]
  },
  {
   "cell_type": "code",
   "execution_count": 107,
   "id": "70c3f9e1",
   "metadata": {},
   "outputs": [
    {
     "data": {
      "image/png": "[encoded data removed]",
      "text/plain": [
       "<Figure size 432x288 with 12 Axes>"
      ]
     },
     "metadata": {
      "needs_background": "light"
     },
     "output_type": "display_data"
    }
   ],
   "source": [
    "data.hist(column = 'RAM SIZE', by = 'BRAND');"
   ]
  },
  {
   "cell_type": "code",
   "execution_count": 108,
   "id": "02012f03",
   "metadata": {},
   "outputs": [
    {
     "data": {
      "image/png": "[encoded data removed]",
      "text/plain": [
       "<Figure size 432x288 with 4 Axes>"
      ]
     },
     "metadata": {
      "needs_background": "light"
     },
     "output_type": "display_data"
    }
   ],
   "source": [
    "data.hist(column = 'CPU GENERATION', by = 'CPU BRAND');"
   ]
  },
  {
   "cell_type": "code",
   "execution_count": 109,
   "id": "8dcf72c3",
   "metadata": {},
   "outputs": [
    {
     "data": {
      "image/png": "[encoded data removed]",
      "text/plain": [
       "<Figure size 432x288 with 6 Axes>"
      ]
     },
     "metadata": {
      "needs_background": "light"
     },
     "output_type": "display_data"
    }
   ],
   "source": [
    "data.hist(column = 'CPU GENERATION', by = 'CPU CORE');"
   ]
  },
  {
   "cell_type": "markdown",
   "id": "4102b268",
   "metadata": {},
   "source": [
    "## PIE PLOT"
   ]
  },
  {
   "cell_type": "code",
   "execution_count": 110,
   "id": "535bd036",
   "metadata": {},
   "outputs": [
    {
     "data": {
      "image/png": "[encoded data removed]",
      "text/plain": [
       "<Figure size 432x288 with 1 Axes>"
      ]
     },
     "metadata": {},
     "output_type": "display_data"
    }
   ],
   "source": [
    "data['BRAND'].value_counts().plot.pie();"
   ]
  },
  {
   "cell_type": "code",
   "execution_count": 111,
   "id": "721edf4f",
   "metadata": {},
   "outputs": [
    {
     "data": {
      "image/png": "[encoded data removed]",
      "text/plain": [
       "<Figure size 432x288 with 1 Axes>"
      ]
     },
     "metadata": {},
     "output_type": "display_data"
    }
   ],
   "source": [
    "data['STATE'].value_counts().plot.pie();"
   ]
  },
  {
   "cell_type": "code",
   "execution_count": 112,
   "id": "39edd40e",
   "metadata": {},
   "outputs": [
    {
     "data": {
      "image/png": "[encoded data removed]",
      "text/plain": [
       "<Figure size 432x288 with 1 Axes>"
      ]
     },
     "metadata": {},
     "output_type": "display_data"
    }
   ],
   "source": [
    "data['DISK TYPE'].value_counts().plot.pie();"
   ]
  },
  {
   "cell_type": "code",
   "execution_count": 113,
   "id": "f3689650",
   "metadata": {},
   "outputs": [
    {
     "data": {
      "image/png": "[encoded data removed]",
      "text/plain": [
       "<Figure size 432x288 with 1 Axes>"
      ]
     },
     "metadata": {},
     "output_type": "display_data"
    }
   ],
   "source": [
    "data['RAM(DDR) TYPE'].value_counts().plot.pie();"
   ]
  },
  {
   "cell_type": "code",
   "execution_count": 114,
   "id": "4837b40e",
   "metadata": {},
   "outputs": [
    {
     "data": {
      "image/png": "[encoded data removed]",
      "text/plain": [
       "<Figure size 432x288 with 1 Axes>"
      ]
     },
     "metadata": {},
     "output_type": "display_data"
    }
   ],
   "source": [
    "data['CPU BRAND'].value_counts().plot.pie();"
   ]
  },
  {
   "cell_type": "code",
   "execution_count": 115,
   "id": "9824aba6",
   "metadata": {},
   "outputs": [
    {
     "data": {
      "image/png": "[encoded data removed]",
      "text/plain": [
       "<Figure size 432x288 with 1 Axes>"
      ]
     },
     "metadata": {},
     "output_type": "display_data"
    }
   ],
   "source": [
    "data['SSD SIZE'].value_counts().plot.pie();"
   ]
  },
  {
   "cell_type": "code",
   "execution_count": 116,
   "id": "5a5451bd",
   "metadata": {},
   "outputs": [
    {
     "data": {
      "image/png": "[encoded data removed]",
      "text/plain": [
       "<Figure size 432x288 with 1 Axes>"
      ]
     },
     "metadata": {},
     "output_type": "display_data"
    }
   ],
   "source": [
    "data['HDD SIZE'].value_counts().plot.pie();"
   ]
  },
  {
   "cell_type": "code",
   "execution_count": 117,
   "id": "30986445",
   "metadata": {},
   "outputs": [
    {
     "data": {
      "image/png": "[encoded data removed]",
      "text/plain": [
       "<Figure size 432x288 with 1 Axes>"
      ]
     },
     "metadata": {},
     "output_type": "display_data"
    }
   ],
   "source": [
    "data['RAM SIZE'].value_counts().plot.pie();"
   ]
  },
  {
   "cell_type": "code",
   "execution_count": 118,
   "id": "97b7bc20",
   "metadata": {},
   "outputs": [
    {
     "data": {
      "image/png": "[encoded data removed]",
      "text/plain": [
       "<Figure size 432x288 with 1 Axes>"
      ]
     },
     "metadata": {},
     "output_type": "display_data"
    }
   ],
   "source": [
    "data['GPU BRAND'].value_counts().plot.pie();"
   ]
  },
  {
   "cell_type": "code",
   "execution_count": null,
   "id": "1a80f3b1",
   "metadata": {},
   "outputs": [],
   "source": []
  }
 ],
 "metadata": {
  "kernelspec": {
   "display_name": "Python 3 (ipykernel)",
   "language": "python",
   "name": "python3"
  },
  "language_info": {
   "codemirror_mode": {
    "name": "ipython",
    "version": 3
   },
   "file_extension": ".py",
   "mimetype": "text/x-python",
   "name": "python",
   "nbconvert_exporter": "python",
   "pygments_lexer": "ipython3",
   "version": "3.9.12"
  }
 },
 "nbformat": 4,
 "nbformat_minor": 5
}
