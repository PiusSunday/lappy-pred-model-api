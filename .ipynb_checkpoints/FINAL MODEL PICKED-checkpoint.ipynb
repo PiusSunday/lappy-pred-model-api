{
 "cells": [
  {
   "cell_type": "markdown",
   "id": "717abb98",
   "metadata": {},
   "source": [
    "# Importing Libraries"
   ]
  },
  {
   "cell_type": "code",
   "execution_count": 27,
   "id": "079327fd",
   "metadata": {},
   "outputs": [],
   "source": [
    "import pandas as pd\n",
    "import numpy as np"
   ]
  },
  {
   "cell_type": "code",
   "execution_count": 28,
   "id": "e7db9ea2",
   "metadata": {},
   "outputs": [
    {
     "name": "stdout",
     "output_type": "stream",
     "text": [
      "1.1.1\n"
     ]
    }
   ],
   "source": [
    "import sklearn\n",
    "print(sklearn.__version__)"
   ]
  },
  {
   "cell_type": "code",
   "execution_count": null,
   "id": "e0a36b90",
   "metadata": {},
   "outputs": [],
   "source": []
  },
  {
   "cell_type": "markdown",
   "id": "b0d30266",
   "metadata": {},
   "source": [
    "## Importing Datasets"
   ]
  },
  {
   "cell_type": "code",
   "execution_count": 29,
   "id": "685e5091",
   "metadata": {},
   "outputs": [],
   "source": [
    "dataset= pd.read_excel('last_time_data.xlsx')"
   ]
  },
  {
   "cell_type": "code",
   "execution_count": 30,
   "id": "e3fc4b9f",
   "metadata": {},
   "outputs": [
    {
     "data": {
      "text/plain": [
       "(254, 16)"
      ]
     },
     "execution_count": 30,
     "metadata": {},
     "output_type": "execute_result"
    }
   ],
   "source": [
    "dataset.shape"
   ]
  },
  {
   "cell_type": "markdown",
   "id": "d67e0c48",
   "metadata": {},
   "source": [
    "## Select the important columns necessary for training/building our model"
   ]
  },
  {
   "cell_type": "code",
   "execution_count": 31,
   "id": "0c84372b",
   "metadata": {},
   "outputs": [],
   "source": [
    "dataset = dataset[['BRAND', 'CPU BRAND', 'CPU CORE', 'CPU GENERATION', 'CPU FAMILY', 'RAM SIZE', 'RAM(DDR) TYPE', 'DISK TYPE', 'SSD SIZE',\n",
    "                   'HDD SIZE', 'GPU BRAND', 'GPU TYPE', 'SCREEN SIZE', 'SCREEN RESOLUTION', 'STATE', 'PRICE']]"
   ]
  },
  {
   "cell_type": "code",
   "execution_count": null,
   "id": "803cb380",
   "metadata": {},
   "outputs": [],
   "source": []
  },
  {
   "cell_type": "markdown",
   "id": "62092b8c",
   "metadata": {},
   "source": [
    "## Convert the DataType of categorical datas"
   ]
  },
  {
   "cell_type": "code",
   "execution_count": 32,
   "id": "2376461c",
   "metadata": {},
   "outputs": [],
   "source": [
    "## CATEGORICALS\n",
    "dataset[\"BRAND\"] = dataset[\"BRAND\"].astype(\"str\")\n",
    "dataset[\"CPU BRAND\"] = dataset[\"CPU BRAND\"].astype(\"str\")\n",
    "dataset[\"CPU CORE\"] = dataset[\"CPU CORE\"].astype(\"str\")\n",
    "dataset[\"CPU FAMILY\"] = dataset[\"CPU FAMILY\"].astype(\"str\")\n",
    "dataset[\"DISK TYPE\"] = dataset[\"DISK TYPE\"].astype(\"str\")\n",
    "dataset[\"GPU BRAND\"] = dataset[\"GPU BRAND\"].astype(\"str\")\n",
    "dataset[\"GPU TYPE\"] = dataset[\"GPU TYPE\"].astype(\"str\")\n",
    "dataset[\"SCREEN RESOLUTION\"] = dataset[\"SCREEN RESOLUTION\"].astype(\"str\")\n",
    "dataset[\"STATE\"] = dataset[\"STATE\"].astype(\"str\")"
   ]
  },
  {
   "cell_type": "code",
   "execution_count": null,
   "id": "c9b1fe62",
   "metadata": {},
   "outputs": [],
   "source": []
  },
  {
   "cell_type": "code",
   "execution_count": 33,
   "id": "e21d493a",
   "metadata": {},
   "outputs": [
    {
     "data": {
      "text/plain": [
       "pandas.core.frame.DataFrame"
      ]
     },
     "execution_count": 33,
     "metadata": {},
     "output_type": "execute_result"
    }
   ],
   "source": [
    "type(dataset)"
   ]
  },
  {
   "cell_type": "code",
   "execution_count": 34,
   "id": "437902b7",
   "metadata": {},
   "outputs": [
    {
     "data": {
      "text/plain": [
       "array([['ACER', 'Intel', 'Core i3', ..., 'HD', 'USED', 79000],\n",
       "       ['ACER', 'Intel', 'Core i3', ..., 'HD', 'USED', 79000],\n",
       "       ['ACER', 'Intel', 'Core i3', ..., 'FHD', 'USED', 88000],\n",
       "       ...,\n",
       "       ['LENOVO', 'AMD', 'Ryzen 7', ..., 'FHD', 'USED', 112000],\n",
       "       ['LENOVO', 'AMD', 'Ryzen 7', ..., 'FHD', 'USED', 135000],\n",
       "       ['LENOVO', 'AMD', 'Ryzen 7', ..., 'FHD', 'USED', 135000]],\n",
       "      dtype=object)"
      ]
     },
     "execution_count": 34,
     "metadata": {},
     "output_type": "execute_result"
    }
   ],
   "source": [
    "dataset.values"
   ]
  },
  {
   "cell_type": "code",
   "execution_count": null,
   "id": "0eb08b85",
   "metadata": {},
   "outputs": [],
   "source": []
  },
  {
   "cell_type": "markdown",
   "id": "8e5e8a35",
   "metadata": {},
   "source": [
    "## Selecting the X and y columns"
   ]
  },
  {
   "cell_type": "code",
   "execution_count": 35,
   "id": "0e91135e",
   "metadata": {},
   "outputs": [],
   "source": [
    "X = dataset.drop('PRICE', axis = 'columns')"
   ]
  },
  {
   "cell_type": "code",
   "execution_count": 36,
   "id": "4f4d75a8",
   "metadata": {},
   "outputs": [
    {
     "data": {
      "text/plain": [
       "(254, 15)"
      ]
     },
     "execution_count": 36,
     "metadata": {},
     "output_type": "execute_result"
    }
   ],
   "source": [
    "X.shape"
   ]
  },
  {
   "cell_type": "code",
   "execution_count": 37,
   "id": "348d96f5",
   "metadata": {},
   "outputs": [],
   "source": [
    "y = dataset.PRICE"
   ]
  },
  {
   "cell_type": "code",
   "execution_count": 38,
   "id": "a5e207dd",
   "metadata": {},
   "outputs": [
    {
     "data": {
      "text/plain": [
       "(254, 1)"
      ]
     },
     "execution_count": 38,
     "metadata": {},
     "output_type": "execute_result"
    }
   ],
   "source": [
    "y = y.values.reshape((254,1))\n",
    "y.shape"
   ]
  },
  {
   "cell_type": "code",
   "execution_count": null,
   "id": "6d1b6e52",
   "metadata": {},
   "outputs": [],
   "source": []
  },
  {
   "cell_type": "code",
   "execution_count": null,
   "id": "8eea0c0e",
   "metadata": {},
   "outputs": [],
   "source": []
  },
  {
   "cell_type": "code",
   "execution_count": null,
   "id": "23afa2c5",
   "metadata": {},
   "outputs": [],
   "source": []
  },
  {
   "cell_type": "markdown",
   "id": "0e6524ee",
   "metadata": {},
   "source": [
    "## Splitting data into Train and Test sets"
   ]
  },
  {
   "cell_type": "code",
   "execution_count": 39,
   "id": "9933a7b9",
   "metadata": {},
   "outputs": [],
   "source": [
    "from sklearn.model_selection import train_test_split"
   ]
  },
  {
   "cell_type": "code",
   "execution_count": 40,
   "id": "f3c388a9",
   "metadata": {},
   "outputs": [],
   "source": [
    "X_train, X_test, y_train, y_test = train_test_split(X, y, test_size = 0.2, random_state = 0)"
   ]
  },
  {
   "cell_type": "code",
   "execution_count": null,
   "id": "a431972d",
   "metadata": {},
   "outputs": [],
   "source": []
  },
  {
   "cell_type": "code",
   "execution_count": null,
   "id": "2e7556c2",
   "metadata": {},
   "outputs": [],
   "source": []
  },
  {
   "cell_type": "code",
   "execution_count": 41,
   "id": "d800d1d3",
   "metadata": {},
   "outputs": [],
   "source": [
    "categorical_data = dataset[['BRAND', 'CPU BRAND', 'CPU CORE', 'CPU FAMILY', 'DISK TYPE',\n",
    "               'GPU BRAND', 'GPU TYPE', 'SCREEN RESOLUTION', 'STATE']]"
   ]
  },
  {
   "cell_type": "code",
   "execution_count": 42,
   "id": "012e71a7",
   "metadata": {},
   "outputs": [],
   "source": [
    "categorical_columns = ['BRAND', 'CPU BRAND', 'CPU CORE', 'CPU FAMILY', 'DISK TYPE',\n",
    "               'GPU BRAND', 'GPU TYPE', 'SCREEN RESOLUTION', 'STATE']"
   ]
  },
  {
   "cell_type": "code",
   "execution_count": null,
   "id": "0e28ba59",
   "metadata": {},
   "outputs": [],
   "source": []
  },
  {
   "cell_type": "code",
   "execution_count": 43,
   "id": "b94cf610",
   "metadata": {},
   "outputs": [],
   "source": [
    "numerical_data = dataset[['CPU GENERATION', 'RAM SIZE', 'RAM(DDR) TYPE', 'SSD SIZE', 'HDD SIZE', 'SCREEN SIZE']]"
   ]
  },
  {
   "cell_type": "code",
   "execution_count": 44,
   "id": "8a73a7a2",
   "metadata": {},
   "outputs": [],
   "source": [
    "numerical_columns = ['CPU GENERATION', 'RAM SIZE', 'RAM(DDR) TYPE', 'SSD SIZE', 'HDD SIZE', 'SCREEN SIZE']"
   ]
  },
  {
   "cell_type": "code",
   "execution_count": null,
   "id": "97ca7245",
   "metadata": {},
   "outputs": [],
   "source": []
  },
  {
   "cell_type": "code",
   "execution_count": null,
   "id": "a5788dec",
   "metadata": {},
   "outputs": [],
   "source": []
  },
  {
   "cell_type": "code",
   "execution_count": null,
   "id": "7f9509ba",
   "metadata": {},
   "outputs": [],
   "source": []
  },
  {
   "cell_type": "markdown",
   "id": "202f225b",
   "metadata": {},
   "source": [
    "## Importing Libraries"
   ]
  },
  {
   "cell_type": "code",
   "execution_count": 45,
   "id": "475f0c00",
   "metadata": {},
   "outputs": [],
   "source": [
    "from sklearn.preprocessing import OneHotEncoder\n",
    "\n",
    "from sklearn.preprocessing import StandardScaler\n",
    "\n",
    "from sklearn.preprocessing import MinMaxScaler\n",
    "\n",
    "from sklearn.compose import ColumnTransformer\n",
    "\n",
    "from sklearn.pipeline import Pipeline\n",
    "\n",
    "from sklearn.model_selection import GridSearchCV"
   ]
  },
  {
   "cell_type": "code",
   "execution_count": null,
   "id": "9a16d8bb",
   "metadata": {},
   "outputs": [],
   "source": []
  },
  {
   "cell_type": "code",
   "execution_count": null,
   "id": "1dd11850",
   "metadata": {},
   "outputs": [],
   "source": []
  },
  {
   "cell_type": "code",
   "execution_count": null,
   "id": "3f48ed45",
   "metadata": {},
   "outputs": [],
   "source": []
  },
  {
   "cell_type": "markdown",
   "id": "bd741328",
   "metadata": {},
   "source": [
    "## Normalization and Standardization"
   ]
  },
  {
   "cell_type": "code",
   "execution_count": 46,
   "id": "3647b4d0",
   "metadata": {},
   "outputs": [],
   "source": [
    "num_pipeline = Pipeline([\n",
    "    (\"MinMax_Scaler\", MinMaxScaler()),\n",
    "    ('Standered_Scaler', StandardScaler())\n",
    "])"
   ]
  },
  {
   "cell_type": "code",
   "execution_count": null,
   "id": "a9af2e27",
   "metadata": {},
   "outputs": [],
   "source": []
  },
  {
   "cell_type": "code",
   "execution_count": null,
   "id": "40627d10",
   "metadata": {},
   "outputs": [],
   "source": []
  },
  {
   "cell_type": "markdown",
   "id": "0876d85a",
   "metadata": {},
   "source": [
    "## ColumnTransformer and OneHotEncoding"
   ]
  },
  {
   "cell_type": "code",
   "execution_count": 47,
   "id": "82684d50",
   "metadata": {},
   "outputs": [],
   "source": [
    "column_trans = ColumnTransformer(transformers = [\n",
    "    (\"numerical\", num_pipeline, numerical_columns),\n",
    "    (\"categorical\", OneHotEncoder(sparse = False, handle_unknown='ignore'), categorical_columns),\n",
    "    ], remainder = 'passthrough')"
   ]
  },
  {
   "cell_type": "code",
   "execution_count": null,
   "id": "adc7de46",
   "metadata": {},
   "outputs": [],
   "source": []
  },
  {
   "cell_type": "code",
   "execution_count": null,
   "id": "8c2b323d",
   "metadata": {},
   "outputs": [],
   "source": []
  },
  {
   "cell_type": "code",
   "execution_count": null,
   "id": "6a1bbc89",
   "metadata": {},
   "outputs": [],
   "source": []
  },
  {
   "cell_type": "markdown",
   "id": "edb623b1",
   "metadata": {},
   "source": [
    "## Model Building"
   ]
  },
  {
   "cell_type": "code",
   "execution_count": 48,
   "id": "b6670289",
   "metadata": {},
   "outputs": [],
   "source": [
    "from sklearn.metrics import explained_variance_score, mean_absolute_error, r2_score, mean_squared_error"
   ]
  },
  {
   "cell_type": "code",
   "execution_count": 49,
   "id": "812fd18c",
   "metadata": {},
   "outputs": [],
   "source": [
    "from time import time\n",
    "\n",
    "from sklearn.linear_model import Ridge"
   ]
  },
  {
   "cell_type": "code",
   "execution_count": 50,
   "id": "8d887dd9",
   "metadata": {},
   "outputs": [],
   "source": [
    "regressors = [\n",
    "    Ridge()\n",
    "]"
   ]
  },
  {
   "cell_type": "code",
   "execution_count": 51,
   "id": "ba3a4085",
   "metadata": {},
   "outputs": [
    {
     "name": "stdout",
     "output_type": "stream",
     "text": [
      "Ridge()\n",
      "\t Training Time: 0.018s\n",
      "\t Prediction Time: 0.000s\n",
      "\t Explained Variance Score: 0.8693716553165736\n",
      "\t Mean Absolute Error: 11293.331735078144\n",
      "\t Mean Squared Error: 228015503.55729485\n",
      "\t R2 Score: 0.8677919202632969\n",
      "\n"
     ]
    }
   ],
   "source": [
    "# head = 10\n",
    "for model in regressors:    # [:head]:\n",
    "    start = time()\n",
    "    \n",
    "    \n",
    "    pipe = Pipeline([\n",
    "    ('step1', column_trans),\n",
    "    ('step2', model)\n",
    "    ])\n",
    "    \n",
    "    \n",
    "    pipe.fit(X_train, y_train)\n",
    "\n",
    "\n",
    "    train_time = time() - start\n",
    "    start = time()\n",
    "    predict_time = time()-start\n",
    "    \n",
    "    y_pred = pipe.predict(X_test)\n",
    "    \n",
    "    print(model)\n",
    "    print(\"\\t Training Time: %0.3fs\" % train_time)\n",
    "    print(\"\\t Prediction Time: %0.3fs\" % predict_time)\n",
    "    print(\"\\t Explained Variance Score:\", explained_variance_score(y_test, y_pred))\n",
    "    print(\"\\t Mean Absolute Error:\", mean_absolute_error(y_test, y_pred))\n",
    "    print(\"\\t Mean Squared Error:\", mean_squared_error(y_test, y_pred))\n",
    "    print(\"\\t Root Mean Squared Error:\", mean_squared_error(y_test, y_pred, squared = False))\n",
    "    print(\"\\t R2 Score:\", r2_score(y_test, y_pred))\n",
    "    print()"
   ]
  },
  {
   "cell_type": "code",
   "execution_count": null,
   "id": "1c1ea25e",
   "metadata": {},
   "outputs": [],
   "source": []
  },
  {
   "cell_type": "code",
   "execution_count": null,
   "id": "dbc8d8f0",
   "metadata": {},
   "outputs": [],
   "source": []
  },
  {
   "cell_type": "markdown",
   "id": "9aee4868",
   "metadata": {},
   "source": [
    "## Model Tuning with HyperParameters"
   ]
  },
  {
   "cell_type": "code",
   "execution_count": 52,
   "id": "77e1ac68",
   "metadata": {},
   "outputs": [
    {
     "name": "stdout",
     "output_type": "stream",
     "text": [
      "R2 score:  0.8628348586267759\n",
      "MAE:  11603.640645346744\n",
      "RMSE:  15380.663391066044\n"
     ]
    }
   ],
   "source": [
    "params = {'alpha': np.arange(3,4,0.001)}\n",
    "\n",
    "ridge = Ridge()\n",
    "\n",
    "step2 = GridSearchCV(ridge, params, cv = 5, scoring = 'neg_mean_absolute_error')\n",
    "\n",
    "pipe = Pipeline([\n",
    "    ('step1', column_trans),\n",
    "    ('step2', step2)\n",
    "])\n",
    "\n",
    "pipe.fit(X_train,y_train)\n",
    "\n",
    "y_pred = pipe.predict(X_test)\n",
    "\n",
    "print('R2 score: ', r2_score(y_test,y_pred))\n",
    "print('MAE: ', mean_absolute_error(y_test,y_pred))\n",
    "print('RMSE: ', mean_squared_error(y_test, y_pred, squared = False))"
   ]
  },
  {
   "cell_type": "code",
   "execution_count": null,
   "id": "88ceae7a",
   "metadata": {},
   "outputs": [],
   "source": []
  },
  {
   "cell_type": "code",
   "execution_count": null,
   "id": "d3987cce",
   "metadata": {},
   "outputs": [],
   "source": []
  },
  {
   "cell_type": "code",
   "execution_count": null,
   "id": "54908404",
   "metadata": {},
   "outputs": [],
   "source": []
  },
  {
   "cell_type": "code",
   "execution_count": 53,
   "id": "22fdafbf",
   "metadata": {},
   "outputs": [],
   "source": [
    "# options = {\n",
    "#            'BRAND': ['HP'], \n",
    "#            'CPU BRAND': ['Intel'], \n",
    "#            'CPU CORE': ['Core i7'], \n",
    "#            'CPU GENERATION': [7], \n",
    "#            'CPU FAMILY': ['U'], \n",
    "#            'RAM SIZE': [16], \n",
    "#            'RAM(DDR) TYPE': [3],\n",
    "#            'DISK TYPE': ['BOTH'], \n",
    "#            'SSD SIZE': [512], \n",
    "#            'HDD SIZE': [500],\n",
    "#            'GPU BRAND': ['NVIDIA'], \n",
    "#            'GPU TYPE': ['GeForce GTX 1050'], \n",
    "#            'SCREEN SIZE': [14.0],\n",
    "#            'SCREEN RESOLUTION': ['HD'], \n",
    "#            'STATE': ['NEW']\n",
    "#     }\n",
    "# xteristics = pd.DataFrame(data = options)\n",
    "# xteristics"
   ]
  },
  {
   "cell_type": "code",
   "execution_count": null,
   "id": "b3656383",
   "metadata": {},
   "outputs": [],
   "source": []
  },
  {
   "cell_type": "code",
   "execution_count": 54,
   "id": "fdc9eafb",
   "metadata": {},
   "outputs": [],
   "source": [
    "# sunny = pipe.predict(xteristics)\n",
    "# sunny = sunny.round()\n",
    "# print(\"Predicted Price: \", sunny, \"DA\")"
   ]
  },
  {
   "cell_type": "code",
   "execution_count": null,
   "id": "7668be2f",
   "metadata": {},
   "outputs": [],
   "source": []
  },
  {
   "cell_type": "code",
   "execution_count": null,
   "id": "7923fc53",
   "metadata": {},
   "outputs": [],
   "source": []
  },
  {
   "cell_type": "markdown",
   "id": "17557bd2",
   "metadata": {},
   "source": [
    "## Exporting the model with Pickle"
   ]
  },
  {
   "cell_type": "code",
   "execution_count": 55,
   "id": "e4c60b1c",
   "metadata": {},
   "outputs": [],
   "source": [
    "import pickle\n",
    "pickle.dump(pipe, open('model.pkl', 'wb'))"
   ]
  }
 ],
 "metadata": {
  "kernelspec": {
   "display_name": "Python 3 (ipykernel)",
   "language": "python",
   "name": "python3"
  },
  "language_info": {
   "codemirror_mode": {
    "name": "ipython",
    "version": 3
   },
   "file_extension": ".py",
   "mimetype": "text/x-python",
   "name": "python",
   "nbconvert_exporter": "python",
   "pygments_lexer": "ipython3",
   "version": "3.9.15"
  }
 },
 "nbformat": 4,
 "nbformat_minor": 5
}
